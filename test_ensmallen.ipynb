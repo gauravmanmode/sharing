{
 "cells": [
  {
   "cell_type": "code",
   "execution_count": 10,
   "id": "c51291b8-adb3-478f-82eb-28676515b15e",
   "metadata": {},
   "outputs": [],
   "source": [
    "%load_ext autoreload\n",
    "%autoreload 2"
   ]
  },
  {
   "cell_type": "markdown",
   "id": "9addcc61",
   "metadata": {},
   "source": [
    "# Benchmark"
   ]
  },
  {
   "cell_type": "code",
   "execution_count": null,
   "id": "8694d5d9",
   "metadata": {},
   "outputs": [
    {
     "data": {
      "application/vnd.plotly.v1+json": {
       "config": {
        "plotlyServerURL": "https://plot.ly"
       },
       "data": [
        {
         "hovertemplate": "algorithm=EnsmallenLBFGS<br>alpha=%{x}<br>0=%{y}<extra></extra>",
         "legendgroup": "EnsmallenLBFGS",
         "line": {
          "color": "#636efa",
          "dash": "solid"
         },
         "marker": {
          "symbol": "circle"
         },
         "mode": "lines",
         "name": "EnsmallenLBFGS",
         "orientation": "v",
         "showlegend": true,
         "type": "scatter",
         "x": [
          8.0000000001,
          9.0000000001,
          10.0000000001,
          13.000000000099998,
          16.0000000001,
          18.0000000001,
          20.0000000001,
          22.0000000001,
          24.0000000001,
          27.0000000001,
          30.0000000001,
          31.000000000100002,
          32.0000000001,
          37.0000000001,
          42.0000000001,
          59.0000000001,
          76.0000000001,
          78.0000000001,
          80.0000000001,
          85.0000000001,
          90.0000000001,
          96.5000000001,
          103.0000000001,
          128.5000000001,
          154.0000000001,
          216.0000000001,
          278.0000000001,
          285.5000000001,
          293.0000000001,
          344.5000000001,
          396.0000000001,
          617.0000000001,
          838.0000000001,
          858.9500000001026,
          879.9000000001051
         ],
         "xaxis": "x",
         "y": [
          0.1,
          0.1,
          0.2,
          0.2,
          0.3,
          0.3,
          0.4,
          0.4,
          0.5,
          0.5,
          0.6,
          0.6,
          0.6,
          0.6,
          0.7,
          0.7,
          0.8,
          0.8,
          0.8,
          0.8,
          0.9,
          0.9,
          0.9,
          0.9,
          1,
          1,
          1,
          1,
          1,
          1,
          1,
          1,
          1,
          1,
          1
         ],
         "yaxis": "y"
        },
        {
         "hovertemplate": "algorithm=ScipyCOBYLA<br>alpha=%{x}<br>0=%{y}<extra></extra>",
         "legendgroup": "ScipyCOBYLA",
         "line": {
          "color": "#EF553B",
          "dash": "solid"
         },
         "marker": {
          "symbol": "circle"
         },
         "mode": "lines",
         "name": "ScipyCOBYLA",
         "orientation": "v",
         "showlegend": true,
         "type": "scatter",
         "x": [
          8.0000000001,
          9.0000000001,
          10.0000000001,
          13.000000000099998,
          16.0000000001,
          18.0000000001,
          20.0000000001,
          22.0000000001,
          24.0000000001,
          27.0000000001,
          30.0000000001,
          31.000000000100002,
          32.0000000001,
          37.0000000001,
          42.0000000001,
          59.0000000001,
          76.0000000001,
          78.0000000001,
          80.0000000001,
          85.0000000001,
          90.0000000001,
          96.5000000001,
          103.0000000001,
          128.5000000001,
          154.0000000001,
          216.0000000001,
          278.0000000001,
          285.5000000001,
          293.0000000001,
          344.5000000001,
          396.0000000001,
          617.0000000001,
          838.0000000001,
          858.9500000001026,
          879.9000000001051
         ],
         "xaxis": "x",
         "y": [
          0,
          0,
          0,
          0,
          0,
          0,
          0,
          0,
          0,
          0,
          0,
          0,
          0.2,
          0.2,
          0.2,
          0.2,
          0.2,
          0.2,
          0.3,
          0.3,
          0.3,
          0.3,
          0.4,
          0.4,
          0.4,
          0.4,
          0.5,
          0.5,
          0.6,
          0.6,
          0.7,
          0.7,
          0.8,
          0.8,
          0.8
         ],
         "yaxis": "y"
        }
       ],
       "layout": {
        "height": 300,
        "legend": {
         "title": {
          "text": "algorithm"
         },
         "tracegroupgap": 0
        },
        "margin": {
         "b": 10,
         "l": 10,
         "r": 10,
         "t": 30
        },
        "shapes": [
         {
          "type": "line",
          "x0": 0,
          "x1": 1,
          "xref": "x domain",
          "y0": 1,
          "y1": 1,
          "yref": "y"
         }
        ],
        "template": {
         "data": {
          "bar": [
           {
            "error_x": {
             "color": "rgb(36,36,36)"
            },
            "error_y": {
             "color": "rgb(36,36,36)"
            },
            "marker": {
             "line": {
              "color": "white",
              "width": 0.5
             },
             "pattern": {
              "fillmode": "overlay",
              "size": 10,
              "solidity": 0.2
             }
            },
            "type": "bar"
           }
          ],
          "barpolar": [
           {
            "marker": {
             "line": {
              "color": "white",
              "width": 0.5
             },
             "pattern": {
              "fillmode": "overlay",
              "size": 10,
              "solidity": 0.2
             }
            },
            "type": "barpolar"
           }
          ],
          "carpet": [
           {
            "aaxis": {
             "endlinecolor": "rgb(36,36,36)",
             "gridcolor": "white",
             "linecolor": "white",
             "minorgridcolor": "white",
             "startlinecolor": "rgb(36,36,36)"
            },
            "baxis": {
             "endlinecolor": "rgb(36,36,36)",
             "gridcolor": "white",
             "linecolor": "white",
             "minorgridcolor": "white",
             "startlinecolor": "rgb(36,36,36)"
            },
            "type": "carpet"
           }
          ],
          "choropleth": [
           {
            "colorbar": {
             "outlinewidth": 1,
             "tickcolor": "rgb(36,36,36)",
             "ticks": "outside"
            },
            "type": "choropleth"
           }
          ],
          "contour": [
           {
            "colorbar": {
             "outlinewidth": 1,
             "tickcolor": "rgb(36,36,36)",
             "ticks": "outside"
            },
            "colorscale": [
             [
              0,
              "#440154"
             ],
             [
              0.1111111111111111,
              "#482878"
             ],
             [
              0.2222222222222222,
              "#3e4989"
             ],
             [
              0.3333333333333333,
              "#31688e"
             ],
             [
              0.4444444444444444,
              "#26828e"
             ],
             [
              0.5555555555555556,
              "#1f9e89"
             ],
             [
              0.6666666666666666,
              "#35b779"
             ],
             [
              0.7777777777777778,
              "#6ece58"
             ],
             [
              0.8888888888888888,
              "#b5de2b"
             ],
             [
              1,
              "#fde725"
             ]
            ],
            "type": "contour"
           }
          ],
          "contourcarpet": [
           {
            "colorbar": {
             "outlinewidth": 1,
             "tickcolor": "rgb(36,36,36)",
             "ticks": "outside"
            },
            "type": "contourcarpet"
           }
          ],
          "heatmap": [
           {
            "colorbar": {
             "outlinewidth": 1,
             "tickcolor": "rgb(36,36,36)",
             "ticks": "outside"
            },
            "colorscale": [
             [
              0,
              "#440154"
             ],
             [
              0.1111111111111111,
              "#482878"
             ],
             [
              0.2222222222222222,
              "#3e4989"
             ],
             [
              0.3333333333333333,
              "#31688e"
             ],
             [
              0.4444444444444444,
              "#26828e"
             ],
             [
              0.5555555555555556,
              "#1f9e89"
             ],
             [
              0.6666666666666666,
              "#35b779"
             ],
             [
              0.7777777777777778,
              "#6ece58"
             ],
             [
              0.8888888888888888,
              "#b5de2b"
             ],
             [
              1,
              "#fde725"
             ]
            ],
            "type": "heatmap"
           }
          ],
          "heatmapgl": [
           {
            "colorbar": {
             "outlinewidth": 1,
             "tickcolor": "rgb(36,36,36)",
             "ticks": "outside"
            },
            "colorscale": [
             [
              0,
              "#440154"
             ],
             [
              0.1111111111111111,
              "#482878"
             ],
             [
              0.2222222222222222,
              "#3e4989"
             ],
             [
              0.3333333333333333,
              "#31688e"
             ],
             [
              0.4444444444444444,
              "#26828e"
             ],
             [
              0.5555555555555556,
              "#1f9e89"
             ],
             [
              0.6666666666666666,
              "#35b779"
             ],
             [
              0.7777777777777778,
              "#6ece58"
             ],
             [
              0.8888888888888888,
              "#b5de2b"
             ],
             [
              1,
              "#fde725"
             ]
            ],
            "type": "heatmapgl"
           }
          ],
          "histogram": [
           {
            "marker": {
             "line": {
              "color": "white",
              "width": 0.6
             }
            },
            "type": "histogram"
           }
          ],
          "histogram2d": [
           {
            "colorbar": {
             "outlinewidth": 1,
             "tickcolor": "rgb(36,36,36)",
             "ticks": "outside"
            },
            "colorscale": [
             [
              0,
              "#440154"
             ],
             [
              0.1111111111111111,
              "#482878"
             ],
             [
              0.2222222222222222,
              "#3e4989"
             ],
             [
              0.3333333333333333,
              "#31688e"
             ],
             [
              0.4444444444444444,
              "#26828e"
             ],
             [
              0.5555555555555556,
              "#1f9e89"
             ],
             [
              0.6666666666666666,
              "#35b779"
             ],
             [
              0.7777777777777778,
              "#6ece58"
             ],
             [
              0.8888888888888888,
              "#b5de2b"
             ],
             [
              1,
              "#fde725"
             ]
            ],
            "type": "histogram2d"
           }
          ],
          "histogram2dcontour": [
           {
            "colorbar": {
             "outlinewidth": 1,
             "tickcolor": "rgb(36,36,36)",
             "ticks": "outside"
            },
            "colorscale": [
             [
              0,
              "#440154"
             ],
             [
              0.1111111111111111,
              "#482878"
             ],
             [
              0.2222222222222222,
              "#3e4989"
             ],
             [
              0.3333333333333333,
              "#31688e"
             ],
             [
              0.4444444444444444,
              "#26828e"
             ],
             [
              0.5555555555555556,
              "#1f9e89"
             ],
             [
              0.6666666666666666,
              "#35b779"
             ],
             [
              0.7777777777777778,
              "#6ece58"
             ],
             [
              0.8888888888888888,
              "#b5de2b"
             ],
             [
              1,
              "#fde725"
             ]
            ],
            "type": "histogram2dcontour"
           }
          ],
          "mesh3d": [
           {
            "colorbar": {
             "outlinewidth": 1,
             "tickcolor": "rgb(36,36,36)",
             "ticks": "outside"
            },
            "type": "mesh3d"
           }
          ],
          "parcoords": [
           {
            "line": {
             "colorbar": {
              "outlinewidth": 1,
              "tickcolor": "rgb(36,36,36)",
              "ticks": "outside"
             }
            },
            "type": "parcoords"
           }
          ],
          "pie": [
           {
            "automargin": true,
            "type": "pie"
           }
          ],
          "scatter": [
           {
            "fillpattern": {
             "fillmode": "overlay",
             "size": 10,
             "solidity": 0.2
            },
            "type": "scatter"
           }
          ],
          "scatter3d": [
           {
            "line": {
             "colorbar": {
              "outlinewidth": 1,
              "tickcolor": "rgb(36,36,36)",
              "ticks": "outside"
             }
            },
            "marker": {
             "colorbar": {
              "outlinewidth": 1,
              "tickcolor": "rgb(36,36,36)",
              "ticks": "outside"
             }
            },
            "type": "scatter3d"
           }
          ],
          "scattercarpet": [
           {
            "marker": {
             "colorbar": {
              "outlinewidth": 1,
              "tickcolor": "rgb(36,36,36)",
              "ticks": "outside"
             }
            },
            "type": "scattercarpet"
           }
          ],
          "scattergeo": [
           {
            "marker": {
             "colorbar": {
              "outlinewidth": 1,
              "tickcolor": "rgb(36,36,36)",
              "ticks": "outside"
             }
            },
            "type": "scattergeo"
           }
          ],
          "scattergl": [
           {
            "marker": {
             "colorbar": {
              "outlinewidth": 1,
              "tickcolor": "rgb(36,36,36)",
              "ticks": "outside"
             }
            },
            "type": "scattergl"
           }
          ],
          "scattermapbox": [
           {
            "marker": {
             "colorbar": {
              "outlinewidth": 1,
              "tickcolor": "rgb(36,36,36)",
              "ticks": "outside"
             }
            },
            "type": "scattermapbox"
           }
          ],
          "scatterpolar": [
           {
            "marker": {
             "colorbar": {
              "outlinewidth": 1,
              "tickcolor": "rgb(36,36,36)",
              "ticks": "outside"
             }
            },
            "type": "scatterpolar"
           }
          ],
          "scatterpolargl": [
           {
            "marker": {
             "colorbar": {
              "outlinewidth": 1,
              "tickcolor": "rgb(36,36,36)",
              "ticks": "outside"
             }
            },
            "type": "scatterpolargl"
           }
          ],
          "scatterternary": [
           {
            "marker": {
             "colorbar": {
              "outlinewidth": 1,
              "tickcolor": "rgb(36,36,36)",
              "ticks": "outside"
             }
            },
            "type": "scatterternary"
           }
          ],
          "surface": [
           {
            "colorbar": {
             "outlinewidth": 1,
             "tickcolor": "rgb(36,36,36)",
             "ticks": "outside"
            },
            "colorscale": [
             [
              0,
              "#440154"
             ],
             [
              0.1111111111111111,
              "#482878"
             ],
             [
              0.2222222222222222,
              "#3e4989"
             ],
             [
              0.3333333333333333,
              "#31688e"
             ],
             [
              0.4444444444444444,
              "#26828e"
             ],
             [
              0.5555555555555556,
              "#1f9e89"
             ],
             [
              0.6666666666666666,
              "#35b779"
             ],
             [
              0.7777777777777778,
              "#6ece58"
             ],
             [
              0.8888888888888888,
              "#b5de2b"
             ],
             [
              1,
              "#fde725"
             ]
            ],
            "type": "surface"
           }
          ],
          "table": [
           {
            "cells": {
             "fill": {
              "color": "rgb(237,237,237)"
             },
             "line": {
              "color": "white"
             }
            },
            "header": {
             "fill": {
              "color": "rgb(217,217,217)"
             },
             "line": {
              "color": "white"
             }
            },
            "type": "table"
           }
          ]
         },
         "layout": {
          "annotationdefaults": {
           "arrowhead": 0,
           "arrowwidth": 1
          },
          "autotypenumbers": "strict",
          "coloraxis": {
           "colorbar": {
            "outlinewidth": 1,
            "tickcolor": "rgb(36,36,36)",
            "ticks": "outside"
           }
          },
          "colorscale": {
           "diverging": [
            [
             0,
             "rgb(103,0,31)"
            ],
            [
             0.1,
             "rgb(178,24,43)"
            ],
            [
             0.2,
             "rgb(214,96,77)"
            ],
            [
             0.3,
             "rgb(244,165,130)"
            ],
            [
             0.4,
             "rgb(253,219,199)"
            ],
            [
             0.5,
             "rgb(247,247,247)"
            ],
            [
             0.6,
             "rgb(209,229,240)"
            ],
            [
             0.7,
             "rgb(146,197,222)"
            ],
            [
             0.8,
             "rgb(67,147,195)"
            ],
            [
             0.9,
             "rgb(33,102,172)"
            ],
            [
             1,
             "rgb(5,48,97)"
            ]
           ],
           "sequential": [
            [
             0,
             "#440154"
            ],
            [
             0.1111111111111111,
             "#482878"
            ],
            [
             0.2222222222222222,
             "#3e4989"
            ],
            [
             0.3333333333333333,
             "#31688e"
            ],
            [
             0.4444444444444444,
             "#26828e"
            ],
            [
             0.5555555555555556,
             "#1f9e89"
            ],
            [
             0.6666666666666666,
             "#35b779"
            ],
            [
             0.7777777777777778,
             "#6ece58"
            ],
            [
             0.8888888888888888,
             "#b5de2b"
            ],
            [
             1,
             "#fde725"
            ]
           ],
           "sequentialminus": [
            [
             0,
             "#440154"
            ],
            [
             0.1111111111111111,
             "#482878"
            ],
            [
             0.2222222222222222,
             "#3e4989"
            ],
            [
             0.3333333333333333,
             "#31688e"
            ],
            [
             0.4444444444444444,
             "#26828e"
            ],
            [
             0.5555555555555556,
             "#1f9e89"
            ],
            [
             0.6666666666666666,
             "#35b779"
            ],
            [
             0.7777777777777778,
             "#6ece58"
            ],
            [
             0.8888888888888888,
             "#b5de2b"
            ],
            [
             1,
             "#fde725"
            ]
           ]
          },
          "colorway": [
           "#1F77B4",
           "#FF7F0E",
           "#2CA02C",
           "#D62728",
           "#9467BD",
           "#8C564B",
           "#E377C2",
           "#7F7F7F",
           "#BCBD22",
           "#17BECF"
          ],
          "font": {
           "color": "rgb(36,36,36)"
          },
          "geo": {
           "bgcolor": "white",
           "lakecolor": "white",
           "landcolor": "white",
           "showlakes": true,
           "showland": true,
           "subunitcolor": "white"
          },
          "hoverlabel": {
           "align": "left"
          },
          "hovermode": "closest",
          "mapbox": {
           "style": "light"
          },
          "paper_bgcolor": "white",
          "plot_bgcolor": "white",
          "polar": {
           "angularaxis": {
            "gridcolor": "rgb(232,232,232)",
            "linecolor": "rgb(36,36,36)",
            "showgrid": false,
            "showline": true,
            "ticks": "outside"
           },
           "bgcolor": "white",
           "radialaxis": {
            "gridcolor": "rgb(232,232,232)",
            "linecolor": "rgb(36,36,36)",
            "showgrid": false,
            "showline": true,
            "ticks": "outside"
           }
          },
          "scene": {
           "xaxis": {
            "backgroundcolor": "white",
            "gridcolor": "rgb(232,232,232)",
            "gridwidth": 2,
            "linecolor": "rgb(36,36,36)",
            "showbackground": true,
            "showgrid": false,
            "showline": true,
            "ticks": "outside",
            "zeroline": false,
            "zerolinecolor": "rgb(36,36,36)"
           },
           "yaxis": {
            "backgroundcolor": "white",
            "gridcolor": "rgb(232,232,232)",
            "gridwidth": 2,
            "linecolor": "rgb(36,36,36)",
            "showbackground": true,
            "showgrid": false,
            "showline": true,
            "ticks": "outside",
            "zeroline": false,
            "zerolinecolor": "rgb(36,36,36)"
           },
           "zaxis": {
            "backgroundcolor": "white",
            "gridcolor": "rgb(232,232,232)",
            "gridwidth": 2,
            "linecolor": "rgb(36,36,36)",
            "showbackground": true,
            "showgrid": false,
            "showline": true,
            "ticks": "outside",
            "zeroline": false,
            "zerolinecolor": "rgb(36,36,36)"
           }
          },
          "shapedefaults": {
           "fillcolor": "black",
           "line": {
            "width": 0
           },
           "opacity": 0.3
          },
          "ternary": {
           "aaxis": {
            "gridcolor": "rgb(232,232,232)",
            "linecolor": "rgb(36,36,36)",
            "showgrid": false,
            "showline": true,
            "ticks": "outside"
           },
           "baxis": {
            "gridcolor": "rgb(232,232,232)",
            "linecolor": "rgb(36,36,36)",
            "showgrid": false,
            "showline": true,
            "ticks": "outside"
           },
           "bgcolor": "white",
           "caxis": {
            "gridcolor": "rgb(232,232,232)",
            "linecolor": "rgb(36,36,36)",
            "showgrid": false,
            "showline": true,
            "ticks": "outside"
           }
          },
          "title": {
           "x": 0.05
          },
          "xaxis": {
           "automargin": true,
           "gridcolor": "rgb(232,232,232)",
           "linecolor": "rgb(36,36,36)",
           "showgrid": false,
           "showline": true,
           "ticks": "outside",
           "title": {
            "standoff": 15
           },
           "zeroline": false,
           "zerolinecolor": "rgb(36,36,36)"
          },
          "yaxis": {
           "automargin": true,
           "gridcolor": "rgb(232,232,232)",
           "linecolor": "rgb(36,36,36)",
           "showgrid": false,
           "showline": true,
           "ticks": "outside",
           "title": {
            "standoff": 15
           },
           "zeroline": false,
           "zerolinecolor": "rgb(36,36,36)"
          }
         }
        },
        "title": {},
        "width": 500,
        "xaxis": {
         "anchor": "y",
         "domain": [
          0,
          1
         ],
         "title": {
          "text": "Number of Function Evaluations"
         }
        },
        "yaxis": {
         "anchor": "x",
         "domain": [
          0,
          1
         ],
         "title": {
          "text": "Share of Problems Solved"
         }
        }
       }
      }
     },
     "metadata": {},
     "output_type": "display_data"
    }
   ],
   "source": [
    "import optimagic as om\n",
    "problems = om.get_benchmark_problems(\"example\")\n",
    "a= om.algorithms.EnsmallenLBFGS\n",
    "b = om.algos.scipy_cobyla\n",
    "optimizers = {\n",
    "    a,\n",
    "    b,\n",
    "}\n",
    "results = om.run_benchmark(\n",
    "    problems, \n",
    "    optimizers\n",
    ")\n",
    "# a = list(results.keys())[0]\n",
    "# results[a]\n",
    "\n",
    "fig = om.profile_plot(\n",
    "    problems = problems,\n",
    "    results=results,\n",
    ")\n",
    "fig.show()"
   ]
  },
  {
   "cell_type": "code",
   "execution_count": null,
   "id": "09924a13",
   "metadata": {},
   "outputs": [],
   "source": []
  },
  {
   "cell_type": "markdown",
   "id": "e25d7a4e",
   "metadata": {},
   "source": [
    "# Ensmallen Module"
   ]
  },
  {
   "cell_type": "code",
   "execution_count": 4,
   "id": "6a80f2f7",
   "metadata": {},
   "outputs": [],
   "source": [
    "\"\"\"Implement ensmallen optimizers.\"\"\"\n",
    "\n",
    "from dataclasses import dataclass\n",
    "\n",
    "import numpy as np\n",
    "from numpy.typing import NDArray\n",
    "\n",
    "from optimagic import mark\n",
    "from optimagic.config import IS_PYENSMALLEN_INSTALLED\n",
    "from optimagic.optimization.algo_options import (\n",
    "    CONVERGENCE_FTOL_REL,\n",
    "    CONVERGENCE_GTOL_ABS,\n",
    "    MAX_LINE_SEARCH_STEPS,\n",
    "    STOPPING_MAXITER,\n",
    ")\n",
    "from optimagic.optimization.algorithm import Algorithm, InternalOptimizeResult\n",
    "from optimagic.optimization.internal_optimization_problem import (\n",
    "    InternalOptimizationProblem,\n",
    ")\n",
    "from optimagic.typing import AggregationLevel, NonNegativeFloat, PositiveInt\n",
    "\n",
    "if IS_PYENSMALLEN_INSTALLED:\n",
    "    import pyensmallen as pye\n",
    "\n",
    "LIMITED_MEMORY_MAX_HISTORY = 10\n",
    "\"\"\"Number of memory points to be stored (default 10).\"\"\"\n",
    "MIN_LINE_SEARCH_STEPS = 1e-20\n",
    "\"\"\"The minimum step of the line search.\"\"\"\n",
    "MAX_LINE_SEARCH_TRIALS = 50\n",
    "\"\"\"The maximum number of trials for the line search (before giving up).\"\"\"\n",
    "ARMIJO_CONSTANT = 1e-4\n",
    "\"\"\"Controls the accuracy of the line search routine for determining the Armijo\n",
    "condition.\"\"\"\n",
    "WOLFE_CONDITION = 0.9\n",
    "\"\"\"Parameter for detecting the Wolfe condition.\"\"\"\n",
    "\n",
    "\n",
    "@mark.minimizer(\n",
    "    name=\"ensmallen_lbfgs\",\n",
    "    solver_type=AggregationLevel.SCALAR,\n",
    "    is_available=IS_PYENSMALLEN_INSTALLED,\n",
    "    is_global=False,\n",
    "    needs_jac=True,\n",
    "    needs_hess=False,\n",
    "    supports_parallelism=False,\n",
    "    supports_bounds=False,\n",
    "    supports_linear_constraints=False,\n",
    "    supports_nonlinear_constraints=False,\n",
    "    disable_history=False,\n",
    ")\n",
    "@dataclass(frozen=True)\n",
    "class EnsmallenLBFGS(Algorithm):\n",
    "    limited_memory_max_history: PositiveInt = LIMITED_MEMORY_MAX_HISTORY\n",
    "    stopping_maxiter: PositiveInt = STOPPING_MAXITER\n",
    "    armijo_constant: NonNegativeFloat = ARMIJO_CONSTANT  # needs review\n",
    "    wolfe_condition: NonNegativeFloat = WOLFE_CONDITION  # needs review\n",
    "    convergence_gtol_abs: NonNegativeFloat = CONVERGENCE_GTOL_ABS\n",
    "    convergence_ftol_rel: NonNegativeFloat = CONVERGENCE_FTOL_REL\n",
    "    max_line_search_trials: PositiveInt = MAX_LINE_SEARCH_TRIALS\n",
    "    min_step_for_line_search: NonNegativeFloat = MIN_LINE_SEARCH_STEPS\n",
    "    max_step_for_line_search: NonNegativeFloat = MAX_LINE_SEARCH_STEPS\n",
    "\n",
    "    def _solve_internal_problem(\n",
    "        self, problem: InternalOptimizationProblem, x0: NDArray[np.float64]\n",
    "    ) -> InternalOptimizeResult:\n",
    "        optimizer = pye.L_BFGS(\n",
    "            numBasis=self.limited_memory_max_history,\n",
    "            maxIterations=self.stopping_maxiter,\n",
    "            armijoConstant=self.armijo_constant,\n",
    "            wolfe=self.wolfe_condition,\n",
    "            minGradientNorm=self.convergence_gtol_abs,\n",
    "            factr=self.convergence_ftol_rel,\n",
    "            maxLineSearchTrials=self.max_line_search_trials,\n",
    "            minStep=self.min_step_for_line_search,\n",
    "            maxStep=self.max_step_for_line_search,\n",
    "        )\n",
    "\n",
    "        def objective_function(\n",
    "            x: NDArray[np.float64], grad: NDArray[np.float64]\n",
    "        ) -> np.float64:\n",
    "            grad[:] = problem.jac(x)\n",
    "            return np.float64(problem.fun(x))\n",
    "\n",
    "        raw = optimizer.optimize(objective_function, x0)\n",
    "\n",
    "        res = InternalOptimizeResult(\n",
    "            x=raw,  # only best x is available\n",
    "            fun=problem.fun(raw),  # best f(x) value is not available\n",
    "        )\n",
    "\n",
    "        return res\n"
   ]
  },
  {
   "cell_type": "markdown",
   "id": "3442c2c1",
   "metadata": {},
   "source": [
    "# Test"
   ]
  },
  {
   "cell_type": "code",
   "execution_count": 12,
   "id": "8033a499",
   "metadata": {},
   "outputs": [],
   "source": [
    "import optimagic as om\n",
    "import numpy as np\n",
    "import pyensmallen as pye\n",
    "from optimagic.optimizers.pyensmallen_optimizers import EnsmallenLBFGS\n",
    "\n",
    "x0 = np.arange(5)\n",
    "\n",
    "def sphere(x):\n",
    "    return x@x\n",
    "\n",
    "def sphere_grad(x):\n",
    "    return 2*x\n",
    "\n",
    "def sphere_and_grad(x):\n",
    "    return x@x, 2*x\n"
   ]
  },
  {
   "cell_type": "code",
   "execution_count": 13,
   "id": "6b79d265-dda9-43d3-9c16-9bb4b162c2a1",
   "metadata": {},
   "outputs": [
    {
     "data": {
      "text/plain": [
       "array([0., 0., 0., 0., 0.])"
      ]
     },
     "execution_count": 13,
     "metadata": {},
     "output_type": "execute_result"
    }
   ],
   "source": [
    "res = om.minimize(\n",
    "    fun = sphere,\n",
    "    params = x0,\n",
    "    algorithm = 'scipy_lbfgsb',\n",
    "    bounds = om.Bounds(lower = np.zeros_like(x0))\n",
    "\n",
    ")\n",
    "res.params.round(3)"
   ]
  },
  {
   "cell_type": "code",
   "execution_count": null,
   "id": "abe01222",
   "metadata": {},
   "outputs": [
    {
     "data": {
      "text/plain": [
       "array([0., 0., 0., 0., 0.])"
      ]
     },
     "execution_count": 14,
     "metadata": {},
     "output_type": "execute_result"
    }
   ],
   "source": [
    "algo = EnsmallenLBFGS(stopping_maxiter=100,)\n",
    "# algo = om.algorithms.EnsmallenLBFGS()\n",
    "res = om.minimize(\n",
    "    fun = sphere,\n",
    "    # jac = sphere_grad,\n",
    "    params = x0,\n",
    "    algorithm = algo,\n",
    "    fun_and_jac = sphere_and_grad\n",
    ")\n",
    "res.params.round(3)\n",
    "# om.criterion_plot(res)"
   ]
  },
  {
   "cell_type": "markdown",
   "id": "fc77076e",
   "metadata": {},
   "source": [
    "# Rosenbrock function"
   ]
  },
  {
   "cell_type": "code",
   "execution_count": 6,
   "id": "668552ce",
   "metadata": {},
   "outputs": [
    {
     "data": {
      "text/plain": [
       "10000"
      ]
     },
     "execution_count": 6,
     "metadata": {},
     "output_type": "execute_result"
    }
   ],
   "source": [
    "def rosenbrock(x, a=2):\n",
    "    return np.sum((a - x[:-1]) ** 2 + 100.0 * (x[1:] - x[:-1] ** 2) ** 2)\n",
    "\n",
    "\n",
    "def rosenbrock_gradient(x, a=2):\n",
    "    grad = np.zeros_like(x)\n",
    "    # Gradient for the first element\n",
    "    grad[0] = -2 * (a - x[0]) - 400 * x[0] * (x[1] - x[0] ** 2)\n",
    "    # Gradient for the middle elements\n",
    "    grad[1:-1] = (\n",
    "        -2 * (a - x[1:-1])\n",
    "        + 200 * (x[1:-1] - x[:-2] ** 2)\n",
    "        - 400 * x[1:-1] * (x[2:] - x[1:-1] ** 2)\n",
    "    )\n",
    "    # Gradient for the last element\n",
    "    grad[-1] = 200 * (x[-1] - x[-2] ** 2)\n",
    "    return grad\n",
    "\n",
    "\n",
    "def objective_function(x, grad):\n",
    "    grad[:] = rosenbrock_gradient(x)\n",
    "    return rosenbrock(x)\n",
    "\n",
    "\n",
    "\n",
    "x0 = np.array([-1.2, 1.0])\n",
    "\n",
    "optimizer = pye.L_BFGS()\n",
    "res= optimizer.optimize(objective_function, x0)\n",
    "type(res)\n",
    "optimizer.maxIterations"
   ]
  },
  {
   "cell_type": "markdown",
   "id": "37356c79",
   "metadata": {},
   "source": [
    "# Other"
   ]
  },
  {
   "cell_type": "code",
   "execution_count": 87,
   "id": "606e6632",
   "metadata": {},
   "outputs": [
    {
     "name": "stdout",
     "output_type": "stream",
     "text": [
      "False\n"
     ]
    },
    {
     "data": {
      "text/plain": [
       "array([ 0.00000000e+00, -2.19792142e-07, -4.39584284e-07, -1.26862263e-07,\n",
       "       -6.57024213e-09])"
      ]
     },
     "execution_count": 87,
     "metadata": {},
     "output_type": "execute_result"
    }
   ],
   "source": [
    "algo = om.algos.ensmallen_lbfgs(stopping_maxiter=2)\n",
    "res = om.minimize(\n",
    "    fun = lambda x: x@x,\n",
    "    params = np.arange(5),\n",
    "    algorithm=algo,\n",
    ")\n",
    "expected= np.array([ 0.000000100e+00, -2.197921242e-07, -4.39584284e-07, -1.268622263e-07,-6.57024213e-09])\n",
    "print(np.allclose(res.params, expected))\n",
    "res.x\n"
   ]
  },
  {
   "cell_type": "code",
   "execution_count": null,
   "id": "6484e847",
   "metadata": {},
   "outputs": [],
   "source": []
  },
  {
   "cell_type": "code",
   "execution_count": null,
   "id": "2bd92dbb",
   "metadata": {},
   "outputs": [],
   "source": []
  }
 ],
 "metadata": {
  "kernelspec": {
   "display_name": "optimagic",
   "language": "python",
   "name": "python3"
  },
  "language_info": {
   "codemirror_mode": {
    "name": "ipython",
    "version": 3
   },
   "file_extension": ".py",
   "mimetype": "text/x-python",
   "name": "python",
   "nbconvert_exporter": "python",
   "pygments_lexer": "ipython3",
   "version": "3.10.16"
  }
 },
 "nbformat": 4,
 "nbformat_minor": 5
}
