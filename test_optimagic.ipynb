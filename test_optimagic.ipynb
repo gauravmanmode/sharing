{
 "cells": [
  {
   "cell_type": "code",
   "execution_count": 3,
   "id": "3ecf3b40",
   "metadata": {},
   "outputs": [],
   "source": [
    "%load_ext autoreload\n",
    "%autoreload 2"
   ]
  },
  {
   "cell_type": "code",
   "execution_count": 2,
   "id": "050a279a",
   "metadata": {},
   "outputs": [],
   "source": [
    "import numpy as np\n",
    "import pandas as pd\n",
    "import math\n",
    "\n",
    "import optimagic as om\n",
    "import scipy\n",
    "\n",
    "import warnings\n",
    "warnings.filterwarnings('ignore')"
   ]
  },
  {
   "cell_type": "markdown",
   "id": "363eaf46",
   "metadata": {},
   "source": [
    "# Numerical Optimization"
   ]
  },
  {
   "cell_type": "code",
   "execution_count": null,
   "id": "513e9f45",
   "metadata": {},
   "outputs": [],
   "source": [
    "def square(params):\n",
    "    x = params\n",
    "    return (x-4)**2\n",
    "\n",
    "def sq_gradient(params):\n",
    "    x = params\n",
    "    return 2*(x-4)\n",
    "\n",
    "def sphere(params):\n",
    "    return params @ params"
   ]
  },
  {
   "cell_type": "code",
   "execution_count": null,
   "id": "8000546f",
   "metadata": {},
   "outputs": [],
   "source": [
    "bounds = om.Bounds(lower = 5, upper = 10)\n",
    "lbfgsb_res = om.minimize(\n",
    "    fun=square,\n",
    "    params=9,\n",
    "    algorithm=\"scipy_lbfgsb\",\n",
    "    jac = sq_gradient,\n",
    "    bounds = bounds,\n",
    "    logging = 'my_log.db',\n",
    "    log_options = {'if_database_exists':\"replace\"},\n",
    ")\n",
    "\n",
    "lbfgsb_res.params"
   ]
  },
  {
   "cell_type": "code",
   "execution_count": null,
   "id": "de829bff",
   "metadata": {},
   "outputs": [],
   "source": [
    "lbfgsb_res = om.minimize(\n",
    "    fun=sphere,\n",
    "    params=np.arange(5),\n",
    "    algorithm=\"scipy_lbfgsb\",\n",
    "    constraints = om.FixedConstraint(selector = lambda params : params[4]),\n",
    ")\n",
    "\n",
    "lbfgsb_res.params.round(3)"
   ]
  },
  {
   "cell_type": "code",
   "execution_count": null,
   "id": "ca6f956a",
   "metadata": {},
   "outputs": [],
   "source": [
    "fig = om.params_plot(lbfgsb_res)\n",
    "fig.show()"
   ]
  },
  {
   "cell_type": "code",
   "execution_count": null,
   "id": "14d981b5",
   "metadata": {},
   "outputs": [],
   "source": [
    "lbfgsb_res = om.minimize(\n",
    "    fun=sphere,\n",
    "    params=np.array([0.2,0.8]),\n",
    "    algorithm=\"scipy_lbfgsb\",\n",
    "    constraints = om.ProbabilityConstraint(selector = lambda params : params),\n",
    ")\n",
    "\n",
    "lbfgsb_res.params.round(3)"
   ]
  },
  {
   "cell_type": "code",
   "execution_count": null,
   "id": "b72ea427",
   "metadata": {},
   "outputs": [],
   "source": [
    "nm_res = om.minimize(\n",
    "    fun=square,\n",
    "    params=9,\n",
    "    algorithm=\"scipy_neldermead\",\n",
    "    bounds = bounds,\n",
    ")\n",
    "\n",
    "lbfgsb_res.params"
   ]
  },
  {
   "cell_type": "code",
   "execution_count": null,
   "id": "204341a9",
   "metadata": {},
   "outputs": [],
   "source": [
    "@om.mark.least_squares\n",
    "def ls_sphere(params):\n",
    "    return params"
   ]
  },
  {
   "cell_type": "code",
   "execution_count": null,
   "id": "93db4eda",
   "metadata": {},
   "outputs": [],
   "source": [
    "res = om.minimize(\n",
    "    fun = ls_sphere,\n",
    "    params =  np.arange(5),\n",
    "    algorithm  = 'scipy_neldermead',\n",
    ")\n",
    "res.params.round(3)"
   ]
  },
  {
   "cell_type": "code",
   "execution_count": null,
   "id": "7044bbf4",
   "metadata": {},
   "outputs": [],
   "source": [
    "results = {\"lbfgsb\": lbfgsb_res, \"nelder_mead\": nm_res}\n",
    "om.criterion_plot(results, max_evaluations = 30)"
   ]
  },
  {
   "cell_type": "code",
   "execution_count": null,
   "id": "4febb153",
   "metadata": {},
   "outputs": [],
   "source": [
    "fig = om.params_plot(\n",
    "    lbfgsb_res,\n",
    "    max_evaluations=300,\n",
    "    # optionally select a subset of parameters to plot\n",
    "    selector=lambda params: params,\n",
    ")\n",
    "fig.show(renderer=\"png\")"
   ]
  },
  {
   "cell_type": "markdown",
   "id": "d82affd6",
   "metadata": {},
   "source": [
    "reader = om.OptimizeLogReader(\"my_log.db\")\n",
    "reader.read_history()['params']"
   ]
  },
  {
   "cell_type": "code",
   "execution_count": null,
   "id": "f38b7fb4",
   "metadata": {},
   "outputs": [],
   "source": []
  },
  {
   "cell_type": "markdown",
   "id": "b017ba89",
   "metadata": {},
   "source": [
    "# Numerical Differerntiation"
   ]
  },
  {
   "cell_type": "code",
   "execution_count": null,
   "id": "8fdf9ea8",
   "metadata": {},
   "outputs": [],
   "source": [
    "def sphere(params):\n",
    "    return params @ params"
   ]
  },
  {
   "cell_type": "code",
   "execution_count": null,
   "id": "f3ec89a5",
   "metadata": {},
   "outputs": [],
   "source": [
    "params = np.arange(5)\n",
    "fd = om.first_derivative(\n",
    "    func = sphere,\n",
    "    params = params,\n",
    "    method = 'backward',\n",
    "    bounds = om.Bounds(lower = params, upper = params + 5)\n",
    ")"
   ]
  },
  {
   "cell_type": "code",
   "execution_count": null,
   "id": "89a7e5de",
   "metadata": {},
   "outputs": [],
   "source": [
    "fd.derivative"
   ]
  },
  {
   "cell_type": "code",
   "execution_count": null,
   "id": "25d10fd3",
   "metadata": {},
   "outputs": [],
   "source": [
    "sd = om.second_derivative(\n",
    "    func = sphere,\n",
    "    params = np.arange(5),\n",
    "    n_cores = 6,\n",
    "    method = 'forward',\n",
    ")"
   ]
  },
  {
   "cell_type": "code",
   "execution_count": null,
   "id": "1ce5b593",
   "metadata": {},
   "outputs": [],
   "source": [
    "sd.derivative.round(3)"
   ]
  },
  {
   "cell_type": "markdown",
   "id": "37884f39",
   "metadata": {},
   "source": [
    "##  Objective functions"
   ]
  },
  {
   "cell_type": "code",
   "execution_count": null,
   "id": "064f8faf",
   "metadata": {},
   "outputs": [],
   "source": [
    "import pandas as pd\n",
    "\n",
    "def sphere(params):\n",
    "    return (params[\"value\"]**2).sum()\n",
    "\n",
    "@om.mark.least_squares\n",
    "def ls_spheres(params):\n",
    "    return params['value']\n",
    "params = pd.DataFrame(\n",
    "    data = {\"value\" : [1,2] , \"bounds\" : [0,1]}\n",
    ")\n",
    "om.minimize(\n",
    "    fun = ls_sphere,\n",
    "    params = params,\n",
    "    algorithm = 'scipy_lbfgsb',\n",
    "    bounds = om.Bounds(lower = params['bounds'])\n",
    ").params.round(3)"
   ]
  },
  {
   "cell_type": "code",
   "execution_count": null,
   "id": "cbfef9ee",
   "metadata": {},
   "outputs": [],
   "source": [
    "def shifted_sphere(x, offset):\n",
    "    return (x-offset) @ (x - offset)\n",
    "\n",
    "om.minimize(\n",
    "    fun = shifted_sphere,\n",
    "    params = np.arange(5),\n",
    "    algorithm = 'scipy_lbfgsb',\n",
    "    fun_kwargs = {'offset': 2}\n",
    ").params.round(2)"
   ]
  },
  {
   "cell_type": "code",
   "execution_count": null,
   "id": "c3d9ae24",
   "metadata": {},
   "outputs": [],
   "source": [
    "x = np.arange(20)\n",
    "x = np.append(x,0)\n",
    "x = np.delete(x, [0])\n",
    "x"
   ]
  },
  {
   "cell_type": "code",
   "execution_count": null,
   "id": "000f3d71",
   "metadata": {},
   "outputs": [],
   "source": [
    "om.algos.GradientBased.Scalar.Available"
   ]
  },
  {
   "cell_type": "code",
   "execution_count": null,
   "id": "6d2cd1ad",
   "metadata": {},
   "outputs": [],
   "source": [
    "x0 = np.array([2,3,4])"
   ]
  },
  {
   "cell_type": "code",
   "execution_count": null,
   "id": "3cfd7f00",
   "metadata": {},
   "outputs": [],
   "source": [
    "x1 = np.ones_like(x0)\n",
    "x1"
   ]
  },
  {
   "cell_type": "markdown",
   "id": "fc92ad08",
   "metadata": {},
   "source": [
    "# Logging"
   ]
  },
  {
   "cell_type": "code",
   "execution_count": null,
   "id": "60b79f31",
   "metadata": {},
   "outputs": [],
   "source": [
    "log_options = om.SQLiteLogOptions(\n",
    "    \"my_log.db\",\n",
    "    fast_logging=True,\n",
    "    if_database_exists=om.ExistenceStrategy.REPLACE,\n",
    ")\n",
    "\n",
    "res = om.minimize(\n",
    "    fun=sphere,\n",
    "    params=np.arange(5),\n",
    "    algorithm=\"scipy_lbfgsb\",\n",
    "    logging=log_options,\n",
    ")"
   ]
  },
  {
   "cell_type": "code",
   "execution_count": null,
   "id": "f82c8b90",
   "metadata": {},
   "outputs": [],
   "source": [
    "reader = res.logger\n",
    "reader.read_start_params()"
   ]
  },
  {
   "cell_type": "code",
   "execution_count": null,
   "id": "52d87e1e",
   "metadata": {},
   "outputs": [],
   "source": [
    "reader.read_history()['fun']"
   ]
  },
  {
   "cell_type": "code",
   "execution_count": null,
   "id": "0c50be34",
   "metadata": {},
   "outputs": [],
   "source": [
    "import sys\n",
    "sys.path.insert(0, \"/home/gaurav/Documents/\")\n",
    "import os\n",
    "import optimagic as om\n",
    "fig = om.criterion_plot(res)\n",
    "fig.show()\n",
    "\n"
   ]
  },
  {
   "cell_type": "code",
   "execution_count": null,
   "id": "031db83c",
   "metadata": {},
   "outputs": [],
   "source": [
    "print(om.__file__)\n"
   ]
  },
  {
   "cell_type": "code",
   "execution_count": null,
   "id": "40adccb4",
   "metadata": {},
   "outputs": [],
   "source": [
    "fig = om.params_plot(\"my_log.db\")\n",
    "fig.show()"
   ]
  },
  {
   "cell_type": "code",
   "execution_count": null,
   "id": "3250cfab",
   "metadata": {},
   "outputs": [],
   "source": [
    "params = {\"alpha\": 0, \"beta\": 0, \"gamma\": 0, \"delta\": 0}\n",
    "for key in params:\n",
    "    print(key)"
   ]
  },
  {
   "cell_type": "code",
   "execution_count": null,
   "id": "dbd11ed4",
   "metadata": {},
   "outputs": [],
   "source": [
    "res = om.minimize(\n",
    "    fun= lambda x : x @ x,\n",
    "    params=np.arange(5),\n",
    "    algorithm=\"scipy_lbfgsb\",\n",
    "    logging= om.SQLiteLogOptions(\n",
    "    \"my_log.db\", if_database_exists=om.ExistenceStrategy.REPLACE,),\n",
    ")\n",
    "fig = om.criterion_plot(\"my_log.db\")\n",
    "fig.show()"
   ]
  },
  {
   "cell_type": "code",
   "execution_count": null,
   "id": "07ed3045",
   "metadata": {},
   "outputs": [],
   "source": [
    "import optimagic as om\n",
    "import numpy as np\n",
    "log_options = om.SQLiteLogOptions(\"my_log.db\", if_database_exists=om.ExistenceStrategy.REPLACE,)\n",
    "res = om.minimize(fun=lambda x: x @ x, params=np.arange(5), algorithm=\"scipy_lbfgsb\", logging=log_options,)\n",
    "\n",
    "\n"
   ]
  },
  {
   "cell_type": "code",
   "execution_count": null,
   "id": "4ca154e0",
   "metadata": {},
   "outputs": [],
   "source": [
    "om.minimize(\n",
    "    fun= lambda x : x@x,\n",
    "    params=np.arange(5),\n",
    "    algorithm=\"scipy_lbfgsb\",\n",
    "    logging=om.SQLiteLogOptions(\n",
    "    \"my_log.db\", if_database_exists=om.ExistenceStrategy.REPLACE\n",
    "),)\n",
    "fig = om.criterion_plot(\"my_log.db\")\n",
    "fig.show()"
   ]
  },
  {
   "cell_type": "code",
   "execution_count": null,
   "id": "24b26ccc",
   "metadata": {},
   "outputs": [],
   "source": [
    "from pathlib import Path\n",
    "path = Path(\"test_log.db\")\n",
    "\n",
    "om.minimize(\n",
    "    fun= lambda x : x@x,\n",
    "    params=np.arange(10),\n",
    "    algorithm=\"scipy_lbfgsb\",\n",
    "    logging=om.SQLiteLogOptions(\n",
    "    path, if_database_exists=om.ExistenceStrategy.REPLACE\n",
    "),)\n",
    "fig = om.criterion_plot(path)\n",
    "fig.show()"
   ]
  },
  {
   "cell_type": "markdown",
   "id": "470c69ee",
   "metadata": {},
   "source": [
    "# Benchmark test bug scipy"
   ]
  },
  {
   "cell_type": "code",
   "execution_count": 2,
   "id": "1d758868",
   "metadata": {},
   "outputs": [],
   "source": [
    "import scipy\n",
    "import pickle\n",
    "import optimagic as om"
   ]
  },
  {
   "cell_type": "code",
   "execution_count": null,
   "id": "2608dd66",
   "metadata": {},
   "outputs": [],
   "source": [
    "# print(scipy.__version__)\n",
    "# problems = om.get_benchmark_problems(\"more_wild\")\n",
    "# optimizers = {\n",
    "#     \"scipy_lbfgsb\"\n",
    "# }\n",
    "# results_scipy_1_15_2 = om.run_benchmark(problems,\n",
    "#                        optimizers)\n",
    "# with open(\"results_scipy_1_15_2\", \"wb\") as f:\n",
    "#     pickle.dump(results_scipy_1_15_2, f)"
   ]
  },
  {
   "cell_type": "code",
   "execution_count": null,
   "id": "a5ed276a",
   "metadata": {},
   "outputs": [
    {
     "name": "stdout",
     "output_type": "stream",
     "text": [
      "1.14.0\n"
     ]
    }
   ],
   "source": [
    "# print(scipy.__version__)\n",
    "# problems = om.get_benchmark_problems(\"more_wild\")\n",
    "# optimizers = {\n",
    "#     \"scipy_lbfgsb\"\n",
    "# }\n",
    "# results_scipy_1_14_0 = om.run_benchmark(problems,\n",
    "#                        optimizers)\n",
    "# with open(\"results_scipy_1_14_0\", \"wb\") as f:\n",
    "#     pickle.dump(results_scipy_1_14_0, f)\n"
   ]
  },
  {
   "cell_type": "code",
   "execution_count": 14,
   "id": "b7243997",
   "metadata": {},
   "outputs": [
    {
     "name": "stdout",
     "output_type": "stream",
     "text": [
      "dict_keys([('linear_full_rank_good_start', 'scipy_1-15_2_lbfgsb'), ('linear_full_rank_bad_start', 'scipy_1-15_2_lbfgsb'), ('linear_rank_one_good_start', 'scipy_1-15_2_lbfgsb'), ('linear_rank_one_bad_start', 'scipy_1-15_2_lbfgsb'), ('linear_rank_one_zero_columns_rows_good_start', 'scipy_1-15_2_lbfgsb'), ('linear_rank_one_zero_columns_rows_bad_start', 'scipy_1-15_2_lbfgsb'), ('rosenbrock_good_start', 'scipy_1-15_2_lbfgsb'), ('rosenbrock_bad_start', 'scipy_1-15_2_lbfgsb'), ('helical_valley_good_start', 'scipy_1-15_2_lbfgsb'), ('helical_valley_bad_start', 'scipy_1-15_2_lbfgsb'), ('powell_singular_good_start', 'scipy_1-15_2_lbfgsb'), ('powell_singular_bad_start', 'scipy_1-15_2_lbfgsb'), ('freudenstein_roth_good_start', 'scipy_1-15_2_lbfgsb'), ('freudenstein_roth_bad_start', 'scipy_1-15_2_lbfgsb'), ('bard_good_start', 'scipy_1-15_2_lbfgsb'), ('bard_bad_start', 'scipy_1-15_2_lbfgsb'), ('kowalik_osborne', 'scipy_1-15_2_lbfgsb'), ('meyer', 'scipy_1-15_2_lbfgsb'), ('watson_6_good_start', 'scipy_1-15_2_lbfgsb'), ('watson_6_bad_start', 'scipy_1-15_2_lbfgsb'), ('watson_9_good_start', 'scipy_1-15_2_lbfgsb'), ('watson_9_bad_start', 'scipy_1-15_2_lbfgsb'), ('watson_12_good_start', 'scipy_1-15_2_lbfgsb'), ('watson_12_bad_start', 'scipy_1-15_2_lbfgsb'), ('box_3d', 'scipy_1-15_2_lbfgsb'), ('jennrich_sampson', 'scipy_1-15_2_lbfgsb'), ('brown_dennis_good_start', 'scipy_1-15_2_lbfgsb'), ('brown_dennis_bad_start', 'scipy_1-15_2_lbfgsb'), ('chebyquad_6', 'scipy_1-15_2_lbfgsb'), ('chebyquad_7', 'scipy_1-15_2_lbfgsb'), ('chebyquad_8', 'scipy_1-15_2_lbfgsb'), ('chebyquad_9', 'scipy_1-15_2_lbfgsb'), ('chebyquad_10', 'scipy_1-15_2_lbfgsb'), ('chebyquad_11', 'scipy_1-15_2_lbfgsb'), ('brown_almost_linear', 'scipy_1-15_2_lbfgsb'), ('osborne_one', 'scipy_1-15_2_lbfgsb'), ('osborne_two_good_start', 'scipy_1-15_2_lbfgsb'), ('osborne_two_bad_start', 'scipy_1-15_2_lbfgsb'), ('bdqrtic_8', 'scipy_1-15_2_lbfgsb'), ('bdqrtic_10', 'scipy_1-15_2_lbfgsb'), ('bdqrtic_11', 'scipy_1-15_2_lbfgsb'), ('bdqrtic_12', 'scipy_1-15_2_lbfgsb'), ('cube_5', 'scipy_1-15_2_lbfgsb'), ('cube_6', 'scipy_1-15_2_lbfgsb'), ('cube_8', 'scipy_1-15_2_lbfgsb'), ('mancino_5_good_start', 'scipy_1-15_2_lbfgsb'), ('mancino_5_bad_start', 'scipy_1-15_2_lbfgsb'), ('mancino_8', 'scipy_1-15_2_lbfgsb'), ('mancino_10', 'scipy_1-15_2_lbfgsb'), ('mancino_12_good_start', 'scipy_1-15_2_lbfgsb'), ('mancino_12_bad_start', 'scipy_1-15_2_lbfgsb'), ('heart_eight_good_start', 'scipy_1-15_2_lbfgsb'), ('heart_eight_bad_start', 'scipy_1-15_2_lbfgsb'), ('brown_almost_linear_medium', 'scipy_1-15_2_lbfgsb')])\n",
      "dict_keys([('linear_full_rank_good_start', 'scipy_1-14_0_lbfgsb'), ('linear_full_rank_bad_start', 'scipy_1-14_0_lbfgsb'), ('linear_rank_one_good_start', 'scipy_1-14_0_lbfgsb'), ('linear_rank_one_bad_start', 'scipy_1-14_0_lbfgsb'), ('linear_rank_one_zero_columns_rows_good_start', 'scipy_1-14_0_lbfgsb'), ('linear_rank_one_zero_columns_rows_bad_start', 'scipy_1-14_0_lbfgsb'), ('rosenbrock_good_start', 'scipy_1-14_0_lbfgsb'), ('rosenbrock_bad_start', 'scipy_1-14_0_lbfgsb'), ('helical_valley_good_start', 'scipy_1-14_0_lbfgsb'), ('helical_valley_bad_start', 'scipy_1-14_0_lbfgsb'), ('powell_singular_good_start', 'scipy_1-14_0_lbfgsb'), ('powell_singular_bad_start', 'scipy_1-14_0_lbfgsb'), ('freudenstein_roth_good_start', 'scipy_1-14_0_lbfgsb'), ('freudenstein_roth_bad_start', 'scipy_1-14_0_lbfgsb'), ('bard_good_start', 'scipy_1-14_0_lbfgsb'), ('bard_bad_start', 'scipy_1-14_0_lbfgsb'), ('kowalik_osborne', 'scipy_1-14_0_lbfgsb'), ('meyer', 'scipy_1-14_0_lbfgsb'), ('watson_6_good_start', 'scipy_1-14_0_lbfgsb'), ('watson_6_bad_start', 'scipy_1-14_0_lbfgsb'), ('watson_9_good_start', 'scipy_1-14_0_lbfgsb'), ('watson_9_bad_start', 'scipy_1-14_0_lbfgsb'), ('watson_12_good_start', 'scipy_1-14_0_lbfgsb'), ('watson_12_bad_start', 'scipy_1-14_0_lbfgsb'), ('box_3d', 'scipy_1-14_0_lbfgsb'), ('jennrich_sampson', 'scipy_1-14_0_lbfgsb'), ('brown_dennis_good_start', 'scipy_1-14_0_lbfgsb'), ('brown_dennis_bad_start', 'scipy_1-14_0_lbfgsb'), ('chebyquad_6', 'scipy_1-14_0_lbfgsb'), ('chebyquad_7', 'scipy_1-14_0_lbfgsb'), ('chebyquad_8', 'scipy_1-14_0_lbfgsb'), ('chebyquad_9', 'scipy_1-14_0_lbfgsb'), ('chebyquad_10', 'scipy_1-14_0_lbfgsb'), ('chebyquad_11', 'scipy_1-14_0_lbfgsb'), ('brown_almost_linear', 'scipy_1-14_0_lbfgsb'), ('osborne_one', 'scipy_1-14_0_lbfgsb'), ('osborne_two_good_start', 'scipy_1-14_0_lbfgsb'), ('osborne_two_bad_start', 'scipy_1-14_0_lbfgsb'), ('bdqrtic_8', 'scipy_1-14_0_lbfgsb'), ('bdqrtic_10', 'scipy_1-14_0_lbfgsb'), ('bdqrtic_11', 'scipy_1-14_0_lbfgsb'), ('bdqrtic_12', 'scipy_1-14_0_lbfgsb'), ('cube_5', 'scipy_1-14_0_lbfgsb'), ('cube_6', 'scipy_1-14_0_lbfgsb'), ('cube_8', 'scipy_1-14_0_lbfgsb'), ('mancino_5_good_start', 'scipy_1-14_0_lbfgsb'), ('mancino_5_bad_start', 'scipy_1-14_0_lbfgsb'), ('mancino_8', 'scipy_1-14_0_lbfgsb'), ('mancino_10', 'scipy_1-14_0_lbfgsb'), ('mancino_12_good_start', 'scipy_1-14_0_lbfgsb'), ('mancino_12_bad_start', 'scipy_1-14_0_lbfgsb'), ('heart_eight_good_start', 'scipy_1-14_0_lbfgsb'), ('heart_eight_bad_start', 'scipy_1-14_0_lbfgsb'), ('brown_almost_linear_medium', 'scipy_1-14_0_lbfgsb'), ('linear_full_rank_good_start', 'scipy_1-15_2_lbfgsb'), ('linear_full_rank_bad_start', 'scipy_1-15_2_lbfgsb'), ('linear_rank_one_good_start', 'scipy_1-15_2_lbfgsb'), ('linear_rank_one_bad_start', 'scipy_1-15_2_lbfgsb'), ('linear_rank_one_zero_columns_rows_good_start', 'scipy_1-15_2_lbfgsb'), ('linear_rank_one_zero_columns_rows_bad_start', 'scipy_1-15_2_lbfgsb'), ('rosenbrock_good_start', 'scipy_1-15_2_lbfgsb'), ('rosenbrock_bad_start', 'scipy_1-15_2_lbfgsb'), ('helical_valley_good_start', 'scipy_1-15_2_lbfgsb'), ('helical_valley_bad_start', 'scipy_1-15_2_lbfgsb'), ('powell_singular_good_start', 'scipy_1-15_2_lbfgsb'), ('powell_singular_bad_start', 'scipy_1-15_2_lbfgsb'), ('freudenstein_roth_good_start', 'scipy_1-15_2_lbfgsb'), ('freudenstein_roth_bad_start', 'scipy_1-15_2_lbfgsb'), ('bard_good_start', 'scipy_1-15_2_lbfgsb'), ('bard_bad_start', 'scipy_1-15_2_lbfgsb'), ('kowalik_osborne', 'scipy_1-15_2_lbfgsb'), ('meyer', 'scipy_1-15_2_lbfgsb'), ('watson_6_good_start', 'scipy_1-15_2_lbfgsb'), ('watson_6_bad_start', 'scipy_1-15_2_lbfgsb'), ('watson_9_good_start', 'scipy_1-15_2_lbfgsb'), ('watson_9_bad_start', 'scipy_1-15_2_lbfgsb'), ('watson_12_good_start', 'scipy_1-15_2_lbfgsb'), ('watson_12_bad_start', 'scipy_1-15_2_lbfgsb'), ('box_3d', 'scipy_1-15_2_lbfgsb'), ('jennrich_sampson', 'scipy_1-15_2_lbfgsb'), ('brown_dennis_good_start', 'scipy_1-15_2_lbfgsb'), ('brown_dennis_bad_start', 'scipy_1-15_2_lbfgsb'), ('chebyquad_6', 'scipy_1-15_2_lbfgsb'), ('chebyquad_7', 'scipy_1-15_2_lbfgsb'), ('chebyquad_8', 'scipy_1-15_2_lbfgsb'), ('chebyquad_9', 'scipy_1-15_2_lbfgsb'), ('chebyquad_10', 'scipy_1-15_2_lbfgsb'), ('chebyquad_11', 'scipy_1-15_2_lbfgsb'), ('brown_almost_linear', 'scipy_1-15_2_lbfgsb'), ('osborne_one', 'scipy_1-15_2_lbfgsb'), ('osborne_two_good_start', 'scipy_1-15_2_lbfgsb'), ('osborne_two_bad_start', 'scipy_1-15_2_lbfgsb'), ('bdqrtic_8', 'scipy_1-15_2_lbfgsb'), ('bdqrtic_10', 'scipy_1-15_2_lbfgsb'), ('bdqrtic_11', 'scipy_1-15_2_lbfgsb'), ('bdqrtic_12', 'scipy_1-15_2_lbfgsb'), ('cube_5', 'scipy_1-15_2_lbfgsb'), ('cube_6', 'scipy_1-15_2_lbfgsb'), ('cube_8', 'scipy_1-15_2_lbfgsb'), ('mancino_5_good_start', 'scipy_1-15_2_lbfgsb'), ('mancino_5_bad_start', 'scipy_1-15_2_lbfgsb'), ('mancino_8', 'scipy_1-15_2_lbfgsb'), ('mancino_10', 'scipy_1-15_2_lbfgsb'), ('mancino_12_good_start', 'scipy_1-15_2_lbfgsb'), ('mancino_12_bad_start', 'scipy_1-15_2_lbfgsb'), ('heart_eight_good_start', 'scipy_1-15_2_lbfgsb'), ('heart_eight_bad_start', 'scipy_1-15_2_lbfgsb'), ('brown_almost_linear_medium', 'scipy_1-15_2_lbfgsb')])\n"
     ]
    }
   ],
   "source": [
    "with open(\"scipy_old/results_scipy_1_14_0\", \"rb\") as f:\n",
    "    results_scipy_1_14_0 = pickle.load(f)\n",
    "with open(\"scipy_old/results_scipy_1_15_2\", \"rb\") as f:\n",
    "    results_scipy_1_15_2 = pickle.load(f)\n",
    "problems = om.get_benchmark_problems(\"more_wild\")\n",
    "updated_results_scipy_1_14_0 = {}\n",
    "updated_results_scipy_1_15_2 = {}\n",
    "for key, value in results_scipy_1_14_0.items():\n",
    "    (a,b) = key\n",
    "    updated_results_scipy_1_14_0[(a,'scipy_1-14_0_lbfgsb')] = results_scipy_1_14_0[key]\n",
    "for key, value in results_scipy_1_15_2.items():\n",
    "    (a,b) = key\n",
    "    updated_results_scipy_1_15_2[(a,'scipy_1-15_2_lbfgsb')] = results_scipy_1_15_2[key]\n",
    "\n",
    "print(updated_results_scipy_1_15_2.keys())\n",
    "results = updated_results_scipy_1_14_0 | updated_results_scipy_1_15_2\n",
    "print(results.keys())"
   ]
  },
  {
   "cell_type": "code",
   "execution_count": 25,
   "id": "60c3d283",
   "metadata": {},
   "outputs": [
    {
     "data": {
      "application/vnd.plotly.v1+json": {
       "config": {
        "plotlyServerURL": "https://plot.ly"
       },
       "data": [
        {
         "hovertemplate": "algorithm=scipy_1-14_0_lbfgsb<br>alpha=%{x}<br>0=%{y}<extra></extra>",
         "legendgroup": "scipy_1-14_0_lbfgsb",
         "line": {
          "color": "#636efa",
          "dash": "solid"
         },
         "marker": {
          "symbol": "circle"
         },
         "mode": "lines",
         "name": "scipy_1-14_0_lbfgsb",
         "orientation": "v",
         "showlegend": true,
         "type": "scatter",
         "x": [
          2.0000000001,
          2.5000000001,
          3.0000000001,
          3.5000000001,
          4.0000000001,
          5.5000000001,
          7.0000000001,
          9.0000000001,
          11.0000000001,
          12.0000000001,
          13.0000000001,
          13.5000000001,
          14.0000000001,
          14.5000000001,
          15.0000000001,
          15.500000000099998,
          16.0000000001,
          17.0000000001,
          18.0000000001,
          18.5000000001,
          19.0000000001,
          20.0000000001,
          21.0000000001,
          21.5000000001,
          22.0000000001,
          22.5000000001,
          23.0000000001,
          24.0000000001,
          25.0000000001,
          27.0000000001,
          29.0000000001,
          30.500000000100002,
          32.0000000001,
          34.5000000001,
          37.0000000001,
          38.0000000001,
          39.0000000001,
          42.5000000001,
          46.0000000001,
          46.5000000001,
          47.0000000001,
          50.0000000001,
          53.0000000001,
          61.5000000001,
          70.0000000001,
          75.5000000001,
          81.0000000001,
          81.5000000001,
          82.0000000001,
          82.5000000001,
          83.0000000001,
          86.5000000001,
          90.0000000001,
          93.0000000001,
          96.0000000001,
          172.5000000001,
          249.0000000001,
          254.0000000001,
          259.0000000001,
          265.47500000010245,
          271.950000000105
         ],
         "xaxis": "x",
         "y": [
          0.07407407407407407,
          0.07407407407407407,
          0.16666666666666666,
          0.16666666666666666,
          0.2222222222222222,
          0.2222222222222222,
          0.25925925925925924,
          0.25925925925925924,
          0.35185185185185186,
          0.35185185185185186,
          0.42592592592592593,
          0.42592592592592593,
          0.4444444444444444,
          0.4444444444444444,
          0.46296296296296297,
          0.46296296296296297,
          0.5185185185185185,
          0.5185185185185185,
          0.5740740740740741,
          0.5740740740740741,
          0.6111111111111112,
          0.6111111111111112,
          0.6296296296296297,
          0.6296296296296297,
          0.6481481481481481,
          0.6481481481481481,
          0.6666666666666666,
          0.6666666666666666,
          0.6851851851851852,
          0.6851851851851852,
          0.7037037037037037,
          0.7037037037037037,
          0.7222222222222222,
          0.7222222222222222,
          0.7592592592592593,
          0.7592592592592593,
          0.7777777777777778,
          0.7777777777777778,
          0.7777777777777778,
          0.7777777777777778,
          0.7962962962962963,
          0.7962962962962963,
          0.8148148148148148,
          0.8148148148148148,
          0.8333333333333334,
          0.8333333333333334,
          0.8333333333333334,
          0.8333333333333334,
          0.8518518518518519,
          0.8518518518518519,
          0.8703703703703703,
          0.8703703703703703,
          0.8888888888888888,
          0.8888888888888888,
          0.8888888888888888,
          0.8888888888888888,
          0.8888888888888888,
          0.8888888888888888,
          0.9074074074074074,
          0.9074074074074074,
          0.9074074074074074
         ],
         "yaxis": "y"
        },
        {
         "hovertemplate": "algorithm=scipy_1-15_2_lbfgsb<br>alpha=%{x}<br>0=%{y}<extra></extra>",
         "legendgroup": "scipy_1-15_2_lbfgsb",
         "line": {
          "color": "#EF553B",
          "dash": "solid"
         },
         "marker": {
          "symbol": "circle"
         },
         "mode": "lines",
         "name": "scipy_1-15_2_lbfgsb",
         "orientation": "v",
         "showlegend": true,
         "type": "scatter",
         "x": [
          2.0000000001,
          2.5000000001,
          3.0000000001,
          3.5000000001,
          4.0000000001,
          5.5000000001,
          7.0000000001,
          9.0000000001,
          11.0000000001,
          12.0000000001,
          13.0000000001,
          13.5000000001,
          14.0000000001,
          14.5000000001,
          15.0000000001,
          15.500000000099998,
          16.0000000001,
          17.0000000001,
          18.0000000001,
          18.5000000001,
          19.0000000001,
          20.0000000001,
          21.0000000001,
          21.5000000001,
          22.0000000001,
          22.5000000001,
          23.0000000001,
          24.0000000001,
          25.0000000001,
          27.0000000001,
          29.0000000001,
          30.500000000100002,
          32.0000000001,
          34.5000000001,
          37.0000000001,
          38.0000000001,
          39.0000000001,
          42.5000000001,
          46.0000000001,
          46.5000000001,
          47.0000000001,
          50.0000000001,
          53.0000000001,
          61.5000000001,
          70.0000000001,
          75.5000000001,
          81.0000000001,
          81.5000000001,
          82.0000000001,
          82.5000000001,
          83.0000000001,
          86.5000000001,
          90.0000000001,
          93.0000000001,
          96.0000000001,
          172.5000000001,
          249.0000000001,
          254.0000000001,
          259.0000000001,
          265.47500000010245,
          271.950000000105
         ],
         "xaxis": "x",
         "y": [
          0.07407407407407407,
          0.07407407407407407,
          0.16666666666666666,
          0.16666666666666666,
          0.2222222222222222,
          0.2222222222222222,
          0.25925925925925924,
          0.25925925925925924,
          0.35185185185185186,
          0.35185185185185186,
          0.42592592592592593,
          0.42592592592592593,
          0.4444444444444444,
          0.4444444444444444,
          0.46296296296296297,
          0.46296296296296297,
          0.5185185185185185,
          0.5185185185185185,
          0.5740740740740741,
          0.5740740740740741,
          0.6111111111111112,
          0.6111111111111112,
          0.6296296296296297,
          0.6296296296296297,
          0.6481481481481481,
          0.6481481481481481,
          0.6666666666666666,
          0.6666666666666666,
          0.6851851851851852,
          0.6851851851851852,
          0.7037037037037037,
          0.7037037037037037,
          0.7222222222222222,
          0.7222222222222222,
          0.7592592592592593,
          0.7592592592592593,
          0.7777777777777778,
          0.7777777777777778,
          0.7962962962962963,
          0.7962962962962963,
          0.7962962962962963,
          0.7962962962962963,
          0.8148148148148148,
          0.8148148148148148,
          0.8333333333333334,
          0.8333333333333334,
          0.8518518518518519,
          0.8518518518518519,
          0.8703703703703703,
          0.8703703703703703,
          0.8703703703703703,
          0.8703703703703703,
          0.8703703703703703,
          0.8703703703703703,
          0.8888888888888888,
          0.8888888888888888,
          0.9074074074074074,
          0.9074074074074074,
          0.9074074074074074,
          0.9074074074074074,
          0.9074074074074074
         ],
         "yaxis": "y"
        }
       ],
       "layout": {
        "height": 300,
        "legend": {
         "title": {
          "text": "algorithm"
         },
         "tracegroupgap": 0
        },
        "margin": {
         "b": 10,
         "l": 10,
         "r": 10,
         "t": 30
        },
        "shapes": [
         {
          "type": "line",
          "x0": 0,
          "x1": 1,
          "xref": "x domain",
          "y0": 1,
          "y1": 1,
          "yref": "y"
         }
        ],
        "template": {
         "data": {
          "bar": [
           {
            "error_x": {
             "color": "rgb(36,36,36)"
            },
            "error_y": {
             "color": "rgb(36,36,36)"
            },
            "marker": {
             "line": {
              "color": "white",
              "width": 0.5
             },
             "pattern": {
              "fillmode": "overlay",
              "size": 10,
              "solidity": 0.2
             }
            },
            "type": "bar"
           }
          ],
          "barpolar": [
           {
            "marker": {
             "line": {
              "color": "white",
              "width": 0.5
             },
             "pattern": {
              "fillmode": "overlay",
              "size": 10,
              "solidity": 0.2
             }
            },
            "type": "barpolar"
           }
          ],
          "carpet": [
           {
            "aaxis": {
             "endlinecolor": "rgb(36,36,36)",
             "gridcolor": "white",
             "linecolor": "white",
             "minorgridcolor": "white",
             "startlinecolor": "rgb(36,36,36)"
            },
            "baxis": {
             "endlinecolor": "rgb(36,36,36)",
             "gridcolor": "white",
             "linecolor": "white",
             "minorgridcolor": "white",
             "startlinecolor": "rgb(36,36,36)"
            },
            "type": "carpet"
           }
          ],
          "choropleth": [
           {
            "colorbar": {
             "outlinewidth": 1,
             "tickcolor": "rgb(36,36,36)",
             "ticks": "outside"
            },
            "type": "choropleth"
           }
          ],
          "contour": [
           {
            "colorbar": {
             "outlinewidth": 1,
             "tickcolor": "rgb(36,36,36)",
             "ticks": "outside"
            },
            "colorscale": [
             [
              0,
              "#440154"
             ],
             [
              0.1111111111111111,
              "#482878"
             ],
             [
              0.2222222222222222,
              "#3e4989"
             ],
             [
              0.3333333333333333,
              "#31688e"
             ],
             [
              0.4444444444444444,
              "#26828e"
             ],
             [
              0.5555555555555556,
              "#1f9e89"
             ],
             [
              0.6666666666666666,
              "#35b779"
             ],
             [
              0.7777777777777778,
              "#6ece58"
             ],
             [
              0.8888888888888888,
              "#b5de2b"
             ],
             [
              1,
              "#fde725"
             ]
            ],
            "type": "contour"
           }
          ],
          "contourcarpet": [
           {
            "colorbar": {
             "outlinewidth": 1,
             "tickcolor": "rgb(36,36,36)",
             "ticks": "outside"
            },
            "type": "contourcarpet"
           }
          ],
          "heatmap": [
           {
            "colorbar": {
             "outlinewidth": 1,
             "tickcolor": "rgb(36,36,36)",
             "ticks": "outside"
            },
            "colorscale": [
             [
              0,
              "#440154"
             ],
             [
              0.1111111111111111,
              "#482878"
             ],
             [
              0.2222222222222222,
              "#3e4989"
             ],
             [
              0.3333333333333333,
              "#31688e"
             ],
             [
              0.4444444444444444,
              "#26828e"
             ],
             [
              0.5555555555555556,
              "#1f9e89"
             ],
             [
              0.6666666666666666,
              "#35b779"
             ],
             [
              0.7777777777777778,
              "#6ece58"
             ],
             [
              0.8888888888888888,
              "#b5de2b"
             ],
             [
              1,
              "#fde725"
             ]
            ],
            "type": "heatmap"
           }
          ],
          "heatmapgl": [
           {
            "colorbar": {
             "outlinewidth": 1,
             "tickcolor": "rgb(36,36,36)",
             "ticks": "outside"
            },
            "colorscale": [
             [
              0,
              "#440154"
             ],
             [
              0.1111111111111111,
              "#482878"
             ],
             [
              0.2222222222222222,
              "#3e4989"
             ],
             [
              0.3333333333333333,
              "#31688e"
             ],
             [
              0.4444444444444444,
              "#26828e"
             ],
             [
              0.5555555555555556,
              "#1f9e89"
             ],
             [
              0.6666666666666666,
              "#35b779"
             ],
             [
              0.7777777777777778,
              "#6ece58"
             ],
             [
              0.8888888888888888,
              "#b5de2b"
             ],
             [
              1,
              "#fde725"
             ]
            ],
            "type": "heatmapgl"
           }
          ],
          "histogram": [
           {
            "marker": {
             "line": {
              "color": "white",
              "width": 0.6
             }
            },
            "type": "histogram"
           }
          ],
          "histogram2d": [
           {
            "colorbar": {
             "outlinewidth": 1,
             "tickcolor": "rgb(36,36,36)",
             "ticks": "outside"
            },
            "colorscale": [
             [
              0,
              "#440154"
             ],
             [
              0.1111111111111111,
              "#482878"
             ],
             [
              0.2222222222222222,
              "#3e4989"
             ],
             [
              0.3333333333333333,
              "#31688e"
             ],
             [
              0.4444444444444444,
              "#26828e"
             ],
             [
              0.5555555555555556,
              "#1f9e89"
             ],
             [
              0.6666666666666666,
              "#35b779"
             ],
             [
              0.7777777777777778,
              "#6ece58"
             ],
             [
              0.8888888888888888,
              "#b5de2b"
             ],
             [
              1,
              "#fde725"
             ]
            ],
            "type": "histogram2d"
           }
          ],
          "histogram2dcontour": [
           {
            "colorbar": {
             "outlinewidth": 1,
             "tickcolor": "rgb(36,36,36)",
             "ticks": "outside"
            },
            "colorscale": [
             [
              0,
              "#440154"
             ],
             [
              0.1111111111111111,
              "#482878"
             ],
             [
              0.2222222222222222,
              "#3e4989"
             ],
             [
              0.3333333333333333,
              "#31688e"
             ],
             [
              0.4444444444444444,
              "#26828e"
             ],
             [
              0.5555555555555556,
              "#1f9e89"
             ],
             [
              0.6666666666666666,
              "#35b779"
             ],
             [
              0.7777777777777778,
              "#6ece58"
             ],
             [
              0.8888888888888888,
              "#b5de2b"
             ],
             [
              1,
              "#fde725"
             ]
            ],
            "type": "histogram2dcontour"
           }
          ],
          "mesh3d": [
           {
            "colorbar": {
             "outlinewidth": 1,
             "tickcolor": "rgb(36,36,36)",
             "ticks": "outside"
            },
            "type": "mesh3d"
           }
          ],
          "parcoords": [
           {
            "line": {
             "colorbar": {
              "outlinewidth": 1,
              "tickcolor": "rgb(36,36,36)",
              "ticks": "outside"
             }
            },
            "type": "parcoords"
           }
          ],
          "pie": [
           {
            "automargin": true,
            "type": "pie"
           }
          ],
          "scatter": [
           {
            "fillpattern": {
             "fillmode": "overlay",
             "size": 10,
             "solidity": 0.2
            },
            "type": "scatter"
           }
          ],
          "scatter3d": [
           {
            "line": {
             "colorbar": {
              "outlinewidth": 1,
              "tickcolor": "rgb(36,36,36)",
              "ticks": "outside"
             }
            },
            "marker": {
             "colorbar": {
              "outlinewidth": 1,
              "tickcolor": "rgb(36,36,36)",
              "ticks": "outside"
             }
            },
            "type": "scatter3d"
           }
          ],
          "scattercarpet": [
           {
            "marker": {
             "colorbar": {
              "outlinewidth": 1,
              "tickcolor": "rgb(36,36,36)",
              "ticks": "outside"
             }
            },
            "type": "scattercarpet"
           }
          ],
          "scattergeo": [
           {
            "marker": {
             "colorbar": {
              "outlinewidth": 1,
              "tickcolor": "rgb(36,36,36)",
              "ticks": "outside"
             }
            },
            "type": "scattergeo"
           }
          ],
          "scattergl": [
           {
            "marker": {
             "colorbar": {
              "outlinewidth": 1,
              "tickcolor": "rgb(36,36,36)",
              "ticks": "outside"
             }
            },
            "type": "scattergl"
           }
          ],
          "scattermapbox": [
           {
            "marker": {
             "colorbar": {
              "outlinewidth": 1,
              "tickcolor": "rgb(36,36,36)",
              "ticks": "outside"
             }
            },
            "type": "scattermapbox"
           }
          ],
          "scatterpolar": [
           {
            "marker": {
             "colorbar": {
              "outlinewidth": 1,
              "tickcolor": "rgb(36,36,36)",
              "ticks": "outside"
             }
            },
            "type": "scatterpolar"
           }
          ],
          "scatterpolargl": [
           {
            "marker": {
             "colorbar": {
              "outlinewidth": 1,
              "tickcolor": "rgb(36,36,36)",
              "ticks": "outside"
             }
            },
            "type": "scatterpolargl"
           }
          ],
          "scatterternary": [
           {
            "marker": {
             "colorbar": {
              "outlinewidth": 1,
              "tickcolor": "rgb(36,36,36)",
              "ticks": "outside"
             }
            },
            "type": "scatterternary"
           }
          ],
          "surface": [
           {
            "colorbar": {
             "outlinewidth": 1,
             "tickcolor": "rgb(36,36,36)",
             "ticks": "outside"
            },
            "colorscale": [
             [
              0,
              "#440154"
             ],
             [
              0.1111111111111111,
              "#482878"
             ],
             [
              0.2222222222222222,
              "#3e4989"
             ],
             [
              0.3333333333333333,
              "#31688e"
             ],
             [
              0.4444444444444444,
              "#26828e"
             ],
             [
              0.5555555555555556,
              "#1f9e89"
             ],
             [
              0.6666666666666666,
              "#35b779"
             ],
             [
              0.7777777777777778,
              "#6ece58"
             ],
             [
              0.8888888888888888,
              "#b5de2b"
             ],
             [
              1,
              "#fde725"
             ]
            ],
            "type": "surface"
           }
          ],
          "table": [
           {
            "cells": {
             "fill": {
              "color": "rgb(237,237,237)"
             },
             "line": {
              "color": "white"
             }
            },
            "header": {
             "fill": {
              "color": "rgb(217,217,217)"
             },
             "line": {
              "color": "white"
             }
            },
            "type": "table"
           }
          ]
         },
         "layout": {
          "annotationdefaults": {
           "arrowhead": 0,
           "arrowwidth": 1
          },
          "autotypenumbers": "strict",
          "coloraxis": {
           "colorbar": {
            "outlinewidth": 1,
            "tickcolor": "rgb(36,36,36)",
            "ticks": "outside"
           }
          },
          "colorscale": {
           "diverging": [
            [
             0,
             "rgb(103,0,31)"
            ],
            [
             0.1,
             "rgb(178,24,43)"
            ],
            [
             0.2,
             "rgb(214,96,77)"
            ],
            [
             0.3,
             "rgb(244,165,130)"
            ],
            [
             0.4,
             "rgb(253,219,199)"
            ],
            [
             0.5,
             "rgb(247,247,247)"
            ],
            [
             0.6,
             "rgb(209,229,240)"
            ],
            [
             0.7,
             "rgb(146,197,222)"
            ],
            [
             0.8,
             "rgb(67,147,195)"
            ],
            [
             0.9,
             "rgb(33,102,172)"
            ],
            [
             1,
             "rgb(5,48,97)"
            ]
           ],
           "sequential": [
            [
             0,
             "#440154"
            ],
            [
             0.1111111111111111,
             "#482878"
            ],
            [
             0.2222222222222222,
             "#3e4989"
            ],
            [
             0.3333333333333333,
             "#31688e"
            ],
            [
             0.4444444444444444,
             "#26828e"
            ],
            [
             0.5555555555555556,
             "#1f9e89"
            ],
            [
             0.6666666666666666,
             "#35b779"
            ],
            [
             0.7777777777777778,
             "#6ece58"
            ],
            [
             0.8888888888888888,
             "#b5de2b"
            ],
            [
             1,
             "#fde725"
            ]
           ],
           "sequentialminus": [
            [
             0,
             "#440154"
            ],
            [
             0.1111111111111111,
             "#482878"
            ],
            [
             0.2222222222222222,
             "#3e4989"
            ],
            [
             0.3333333333333333,
             "#31688e"
            ],
            [
             0.4444444444444444,
             "#26828e"
            ],
            [
             0.5555555555555556,
             "#1f9e89"
            ],
            [
             0.6666666666666666,
             "#35b779"
            ],
            [
             0.7777777777777778,
             "#6ece58"
            ],
            [
             0.8888888888888888,
             "#b5de2b"
            ],
            [
             1,
             "#fde725"
            ]
           ]
          },
          "colorway": [
           "#1F77B4",
           "#FF7F0E",
           "#2CA02C",
           "#D62728",
           "#9467BD",
           "#8C564B",
           "#E377C2",
           "#7F7F7F",
           "#BCBD22",
           "#17BECF"
          ],
          "font": {
           "color": "rgb(36,36,36)"
          },
          "geo": {
           "bgcolor": "white",
           "lakecolor": "white",
           "landcolor": "white",
           "showlakes": true,
           "showland": true,
           "subunitcolor": "white"
          },
          "hoverlabel": {
           "align": "left"
          },
          "hovermode": "closest",
          "mapbox": {
           "style": "light"
          },
          "paper_bgcolor": "white",
          "plot_bgcolor": "white",
          "polar": {
           "angularaxis": {
            "gridcolor": "rgb(232,232,232)",
            "linecolor": "rgb(36,36,36)",
            "showgrid": false,
            "showline": true,
            "ticks": "outside"
           },
           "bgcolor": "white",
           "radialaxis": {
            "gridcolor": "rgb(232,232,232)",
            "linecolor": "rgb(36,36,36)",
            "showgrid": false,
            "showline": true,
            "ticks": "outside"
           }
          },
          "scene": {
           "xaxis": {
            "backgroundcolor": "white",
            "gridcolor": "rgb(232,232,232)",
            "gridwidth": 2,
            "linecolor": "rgb(36,36,36)",
            "showbackground": true,
            "showgrid": false,
            "showline": true,
            "ticks": "outside",
            "zeroline": false,
            "zerolinecolor": "rgb(36,36,36)"
           },
           "yaxis": {
            "backgroundcolor": "white",
            "gridcolor": "rgb(232,232,232)",
            "gridwidth": 2,
            "linecolor": "rgb(36,36,36)",
            "showbackground": true,
            "showgrid": false,
            "showline": true,
            "ticks": "outside",
            "zeroline": false,
            "zerolinecolor": "rgb(36,36,36)"
           },
           "zaxis": {
            "backgroundcolor": "white",
            "gridcolor": "rgb(232,232,232)",
            "gridwidth": 2,
            "linecolor": "rgb(36,36,36)",
            "showbackground": true,
            "showgrid": false,
            "showline": true,
            "ticks": "outside",
            "zeroline": false,
            "zerolinecolor": "rgb(36,36,36)"
           }
          },
          "shapedefaults": {
           "fillcolor": "black",
           "line": {
            "width": 0
           },
           "opacity": 0.3
          },
          "ternary": {
           "aaxis": {
            "gridcolor": "rgb(232,232,232)",
            "linecolor": "rgb(36,36,36)",
            "showgrid": false,
            "showline": true,
            "ticks": "outside"
           },
           "baxis": {
            "gridcolor": "rgb(232,232,232)",
            "linecolor": "rgb(36,36,36)",
            "showgrid": false,
            "showline": true,
            "ticks": "outside"
           },
           "bgcolor": "white",
           "caxis": {
            "gridcolor": "rgb(232,232,232)",
            "linecolor": "rgb(36,36,36)",
            "showgrid": false,
            "showline": true,
            "ticks": "outside"
           }
          },
          "title": {
           "x": 0.05
          },
          "xaxis": {
           "automargin": true,
           "gridcolor": "rgb(232,232,232)",
           "linecolor": "rgb(36,36,36)",
           "showgrid": false,
           "showline": true,
           "ticks": "outside",
           "title": {
            "standoff": 15
           },
           "zeroline": false,
           "zerolinecolor": "rgb(36,36,36)"
          },
          "yaxis": {
           "automargin": true,
           "gridcolor": "rgb(232,232,232)",
           "linecolor": "rgb(36,36,36)",
           "showgrid": false,
           "showline": true,
           "ticks": "outside",
           "title": {
            "standoff": 15
           },
           "zeroline": false,
           "zerolinecolor": "rgb(36,36,36)"
          }
         }
        },
        "title": {},
        "width": 500,
        "xaxis": {
         "anchor": "y",
         "domain": [
          0,
          1
         ],
         "title": {
          "text": "Number of Function Evaluations"
         }
        },
        "yaxis": {
         "anchor": "x",
         "domain": [
          0,
          1
         ],
         "title": {
          "text": "Share of Problems Solved"
         }
        }
       }
      }
     },
     "metadata": {},
     "output_type": "display_data"
    }
   ],
   "source": [
    "fig = om.profile_plot(problems, results, y_precision=0.00001)\n",
    "fig.show()\n",
    "# fig.write_image(\"scipy_old/yp=0.000001.png\", scale=2)"
   ]
  },
  {
   "cell_type": "code",
   "execution_count": 26,
   "id": "72ab9242",
   "metadata": {},
   "outputs": [
    {
     "data": {
      "application/vnd.plotly.v1+json": {
       "config": {
        "plotlyServerURL": "https://plot.ly"
       },
       "data": [
        {
         "legendgroup": "0",
         "line": {
          "color": "#636EFA"
         },
         "mode": "lines",
         "name": "scipy_1-14_0_lbfgsb",
         "type": "scatter",
         "x": [
          0,
          1,
          2
         ],
         "xaxis": "x",
         "y": [
          0.9999999999999992,
          0.6944444444444451,
          1.4220723364309783e-12
         ],
         "yaxis": "y"
        },
        {
         "legendgroup": "1",
         "line": {
          "color": "#EF553B"
         },
         "mode": "lines",
         "name": "scipy_1-15_2_lbfgsb",
         "type": "scatter",
         "x": [
          0,
          1,
          2
         ],
         "xaxis": "x",
         "y": [
          0.9999999999999992,
          0.6944444444444451,
          1.4220723364309783e-12
         ],
         "yaxis": "y"
        },
        {
         "legendgroup": "0",
         "line": {
          "color": "#636EFA"
         },
         "mode": "lines",
         "name": "scipy_1-14_0_lbfgsb",
         "showlegend": false,
         "type": "scatter",
         "x": [
          0,
          1,
          2,
          3
         ],
         "xaxis": "x2",
         "y": [
          1,
          0.940312213039486,
          0.7199265381083572,
          8.977567184705185e-13
         ],
         "yaxis": "y2"
        },
        {
         "legendgroup": "1",
         "line": {
          "color": "#EF553B"
         },
         "mode": "lines",
         "name": "scipy_1-15_2_lbfgsb",
         "showlegend": false,
         "type": "scatter",
         "x": [
          0,
          1,
          2,
          3
         ],
         "xaxis": "x2",
         "y": [
          1,
          0.940312213039486,
          0.7199265381083572,
          8.977567184705185e-13
         ],
         "yaxis": "y2"
        },
        {
         "legendgroup": "0",
         "line": {
          "color": "#636EFA"
         },
         "mode": "lines",
         "name": "scipy_1-14_0_lbfgsb",
         "showlegend": false,
         "type": "scatter",
         "x": [
          0,
          1,
          2
         ],
         "xaxis": "x3",
         "y": [
          0.9999995709698138,
          0.33267989028240486,
          9.680391149752911e-17
         ],
         "yaxis": "y3"
        },
        {
         "legendgroup": "1",
         "line": {
          "color": "#EF553B"
         },
         "mode": "lines",
         "name": "scipy_1-15_2_lbfgsb",
         "showlegend": false,
         "type": "scatter",
         "x": [
          0,
          1,
          2
         ],
         "xaxis": "x3",
         "y": [
          0.9999995709698138,
          0.33267989028240486,
          9.680391149752911e-17
         ],
         "yaxis": "y3"
        },
        {
         "legendgroup": "0",
         "line": {
          "color": "#636EFA"
         },
         "mode": "lines",
         "name": "scipy_1-14_0_lbfgsb",
         "showlegend": false,
         "type": "scatter",
         "x": [
          0,
          1,
          2,
          3
         ],
         "xaxis": "x4",
         "y": [
          1.000000201096878,
          0.9172582565788346,
          0.622015552805015,
          1.191449003474844e-14
         ],
         "yaxis": "y4"
        },
        {
         "legendgroup": "1",
         "line": {
          "color": "#EF553B"
         },
         "mode": "lines",
         "name": "scipy_1-15_2_lbfgsb",
         "showlegend": false,
         "type": "scatter",
         "x": [
          0,
          1,
          2,
          3
         ],
         "xaxis": "x4",
         "y": [
          1.000000201096878,
          0.9172582565788346,
          0.622015552805015,
          1.1914490109232572e-14
         ],
         "yaxis": "y4"
        },
        {
         "legendgroup": "0",
         "line": {
          "color": "#636EFA"
         },
         "mode": "lines",
         "name": "scipy_1-14_0_lbfgsb",
         "showlegend": false,
         "type": "scatter",
         "x": [
          0,
          1,
          2
         ],
         "xaxis": "x5",
         "y": [
          1,
          0.2751988744930465,
          1.2337930228590429e-15
         ],
         "yaxis": "y5"
        },
        {
         "legendgroup": "1",
         "line": {
          "color": "#EF553B"
         },
         "mode": "lines",
         "name": "scipy_1-15_2_lbfgsb",
         "showlegend": false,
         "type": "scatter",
         "x": [
          0,
          1,
          2
         ],
         "xaxis": "x5",
         "y": [
          1,
          0.2751988744930465,
          1.2337930228590429e-15
         ],
         "yaxis": "y5"
        },
        {
         "legendgroup": "0",
         "line": {
          "color": "#636EFA"
         },
         "mode": "lines",
         "name": "scipy_1-14_0_lbfgsb",
         "showlegend": false,
         "type": "scatter",
         "x": [
          0,
          1,
          2,
          3
         ],
         "xaxis": "x6",
         "y": [
          1.000000069869262,
          0.9073614974583175,
          0.5818273669823577,
          8.673173491976656e-15
         ],
         "yaxis": "y6"
        },
        {
         "legendgroup": "1",
         "line": {
          "color": "#EF553B"
         },
         "mode": "lines",
         "name": "scipy_1-15_2_lbfgsb",
         "showlegend": false,
         "type": "scatter",
         "x": [
          0,
          1,
          2,
          3
         ],
         "xaxis": "x6",
         "y": [
          1.000000069869262,
          0.9073614974583175,
          0.5818273669823577,
          8.673173491976656e-15
         ],
         "yaxis": "y6"
        },
        {
         "legendgroup": "0",
         "line": {
          "color": "#636EFA"
         },
         "mode": "lines",
         "name": "scipy_1-14_0_lbfgsb",
         "showlegend": false,
         "type": "scatter",
         "x": [
          0,
          1,
          2,
          3,
          4,
          5,
          6,
          7,
          8,
          9,
          10,
          11,
          12,
          13,
          14,
          15,
          16,
          17,
          18,
          19,
          20,
          21,
          22,
          23,
          24,
          25,
          26,
          27,
          28,
          29,
          30,
          31,
          32,
          33,
          34,
          35,
          36,
          37,
          38
         ],
         "xaxis": "x7",
         "y": [
          0.9999999999999999,
          0.9999999999999999,
          0.17459541850897026,
          0.1705485750045826,
          0.170269301980313,
          0.170065072311539,
          0.16890682062264914,
          0.16661185544619758,
          0.16189427693933955,
          0.15602962951492944,
          0.1434405863277223,
          0.12099299598909316,
          0.10193568243574194,
          0.0823253652395333,
          0.07071379972084745,
          0.07071379972084745,
          0.07071379972084745,
          0.04678810604849405,
          0.04678810604849405,
          0.045241243759288334,
          0.04338331149686523,
          0.03701419406306002,
          0.030277700580410197,
          0.02289400973931864,
          0.016483243066320975,
          0.016483243066320975,
          0.013737546428602549,
          0.011063338340909412,
          0.007054661096609748,
          0.005296651436972308,
          0.0036713165908645816,
          0.002170374323884793,
          0.0017664956986056602,
          0.0015495110262339678,
          0.0007117770092467954,
          0.0003324288953424875,
          0.0003324288953424875,
          0.0001210043290308043,
          0.000057978823425422675
         ],
         "yaxis": "y7"
        },
        {
         "legendgroup": "1",
         "line": {
          "color": "#EF553B"
         },
         "mode": "lines",
         "name": "scipy_1-15_2_lbfgsb",
         "showlegend": false,
         "type": "scatter",
         "x": [
          0,
          1,
          2,
          3,
          4,
          5,
          6,
          7,
          8,
          9,
          10,
          11,
          12,
          13,
          14,
          15,
          16,
          17,
          18,
          19,
          20,
          21,
          22,
          23,
          24,
          25,
          26,
          27,
          28,
          29,
          30,
          31,
          32,
          33,
          34,
          35,
          36,
          37,
          38
         ],
         "xaxis": "x7",
         "y": [
          0.9999999999999999,
          0.9999999999999999,
          0.17459541850897026,
          0.1705485750045826,
          0.170269301980313,
          0.170065072311539,
          0.16890682062264914,
          0.16661185544619758,
          0.16189427693933953,
          0.15602962961989097,
          0.14344058755844913,
          0.12099299587952578,
          0.10193568465924285,
          0.08232534615662945,
          0.07071336904076052,
          0.07071336904076052,
          0.07071336904076052,
          0.04678872855725853,
          0.04678872855725853,
          0.04524152582315841,
          0.0433836529160081,
          0.037014985023634865,
          0.03027863967887637,
          0.02289497428888378,
          0.016483645302180626,
          0.016483645302180626,
          0.013737039858511404,
          0.01106465241580927,
          0.007056531404614612,
          0.005294719385756402,
          0.0036690626318473503,
          0.0021647942068834585,
          0.0017444245370192805,
          0.0015412060832843716,
          0.0007025682628549454,
          0.0003273104303336692,
          0.0003273104303336692,
          0.00012604088108935456,
          0.00005915535159025548
         ],
         "yaxis": "y7"
        },
        {
         "legendgroup": "0",
         "line": {
          "color": "#636EFA"
         },
         "mode": "lines",
         "name": "scipy_1-14_0_lbfgsb",
         "showlegend": false,
         "type": "scatter",
         "x": [
          0,
          1,
          2,
          3,
          4,
          5,
          6,
          7
         ],
         "xaxis": "x8",
         "y": [
          1,
          0.6859141128319308,
          0.14711912110426573,
          0.04767720560481106,
          0.011491776228371504,
          0.0024522425346089854,
          0.00035148258183325233,
          0.00003355796045237897
         ],
         "yaxis": "y8"
        },
        {
         "legendgroup": "1",
         "line": {
          "color": "#EF553B"
         },
         "mode": "lines",
         "name": "scipy_1-15_2_lbfgsb",
         "showlegend": false,
         "type": "scatter",
         "x": [
          0,
          1,
          2,
          3,
          4,
          5,
          6,
          7
         ],
         "xaxis": "x8",
         "y": [
          1,
          0.6859141128319308,
          0.14711912110426573,
          0.04767720560481102,
          0.011491776088244823,
          0.0024522424893024287,
          0.0003514825820441428,
          0.00003355796044280719
         ],
         "yaxis": "y8"
        },
        {
         "legendgroup": "0",
         "line": {
          "color": "#636EFA"
         },
         "mode": "lines",
         "name": "scipy_1-14_0_lbfgsb",
         "showlegend": false,
         "type": "scatter",
         "x": [
          0,
          1,
          2,
          3,
          4,
          5,
          6,
          7,
          8,
          9,
          10,
          11,
          12,
          13,
          14,
          15,
          16,
          17,
          18,
          19,
          20,
          21,
          22
         ],
         "xaxis": "x9",
         "y": [
          1,
          0.45280323985028664,
          0.08622493426027872,
          0.033454697788328776,
          0.013650697327158692,
          0.0069422416612777,
          0.0026927948226761964,
          0.002640164699006111,
          0.0026190917253603083,
          0.002499187444800673,
          0.002253995724531705,
          0.0017270755659881465,
          0.0017270755659881465,
          0.0017270755659881465,
          0.0015270009434683836,
          0.0012643855978430982,
          0.0008072147037343675,
          0.0004558525846417904,
          0.00023742897869694134,
          0.00021484583043474071,
          0.00018370839198520952,
          0.00010635058199517266,
          0.00006395921113674685
         ],
         "yaxis": "y9"
        },
        {
         "legendgroup": "1",
         "line": {
          "color": "#EF553B"
         },
         "mode": "lines",
         "name": "scipy_1-15_2_lbfgsb",
         "showlegend": false,
         "type": "scatter",
         "x": [
          0,
          1,
          2,
          3,
          4,
          5,
          6,
          7,
          8,
          9,
          10,
          11,
          12,
          13,
          14,
          15,
          16,
          17,
          18,
          19,
          20,
          21,
          22
         ],
         "xaxis": "x9",
         "y": [
          1,
          0.45280323985028664,
          0.08622493426027872,
          0.03345469778832876,
          0.013650697845877502,
          0.006942242662507149,
          0.0026927948095564463,
          0.0026401645775196874,
          0.0026190916614735773,
          0.0024991868720935194,
          0.0022539945183045165,
          0.0017270795440954836,
          0.0017270795440954836,
          0.0017270795440954836,
          0.001527000910525602,
          0.0012643892868802614,
          0.0008072239503295554,
          0.0004558547060328052,
          0.0002374326553391696,
          0.00021476286314359996,
          0.0001836886389956258,
          0.00010637014587161444,
          0.00006396836215002708
         ],
         "yaxis": "y9"
        },
        {
         "legendgroup": "0",
         "line": {
          "color": "#636EFA"
         },
         "mode": "lines",
         "name": "scipy_1-14_0_lbfgsb",
         "showlegend": false,
         "type": "scatter",
         "x": [
          0,
          1,
          2,
          3,
          4,
          5,
          6,
          7,
          8,
          9,
          10,
          11,
          12,
          13,
          14,
          15,
          16,
          17,
          18,
          19,
          20,
          21,
          22,
          23,
          24,
          25,
          26
         ],
         "xaxis": "x10",
         "y": [
          1,
          0.8146273808681831,
          0.2625869956714447,
          0.008691441464327983,
          0.008510310384027053,
          0.002465180161433821,
          0.0019427805676960961,
          0.0018466444181356363,
          0.0018312295458948968,
          0.0017869295634177372,
          0.0015740719085974495,
          0.0011514106451346452,
          0.0011514106451346452,
          0.0009200990278056792,
          0.0009200990278056792,
          0.0008675517372775589,
          0.0008675517372775589,
          0.0007934454695145932,
          0.0007667756071364077,
          0.0006698398754016048,
          0.0005681319275701023,
          0.00036652458106156867,
          0.00027635161144925075,
          0.00018556284706313216,
          0.00016433234606155693,
          0.0001288338644636239,
          0.00007735054554238673
         ],
         "yaxis": "y10"
        },
        {
         "legendgroup": "1",
         "line": {
          "color": "#EF553B"
         },
         "mode": "lines",
         "name": "scipy_1-15_2_lbfgsb",
         "showlegend": false,
         "type": "scatter",
         "x": [
          0,
          1,
          2,
          3,
          4,
          5,
          6,
          7,
          8,
          9,
          10,
          11,
          12,
          13,
          14,
          15,
          16,
          17,
          18,
          19,
          20,
          21,
          22,
          23,
          24,
          25,
          26
         ],
         "xaxis": "x10",
         "y": [
          1,
          0.8146273808681831,
          0.2625869956714447,
          0.008691441464327983,
          0.008510310384027052,
          0.0024651801614338203,
          0.0019427805604580292,
          0.0018466444190182066,
          0.0018312295467015859,
          0.001786929559835245,
          0.0015740717119511697,
          0.0011514128386516703,
          0.0011514128386516703,
          0.0009200990284404301,
          0.0009200990284404301,
          0.000867551762952081,
          0.000867551762952081,
          0.0007934455262503557,
          0.0007667756567135405,
          0.0006698399578454453,
          0.0005681319580561048,
          0.0003665246335985108,
          0.00027635295429525116,
          0.00018555939801486062,
          0.00016432379514064006,
          0.00012883209491274008,
          0.00007735053890254085
         ],
         "yaxis": "y10"
        },
        {
         "legendgroup": "0",
         "line": {
          "color": "#636EFA"
         },
         "mode": "lines",
         "name": "scipy_1-14_0_lbfgsb",
         "showlegend": false,
         "type": "scatter",
         "x": [
          0,
          1,
          2,
          3,
          4,
          5,
          6,
          7,
          8,
          9,
          10,
          11,
          12
         ],
         "xaxis": "x11",
         "y": [
          1.0000000000000002,
          0.17009972191267186,
          0.09413049097215413,
          0.05786535056622779,
          0.04934602538461325,
          0.036263036592967104,
          0.028654254807024167,
          0.019679530279293006,
          0.0025038494169944956,
          0.0007091081080547937,
          0.00042407578913604497,
          0.0002920801617354164,
          0.00006866715526647922
         ],
         "yaxis": "y11"
        },
        {
         "legendgroup": "1",
         "line": {
          "color": "#EF553B"
         },
         "mode": "lines",
         "name": "scipy_1-15_2_lbfgsb",
         "showlegend": false,
         "type": "scatter",
         "x": [
          0,
          1,
          2,
          3,
          4,
          5,
          6,
          7,
          8,
          9,
          10,
          11,
          12
         ],
         "xaxis": "x11",
         "y": [
          1.0000000000000002,
          0.1700997219126718,
          0.09413049097215413,
          0.05786534906514665,
          0.049346024627361935,
          0.03626303549133168,
          0.028654254326255617,
          0.0196795313076149,
          0.002503848253695128,
          0.0007091068390120339,
          0.00042407451755987894,
          0.0002920791953145099,
          0.0000686661652958705
         ],
         "yaxis": "y11"
        },
        {
         "legendgroup": "0",
         "line": {
          "color": "#636EFA"
         },
         "mode": "lines",
         "name": "scipy_1-14_0_lbfgsb",
         "showlegend": false,
         "type": "scatter",
         "x": [
          0,
          1,
          2,
          3,
          4,
          5,
          6,
          7,
          8,
          9,
          10,
          11,
          12,
          13,
          14,
          15,
          16,
          17
         ],
         "xaxis": "x12",
         "y": [
          1.0000000000000002,
          0.7482244156418748,
          0.17718770176952534,
          0.07029707145538969,
          0.025816396339131603,
          0.011627953005029296,
          0.006278782599503018,
          0.004187567400135166,
          0.0030834971886717034,
          0.0021344772984016156,
          0.0013910293625506278,
          0.0011573925278467643,
          0.0009580459153084828,
          0.0008474730796214588,
          0.0008474730796214588,
          0.0005095556399254561,
          0.0003379829745471898,
          0.00007008249803420162
         ],
         "yaxis": "y12"
        },
        {
         "legendgroup": "1",
         "line": {
          "color": "#EF553B"
         },
         "mode": "lines",
         "name": "scipy_1-15_2_lbfgsb",
         "showlegend": false,
         "type": "scatter",
         "x": [
          0,
          1,
          2,
          3,
          4,
          5,
          6,
          7,
          8,
          9,
          10,
          11,
          12,
          13,
          14,
          15,
          16,
          17
         ],
         "xaxis": "x12",
         "y": [
          1.0000000000000002,
          0.7482244156418748,
          0.17718770176952534,
          0.07029707145538973,
          0.02581639641313542,
          0.011627953164546654,
          0.006278782559930891,
          0.004187567396141641,
          0.003083497175981676,
          0.002134477288295824,
          0.0013910293284325056,
          0.001157392521394819,
          0.0009580459334357353,
          0.0008474731439270303,
          0.0008474731439270303,
          0.0005095557215955294,
          0.00033798316168165524,
          0.00007008231115094496
         ],
         "yaxis": "y12"
        },
        {
         "legendgroup": "0",
         "line": {
          "color": "#636EFA"
         },
         "mode": "lines",
         "name": "scipy_1-14_0_lbfgsb",
         "showlegend": false,
         "type": "scatter",
         "x": [
          0,
          1,
          2,
          3,
          4,
          5,
          6,
          7,
          8,
          9,
          10,
          11,
          12,
          13,
          14,
          15
         ],
         "xaxis": "x13",
         "y": [
          1,
          0.5185262953589234,
          0.2029450804961431,
          0.15454931933211868,
          0.14286049383584487,
          0.14252234062114513,
          0.14220059946819286,
          0.1410121147876026,
          0.13827281597782082,
          0.13104015288068094,
          0.11468910812865599,
          0.08503550796705296,
          0.04939156655136501,
          0.017357432427693352,
          0.0020211321616767555,
          0.00005103595835689886
         ],
         "yaxis": "y13"
        },
        {
         "legendgroup": "1",
         "line": {
          "color": "#EF553B"
         },
         "mode": "lines",
         "name": "scipy_1-15_2_lbfgsb",
         "showlegend": false,
         "type": "scatter",
         "x": [
          0,
          1,
          2,
          3,
          4,
          5,
          6,
          7,
          8,
          9,
          10,
          11,
          12,
          13,
          14,
          15
         ],
         "xaxis": "x13",
         "y": [
          1,
          0.5185262953589234,
          0.2029450804961431,
          0.15454931933211866,
          0.14286049378909704,
          0.14252234055819293,
          0.14220059962239565,
          0.14101211004473074,
          0.13827280853418128,
          0.13104016184620834,
          0.11468918302538242,
          0.08503531610166531,
          0.04939159153728138,
          0.017357399834036606,
          0.002021132240780815,
          0.000051035776944119895
         ],
         "yaxis": "y13"
        },
        {
         "legendgroup": "0",
         "line": {
          "color": "#636EFA"
         },
         "mode": "lines",
         "name": "scipy_1-14_0_lbfgsb",
         "showlegend": false,
         "type": "scatter",
         "x": [
          0,
          1,
          2,
          3,
          4,
          5,
          6,
          7,
          8,
          9,
          10,
          11
         ],
         "xaxis": "x14",
         "y": [
          0.9999997412265297,
          0.7421825144148164,
          0.22464650815437556,
          0.09807765300763249,
          0.0373413683583299,
          0.015012426816368826,
          0.005920049672614106,
          0.002356400524507263,
          0.0009359407549832743,
          0.0003717647164150789,
          0.00014662371687134077,
          0.00005675526041438103
         ],
         "yaxis": "y14"
        },
        {
         "legendgroup": "1",
         "line": {
          "color": "#EF553B"
         },
         "mode": "lines",
         "name": "scipy_1-15_2_lbfgsb",
         "showlegend": false,
         "type": "scatter",
         "x": [
          0,
          1,
          2,
          3,
          4,
          5,
          6,
          7,
          8,
          9,
          10,
          11
         ],
         "xaxis": "x14",
         "y": [
          0.9999997412265297,
          0.7421825144148164,
          0.22464650815437556,
          0.09807765300763249,
          0.0373413683583299,
          0.015012426816368826,
          0.005920049672614106,
          0.002356400524507263,
          0.0009359407686423278,
          0.00037176470892378763,
          0.0001466237159401956,
          0.00005675526078186048
         ],
         "yaxis": "y14"
        },
        {
         "legendgroup": "0",
         "line": {
          "color": "#636EFA"
         },
         "mode": "lines",
         "name": "scipy_1-14_0_lbfgsb",
         "showlegend": false,
         "type": "scatter",
         "x": [
          0,
          1,
          2,
          3,
          4,
          5
         ],
         "xaxis": "x15",
         "y": [
          0.9999999006965226,
          0.07678542582274704,
          0.016729578767339954,
          0.00014699238189000812,
          0.00011232224918379883,
          0.00008574468913109373
         ],
         "yaxis": "y15"
        },
        {
         "legendgroup": "1",
         "line": {
          "color": "#EF553B"
         },
         "mode": "lines",
         "name": "scipy_1-15_2_lbfgsb",
         "showlegend": false,
         "type": "scatter",
         "x": [
          0,
          1,
          2,
          3,
          4,
          5
         ],
         "xaxis": "x15",
         "y": [
          0.9999999006965226,
          0.07678542582274704,
          0.016729578767339954,
          0.00014699238189000812,
          0.00011232224918379883,
          0.00008574468913109373
         ],
         "yaxis": "y15"
        },
        {
         "legendgroup": "0",
         "line": {
          "color": "#636EFA"
         },
         "mode": "lines",
         "name": "scipy_1-14_0_lbfgsb",
         "showlegend": false,
         "type": "scatter",
         "x": [
          0,
          1,
          2,
          3,
          4,
          5,
          6,
          7,
          8,
          9,
          10,
          11,
          12,
          13,
          14,
          15,
          16,
          17,
          18,
          19
         ],
         "xaxis": "x16",
         "y": [
          0.9999996553549583,
          0.7981309864409328,
          0.009098328653652458,
          0.009095153275313447,
          0.009082404724294361,
          0.009030645822741488,
          0.00881055450563698,
          0.007653780972960149,
          0.007653780972960149,
          0.007637186112538851,
          0.007620466007263333,
          0.002628904209593174,
          0.002595029897295659,
          0.002045138038915793,
          0.001997910844526752,
          0.0010749059841603545,
          0.0009648679604754731,
          0.0005673600734829976,
          0.0005673600734829976,
          0.000009297023749625057
         ],
         "yaxis": "y16"
        },
        {
         "legendgroup": "1",
         "line": {
          "color": "#EF553B"
         },
         "mode": "lines",
         "name": "scipy_1-15_2_lbfgsb",
         "showlegend": false,
         "type": "scatter",
         "x": [
          0,
          1,
          2,
          3,
          4,
          5,
          6,
          7,
          8,
          9,
          10,
          11,
          12,
          13,
          14,
          15,
          16,
          17,
          18,
          19
         ],
         "xaxis": "x16",
         "y": [
          0.9999996553549583,
          0.7981309864409328,
          0.009098328653652458,
          0.009095153275313447,
          0.009082404724294361,
          0.009030645822741488,
          0.00881055450563698,
          0.007653780972960149,
          0.007653780972960149,
          0.007637186112538851,
          0.007620466007263333,
          0.002628904209593174,
          0.002595029897295659,
          0.002045138038915793,
          0.001997910844526752,
          0.0010749059841603545,
          0.0009648679586978243,
          0.0005673600801231597,
          0.0005673600801231597,
          0.000009296986862117414
         ],
         "yaxis": "y16"
        },
        {
         "legendgroup": "0",
         "line": {
          "color": "#636EFA"
         },
         "mode": "lines",
         "name": "scipy_1-14_0_lbfgsb",
         "showlegend": false,
         "type": "scatter",
         "x": [
          0
         ],
         "xaxis": "x17",
         "y": [
          1.0000000543601029
         ],
         "yaxis": "y17"
        },
        {
         "legendgroup": "1",
         "line": {
          "color": "#EF553B"
         },
         "mode": "lines",
         "name": "scipy_1-15_2_lbfgsb",
         "showlegend": false,
         "type": "scatter",
         "x": [
          0
         ],
         "xaxis": "x17",
         "y": [
          1.0000000543601029
         ],
         "yaxis": "y17"
        },
        {
         "legendgroup": "0",
         "line": {
          "color": "#636EFA"
         },
         "mode": "lines",
         "name": "scipy_1-14_0_lbfgsb",
         "showlegend": false,
         "type": "scatter",
         "x": [
          0,
          1,
          2,
          3,
          4,
          5,
          6,
          7,
          8,
          9,
          10,
          11,
          12,
          13,
          14,
          15,
          16,
          17,
          18,
          19,
          20,
          21,
          22,
          23,
          24,
          25,
          26
         ],
         "xaxis": "x18",
         "y": [
          0.9999998874805359,
          0.9999998874805359,
          0.004119778441112785,
          0.004119777094578196,
          0.0041197767681046184,
          0.00411977236913375,
          0.004119764265514963,
          0.004119739587375043,
          0.0041196784269497905,
          0.004119514860522829,
          0.004119090103667344,
          0.004117974679310069,
          0.004115057963669008,
          0.004107415909405664,
          0.004087362196649863,
          0.004034146984540958,
          0.0038851921717784925,
          0.003317270019209651,
          0.0005463690006638584,
          0.0005463690006638584,
          0.0004715889065681822,
          0.0004527547862603793,
          0.00042300519244555147,
          0.00034093692137383185,
          0.00022326040975871958,
          0.00010112698687012354,
          0.00007278360760663941
         ],
         "yaxis": "y18"
        },
        {
         "legendgroup": "1",
         "line": {
          "color": "#EF553B"
         },
         "mode": "lines",
         "name": "scipy_1-15_2_lbfgsb",
         "showlegend": false,
         "type": "scatter",
         "x": [
          0,
          1,
          2,
          3,
          4,
          5,
          6,
          7,
          8,
          9,
          10,
          11,
          12,
          13,
          14,
          15,
          16,
          17,
          18,
          19,
          20,
          21,
          22,
          23,
          24,
          25,
          26
         ],
         "xaxis": "x18",
         "y": [
          0.9999998874805359,
          0.9999998874805359,
          0.0041197784417703566,
          0.004119777094578638,
          0.004119776768137129,
          0.004119772367280195,
          0.00411976426053342,
          0.0041197395725057154,
          0.004119678387714208,
          0.004119514757955703,
          0.004119089832895746,
          0.004117973971733963,
          0.004115056101239251,
          0.0041074110442356464,
          0.004087349410593158,
          0.00403411270185233,
          0.0038850910407232206,
          0.003316748857105477,
          0.0005453928018684309,
          0.0005453928018684309,
          0.0004714989456047763,
          0.0004528372833352788,
          0.00042242949040347883,
          0.00034094770305714595,
          0.00022239166722693053,
          0.00010091644026185809,
          0.0000727262246765467
         ],
         "yaxis": "y18"
        },
        {
         "legendgroup": "0",
         "line": {
          "color": "#636EFA"
         },
         "mode": "lines",
         "name": "scipy_1-14_0_lbfgsb",
         "showlegend": false,
         "type": "scatter",
         "x": [
          0,
          1,
          2,
          3,
          4,
          5,
          6,
          7,
          8,
          9,
          10,
          11,
          12,
          13,
          14,
          15,
          16,
          17,
          18,
          19,
          20,
          21,
          22,
          23,
          24,
          25,
          26,
          27,
          28,
          29,
          30,
          31,
          32,
          33,
          34,
          35,
          36,
          37,
          38,
          39,
          40,
          41,
          42,
          43,
          44
         ],
         "xaxis": "x19",
         "y": [
          1.0000000715822643,
          1.0000000715822643,
          0.42540739784195253,
          0.36886554347344197,
          0.3008259119777066,
          0.22243713950832536,
          0.1188359916003979,
          0.04782965338273799,
          0.02284683279467739,
          0.006370384202544179,
          0.0013966755896053923,
          0.0007956424985276165,
          0.00074578369663135,
          0.0007161617512273993,
          0.0006601827911760141,
          0.0005332505576015488,
          0.0004394098086112072,
          0.00042805253657691376,
          0.00042440968904568883,
          0.00042349369404933297,
          0.00042327406808438065,
          0.0004231814853193819,
          0.0004230652518929964,
          0.00042241027325268417,
          0.00042107765201766795,
          0.000417499962155378,
          0.0004099137724867943,
          0.0003964873580154734,
          0.0003808762310242644,
          0.0003808762310242644,
          0.0003782777074438249,
          0.0003744708990418876,
          0.0003717253380873368,
          0.00037095936084011167,
          0.0003706483175199574,
          0.00036911517835285575,
          0.00036641609905692135,
          0.0003613563770323398,
          0.00035188638797386233,
          0.00032895687300482293,
          0.00028234544515597706,
          0.00028234544515597706,
          0.0002576139660747934,
          0.00018916235345353338,
          0.0000685862750030614
         ],
         "yaxis": "y19"
        },
        {
         "legendgroup": "1",
         "line": {
          "color": "#EF553B"
         },
         "mode": "lines",
         "name": "scipy_1-15_2_lbfgsb",
         "showlegend": false,
         "type": "scatter",
         "x": [
          0,
          1,
          2,
          3,
          4,
          5,
          6,
          7,
          8,
          9,
          10,
          11,
          12,
          13,
          14,
          15,
          16,
          17,
          18,
          19,
          20,
          21,
          22,
          23,
          24,
          25,
          26,
          27,
          28,
          29,
          30,
          31,
          32,
          33,
          34,
          35,
          36,
          37,
          38,
          39,
          40,
          41,
          42,
          43,
          44
         ],
         "xaxis": "x19",
         "y": [
          1.0000000715822643,
          1.0000000715822643,
          0.42540739784195253,
          0.36886554347344197,
          0.3008259111255575,
          0.22243714475220427,
          0.11883597136525396,
          0.047829670982668306,
          0.02284685679752993,
          0.006370398481892405,
          0.0013966783295460716,
          0.0007956421219564983,
          0.0007457833911689766,
          0.0007161626174262646,
          0.0006601858167002555,
          0.0005332590154362467,
          0.00043941135856306857,
          0.0004280465165797053,
          0.0004244087801635692,
          0.0004234930802353759,
          0.00042327392991420526,
          0.00042318093935378724,
          0.0004230645381825732,
          0.00042240649759754494,
          0.00042106893412642484,
          0.000417478192385971,
          0.00040987067065238205,
          0.0003964283446679852,
          0.00038083376728847664,
          0.00038083376728847664,
          0.00037821238941675313,
          0.00037444555682577825,
          0.00037174075997821156,
          0.0003709722918383162,
          0.00037065814479551515,
          0.000369110524872061,
          0.0003663863701737201,
          0.0003613026727567546,
          0.00035177087845137973,
          0.00032846786346489397,
          0.00028102788388125637,
          0.00028102788388125637,
          0.0002495485672342677,
          0.00018180218057406078,
          0.00007151262368480573
         ],
         "yaxis": "y19"
        },
        {
         "legendgroup": "0",
         "line": {
          "color": "#636EFA"
         },
         "mode": "lines",
         "name": "scipy_1-14_0_lbfgsb",
         "showlegend": false,
         "type": "scatter",
         "x": [
          0,
          1,
          2,
          3,
          4,
          5,
          6,
          7,
          8,
          9,
          10,
          11
         ],
         "xaxis": "x20",
         "y": [
          1.0000001601348,
          0.6918593330191749,
          0.16167652134164234,
          0.0584666724337063,
          0.017765346795886997,
          0.00570871566215537,
          0.0017907193214359496,
          0.000600301782885713,
          0.0002483350463934066,
          0.00014730658632699836,
          0.00010948389088025514,
          0.00007582320908870804
         ],
         "yaxis": "y20"
        },
        {
         "legendgroup": "1",
         "line": {
          "color": "#EF553B"
         },
         "mode": "lines",
         "name": "scipy_1-15_2_lbfgsb",
         "showlegend": false,
         "type": "scatter",
         "x": [
          0,
          1,
          2,
          3,
          4,
          5,
          6,
          7,
          8,
          9,
          10,
          11
         ],
         "xaxis": "x20",
         "y": [
          1.0000001601348,
          0.6918593330191749,
          0.1616765213416422,
          0.05846667098833129,
          0.017765347614617972,
          0.00570871577430344,
          0.0017907193785547313,
          0.0006003018019934906,
          0.00024833506091168816,
          0.00014730658650088607,
          0.00010948389993988652,
          0.0000758232150597796
         ],
         "yaxis": "y20"
        },
        {
         "legendgroup": "0",
         "line": {
          "color": "#636EFA"
         },
         "mode": "lines",
         "name": "scipy_1-14_0_lbfgsb",
         "showlegend": false,
         "type": "scatter",
         "x": [
          0,
          1,
          2,
          3,
          4,
          5,
          6,
          7,
          8,
          9,
          10,
          11,
          12,
          13,
          14,
          15,
          16,
          17,
          18,
          19,
          20,
          21,
          22,
          23,
          24,
          25,
          26,
          27,
          28,
          29,
          30,
          31
         ],
         "xaxis": "x21",
         "y": [
          0.9999998521574023,
          0.6532262732823799,
          0.6532262732823799,
          0.45183445338403166,
          0.2861408055872442,
          0.02189158381070024,
          0.012587196844577028,
          0.009865459372123722,
          0.001912110758474545,
          0.0016972456595778867,
          0.0015490921080076518,
          0.0014349817811710765,
          0.0009913517527055811,
          0.0009913517527055811,
          0.0006418206951989268,
          0.000611053448525745,
          0.0005792863862377595,
          0.000537476010483032,
          0.0002952206822043504,
          0.0002952206822043504,
          0.00022801628664256986,
          0.00016032316565841087,
          0.00013465405880955076,
          0.0001279683165950563,
          0.00011964262319729605,
          0.00010790314813073179,
          0.00010443544448291907,
          0.0001035970023053732,
          0.0001021875342204681,
          0.00010166581593171679,
          0.00010118182551558583,
          0.000098321300202662
         ],
         "yaxis": "y21"
        },
        {
         "legendgroup": "1",
         "line": {
          "color": "#EF553B"
         },
         "mode": "lines",
         "name": "scipy_1-15_2_lbfgsb",
         "showlegend": false,
         "type": "scatter",
         "x": [
          0,
          1,
          2,
          3,
          4,
          5,
          6,
          7,
          8,
          9,
          10,
          11,
          12,
          13,
          14,
          15,
          16,
          17,
          18,
          19,
          20,
          21,
          22,
          23,
          24,
          25,
          26,
          27,
          28,
          29,
          30,
          31
         ],
         "xaxis": "x21",
         "y": [
          0.9999998521574023,
          0.6532262732823799,
          0.6532262732823799,
          0.45183445338403166,
          0.28614080558724425,
          0.021891583354438447,
          0.012587196007807696,
          0.009865458436726069,
          0.0019121106338029032,
          0.0016972451614378095,
          0.0015490914142583204,
          0.001434980838112284,
          0.000991351780413438,
          0.000991351780413438,
          0.0006418200241223356,
          0.0006110528695749901,
          0.0005792851566281845,
          0.0005374730674381972,
          0.0002952147501710052,
          0.0002952147501710052,
          0.00022801630362144645,
          0.00016032136908742075,
          0.00013464908348473757,
          0.00012796619290837073,
          0.0001196328195110985,
          0.00010791391566258262,
          0.00010450324911908803,
          0.00010356512140198841,
          0.00010167436245603177,
          0.00010144876621108451,
          0.0001007480489666158,
          0.00009591682212176927
         ],
         "yaxis": "y21"
        },
        {
         "legendgroup": "0",
         "line": {
          "color": "#636EFA"
         },
         "mode": "lines",
         "name": "scipy_1-14_0_lbfgsb",
         "showlegend": false,
         "type": "scatter",
         "x": [
          0,
          1,
          2,
          3,
          4,
          5,
          6,
          7,
          8,
          9,
          10,
          11
         ],
         "xaxis": "x22",
         "y": [
          0.9999999540636199,
          0.7425011412212494,
          0.1676477968502229,
          0.061238652454150284,
          0.018459650019752347,
          0.005906832564138634,
          0.0018278850778701177,
          0.0005964427409811548,
          0.0002363594514449069,
          0.00013688063927030133,
          0.00010389926128484969,
          0.00007824439243924116
         ],
         "yaxis": "y22"
        },
        {
         "legendgroup": "1",
         "line": {
          "color": "#EF553B"
         },
         "mode": "lines",
         "name": "scipy_1-15_2_lbfgsb",
         "showlegend": false,
         "type": "scatter",
         "x": [
          0,
          1,
          2,
          3,
          4,
          5,
          6,
          7,
          8,
          9,
          10,
          11
         ],
         "xaxis": "x22",
         "y": [
          0.9999999540636199,
          0.7425011412212494,
          0.16764779685022316,
          0.06123865641884075,
          0.018459649525514002,
          0.005906831481983927,
          0.0018278851023316215,
          0.0005964427219709468,
          0.0002363593498061847,
          0.00013688067595110887,
          0.00010389930279661018,
          0.00007824441137747701
         ],
         "yaxis": "y22"
        },
        {
         "legendgroup": "0",
         "line": {
          "color": "#636EFA"
         },
         "mode": "lines",
         "name": "scipy_1-14_0_lbfgsb",
         "showlegend": false,
         "type": "scatter",
         "x": [
          0,
          1,
          2,
          3,
          4,
          5,
          6,
          7,
          8,
          9,
          10,
          11,
          12,
          13,
          14,
          15,
          16,
          17,
          18,
          19,
          20,
          21,
          22,
          23,
          24,
          25,
          26,
          27,
          28,
          29,
          30,
          31,
          32,
          33,
          34,
          35,
          36,
          37,
          38,
          39,
          40,
          41,
          42,
          43,
          44
         ],
         "xaxis": "x23",
         "y": [
          0.9999999355176927,
          0.9999999355176927,
          0.5523484389611318,
          0.2657269580209393,
          0.19067464351564212,
          0.07614906321767728,
          0.01458016654817772,
          0.005486911399992635,
          0.0033078620854533787,
          0.0028751981228563,
          0.0028116255904539686,
          0.0026914965287147957,
          0.0024471788905218745,
          0.0019971288584773195,
          0.0016703467311294851,
          0.0014796120029796035,
          0.0014796120029796035,
          0.0013914559948955097,
          0.0011673764240910202,
          0.0007500938455236737,
          0.0007500938455236737,
          0.0006128015365715019,
          0.0004454519017470009,
          0.00041935676090139177,
          0.00039566821924488587,
          0.00037900850234827643,
          0.00036560743411167277,
          0.00033733807423257415,
          0.0003262799623568005,
          0.00030576111378686685,
          0.00025068755614003033,
          0.00023576932009636593,
          0.000197325561053958,
          0.00018698871067198856,
          0.0001756750549949115,
          0.00015074271782422374,
          0.00015074271782422374,
          0.00014193083950776278,
          0.0001311273302892841,
          0.00012033100005354045,
          0.00012033100005354045,
          0.00011680921533709177,
          0.00011126899115324562,
          0.00010302112892154542,
          0.00009677938979613091
         ],
         "yaxis": "y23"
        },
        {
         "legendgroup": "1",
         "line": {
          "color": "#EF553B"
         },
         "mode": "lines",
         "name": "scipy_1-15_2_lbfgsb",
         "showlegend": false,
         "type": "scatter",
         "x": [
          0,
          1,
          2,
          3,
          4,
          5,
          6,
          7,
          8,
          9,
          10,
          11,
          12,
          13,
          14,
          15,
          16,
          17,
          18,
          19,
          20,
          21,
          22,
          23,
          24,
          25,
          26,
          27,
          28,
          29,
          30,
          31,
          32,
          33,
          34,
          35,
          36,
          37,
          38,
          39,
          40,
          41,
          42,
          43
         ],
         "xaxis": "x23",
         "y": [
          0.9999999355176927,
          0.9999999355176927,
          0.5523484389611318,
          0.2657269580209393,
          0.19067464351564212,
          0.07614906321767727,
          0.014580167143465887,
          0.00548691074570212,
          0.0033078617526115382,
          0.002875197875551173,
          0.002811625317476359,
          0.0026914968273873655,
          0.002447175263557042,
          0.001997133076274152,
          0.0016703360865608938,
          0.0014795766978674737,
          0.0014795766978674737,
          0.0013914133283101223,
          0.001167329790802864,
          0.0007500486360496598,
          0.0007500486360496598,
          0.0006127512109900185,
          0.000445436389669546,
          0.00041935779709031154,
          0.00039567632812120043,
          0.0003790188561169279,
          0.00036558704444830664,
          0.0003372610366925415,
          0.0003278655873137475,
          0.0003060554144851544,
          0.0002508462873269684,
          0.0002356581145610035,
          0.0001975435664435282,
          0.00018718015323839564,
          0.0001758256801883763,
          0.00015100091340831365,
          0.00015100091340831365,
          0.0001417717538240791,
          0.00013097996549798124,
          0.00011750118590501844,
          0.00011750118590501844,
          0.00011354317044219445,
          0.00010663338334048164,
          0.00009778612147767211
         ],
         "yaxis": "y23"
        },
        {
         "legendgroup": "0",
         "line": {
          "color": "#636EFA"
         },
         "mode": "lines",
         "name": "scipy_1-14_0_lbfgsb",
         "showlegend": false,
         "type": "scatter",
         "x": [
          0,
          1,
          2,
          3,
          4,
          5,
          6,
          7,
          8,
          9,
          10
         ],
         "xaxis": "x24",
         "y": [
          0.9999998675965979,
          0.7741900642226076,
          0.17134285741300873,
          0.06300336315263935,
          0.018922648405431192,
          0.006048030076399598,
          0.0018577027146848852,
          0.0005935527982712923,
          0.0002243759249069597,
          0.0001241066865970133,
          0.00009385703035343855
         ],
         "yaxis": "y24"
        },
        {
         "legendgroup": "1",
         "line": {
          "color": "#EF553B"
         },
         "mode": "lines",
         "name": "scipy_1-15_2_lbfgsb",
         "showlegend": false,
         "type": "scatter",
         "x": [
          0,
          1,
          2,
          3,
          4,
          5,
          6,
          7,
          8,
          9,
          10
         ],
         "xaxis": "x24",
         "y": [
          0.9999998675965979,
          0.7741900642226076,
          0.17134285741300873,
          0.06300336315263944,
          0.018922651203118625,
          0.0060480304648681486,
          0.001857702661125116,
          0.0005935525091528622,
          0.00022437606148299432,
          0.00012410665740803905,
          0.00009385705211755218
         ],
         "yaxis": "y24"
        },
        {
         "legendgroup": "0",
         "line": {
          "color": "#636EFA"
         },
         "mode": "lines",
         "name": "scipy_1-14_0_lbfgsb",
         "showlegend": false,
         "type": "scatter",
         "x": [
          0,
          1,
          2,
          3,
          4,
          5,
          6,
          7,
          8,
          9,
          10,
          11,
          12,
          13,
          14,
          15,
          16,
          17,
          18
         ],
         "xaxis": "x25",
         "y": [
          0.9999998163314096,
          0.8472456770708497,
          0.8472456770708497,
          0.48991320342510714,
          0.48991320342510714,
          0.48991320342510714,
          0.48991320342510714,
          0.48991320342510714,
          0.455349973065411,
          0.407046117121011,
          0.046466765787314415,
          0.029319539623888426,
          0.013161802878374934,
          0.006509552051698955,
          0.0030091752987188632,
          0.0013678003102411604,
          0.0005883212088306215,
          0.0002361866992053086,
          0.0000847575124397339
         ],
         "yaxis": "y25"
        },
        {
         "legendgroup": "1",
         "line": {
          "color": "#EF553B"
         },
         "mode": "lines",
         "name": "scipy_1-15_2_lbfgsb",
         "showlegend": false,
         "type": "scatter",
         "x": [
          0,
          1,
          2,
          3,
          4,
          5,
          6,
          7,
          8,
          9,
          10,
          11,
          12,
          13,
          14,
          15,
          16,
          17,
          18
         ],
         "xaxis": "x25",
         "y": [
          0.9999998163314096,
          0.8472456770708497,
          0.8472456770708497,
          0.48991320342510714,
          0.48991320342510714,
          0.48991320342510714,
          0.48991320342510714,
          0.48991320342510714,
          0.45534997306409614,
          0.40704611750818553,
          0.046466769137867577,
          0.02931953826557015,
          0.013161804345259402,
          0.006509552316532065,
          0.003009175545051105,
          0.0013678003759165249,
          0.0005883212913396393,
          0.0002361867145035454,
          0.00008475752310000571
         ],
         "yaxis": "y25"
        },
        {
         "legendgroup": "0",
         "line": {
          "color": "#636EFA"
         },
         "mode": "lines",
         "name": "scipy_1-14_0_lbfgsb",
         "showlegend": false,
         "type": "scatter",
         "x": [
          0
         ],
         "xaxis": "x26",
         "y": [
          1.000000040020445
         ],
         "yaxis": "y26"
        },
        {
         "legendgroup": "1",
         "line": {
          "color": "#EF553B"
         },
         "mode": "lines",
         "name": "scipy_1-15_2_lbfgsb",
         "showlegend": false,
         "type": "scatter",
         "x": [
          0
         ],
         "xaxis": "x26",
         "y": [
          1.000000040020445
         ],
         "yaxis": "y26"
        },
        {
         "legendgroup": "0",
         "line": {
          "color": "#636EFA"
         },
         "mode": "lines",
         "name": "scipy_1-14_0_lbfgsb",
         "showlegend": false,
         "type": "scatter",
         "x": [
          0,
          1,
          2,
          3,
          4,
          5,
          6,
          7,
          8,
          9,
          10
         ],
         "xaxis": "x27",
         "y": [
          1.0000000429795926,
          0.7605695503901309,
          0.3511152955574926,
          0.2992621662410118,
          0.2569807969377685,
          0.15788587530596598,
          0.06160789617432403,
          0.03272757839908561,
          0.01525747584377876,
          0.0026822253373324553,
          0.000025376722337927525
         ],
         "yaxis": "y27"
        },
        {
         "legendgroup": "1",
         "line": {
          "color": "#EF553B"
         },
         "mode": "lines",
         "name": "scipy_1-15_2_lbfgsb",
         "showlegend": false,
         "type": "scatter",
         "x": [
          0,
          1,
          2,
          3,
          4,
          5,
          6,
          7,
          8,
          9,
          10
         ],
         "xaxis": "x27",
         "y": [
          1.0000000429795926,
          0.7605695503901309,
          0.3511152955574926,
          0.2992621662410118,
          0.25698079693776843,
          0.15788587919972885,
          0.06160789388065109,
          0.03272758036625282,
          0.015257472043273174,
          0.0026822262498663787,
          0.0000253766406449651
         ],
         "yaxis": "y27"
        },
        {
         "legendgroup": "0",
         "line": {
          "color": "#636EFA"
         },
         "mode": "lines",
         "name": "scipy_1-14_0_lbfgsb",
         "showlegend": false,
         "type": "scatter",
         "x": [
          0,
          1,
          2,
          3,
          4,
          5,
          6,
          7,
          8,
          9,
          10,
          11,
          12,
          13,
          14
         ],
         "xaxis": "x28",
         "y": [
          1.0000000925425399,
          0.9706478048887649,
          0.8601549638040322,
          0.2339798609420423,
          0.11361359916207604,
          0.05243940043298572,
          0.02708221834386907,
          0.013433540382570506,
          0.006974213714911028,
          0.005008148687659412,
          0.0034059423663988595,
          0.0008873137350670205,
          0.0003615587374941171,
          0.00011790984638506478,
          0.00004082765532132832
         ],
         "yaxis": "y28"
        },
        {
         "legendgroup": "1",
         "line": {
          "color": "#EF553B"
         },
         "mode": "lines",
         "name": "scipy_1-15_2_lbfgsb",
         "showlegend": false,
         "type": "scatter",
         "x": [
          0,
          1,
          2,
          3,
          4,
          5,
          6,
          7,
          8,
          9,
          10,
          11,
          12,
          13,
          14
         ],
         "xaxis": "x28",
         "y": [
          1.0000000925425399,
          0.9706478048887649,
          0.8601549638040322,
          0.2339798609420423,
          0.11361359916207604,
          0.05243940043298577,
          0.027082217765758143,
          0.013433540897219596,
          0.0069742124244415735,
          0.005008148876382965,
          0.0034059412634885487,
          0.0008873138555077739,
          0.0003615588131229405,
          0.00011790990193328888,
          0.00004082767323113137
         ],
         "yaxis": "y28"
        },
        {
         "legendgroup": "0",
         "line": {
          "color": "#636EFA"
         },
         "mode": "lines",
         "name": "scipy_1-14_0_lbfgsb",
         "showlegend": false,
         "type": "scatter",
         "x": [
          0,
          1,
          2,
          3,
          4,
          5,
          6,
          7,
          8,
          9,
          10,
          11,
          12,
          13,
          14,
          15
         ],
         "xaxis": "x29",
         "y": [
          1.0000000494841996,
          1.0000000494841996,
          1.0000000494841996,
          1.0000000494841996,
          0.5995845669219628,
          0.5383170611749837,
          0.3183116539443342,
          0.16329380986035041,
          0.08669805418681407,
          0.0383764555707729,
          0.0227014369258473,
          0.015960649425775575,
          0.010511698131352016,
          0.00563309410644208,
          0.0003142154606378619,
          0.00002083067599707145
         ],
         "yaxis": "y29"
        },
        {
         "legendgroup": "1",
         "line": {
          "color": "#EF553B"
         },
         "mode": "lines",
         "name": "scipy_1-15_2_lbfgsb",
         "showlegend": false,
         "type": "scatter",
         "x": [
          0,
          1,
          2,
          3,
          4,
          5,
          6,
          7,
          8,
          9,
          10,
          11,
          12,
          13,
          14,
          15
         ],
         "xaxis": "x29",
         "y": [
          1.0000000494841996,
          1.0000000494841996,
          1.0000000494841996,
          1.0000000494841996,
          0.5995845669219628,
          0.5383170611749837,
          0.3183116539443342,
          0.16329380986035003,
          0.08669804910762136,
          0.03837646809603858,
          0.022701439433333626,
          0.01596065003955027,
          0.010511698797387519,
          0.005633096363492737,
          0.00031421531153031246,
          0.00002083059414957003
         ],
         "yaxis": "y29"
        },
        {
         "legendgroup": "0",
         "line": {
          "color": "#636EFA"
         },
         "mode": "lines",
         "name": "scipy_1-14_0_lbfgsb",
         "showlegend": false,
         "type": "scatter",
         "x": [
          0,
          1,
          2,
          3,
          4,
          5,
          6,
          7,
          8,
          9,
          10,
          11,
          12,
          13,
          14,
          15
         ],
         "xaxis": "x30",
         "y": [
          0.9999999545083785,
          0.9999999545083785,
          0.9999999545083785,
          0.9999999545083785,
          0.6580548490083329,
          0.5714198261370734,
          0.2949709125838088,
          0.2949709125838088,
          0.04820755107548282,
          0.04820755107548282,
          0.02399733926365582,
          0.006019571892951683,
          0.0009924208101959571,
          0.0005998900558113834,
          0.00023729841697257804,
          0.000013637390898484378
         ],
         "yaxis": "y30"
        },
        {
         "legendgroup": "1",
         "line": {
          "color": "#EF553B"
         },
         "mode": "lines",
         "name": "scipy_1-15_2_lbfgsb",
         "showlegend": false,
         "type": "scatter",
         "x": [
          0,
          1,
          2,
          3,
          4,
          5,
          6,
          7,
          8,
          9,
          10,
          11,
          12,
          13,
          14,
          15
         ],
         "xaxis": "x30",
         "y": [
          0.9999999545083785,
          0.9999999545083785,
          0.9999999545083785,
          0.9999999545083785,
          0.6580548490083329,
          0.5714198261370734,
          0.2949709125838088,
          0.2949709125838088,
          0.04820755107548282,
          0.04820755107548282,
          0.02399733926365582,
          0.006019571892951683,
          0.0009924208101959571,
          0.0005998900558113834,
          0.00023729841697257804,
          0.000013637390898484378
         ],
         "yaxis": "y30"
        },
        {
         "legendgroup": "0",
         "line": {
          "color": "#636EFA"
         },
         "mode": "lines",
         "name": "scipy_1-14_0_lbfgsb",
         "showlegend": false,
         "type": "scatter",
         "x": [
          0,
          1,
          2,
          3,
          4,
          5,
          6,
          7,
          8,
          9,
          10,
          11,
          12,
          13,
          14,
          15,
          16,
          17,
          18,
          19,
          20,
          21,
          22,
          23
         ],
         "xaxis": "x31",
         "y": [
          0.9999999511672543,
          0.9999999511672543,
          0.9999999511672543,
          0.9999999511672543,
          0.442546982947203,
          0.37912195610716665,
          0.3363857324696993,
          0.22624950455840653,
          0.21027720038101858,
          0.19708745810936837,
          0.18000822113657233,
          0.14944244462075226,
          0.09081211041145545,
          0.08928026112299495,
          0.06018968854624305,
          0.036246514667838944,
          0.036246514667838944,
          0.022744478948202394,
          0.005674390173931259,
          0.003311759057631614,
          0.002252550455537646,
          0.0008767402323530896,
          0.0001403297153619767,
          0.0000027843556352295574
         ],
         "yaxis": "y31"
        },
        {
         "legendgroup": "1",
         "line": {
          "color": "#EF553B"
         },
         "mode": "lines",
         "name": "scipy_1-15_2_lbfgsb",
         "showlegend": false,
         "type": "scatter",
         "x": [
          0,
          1,
          2,
          3,
          4,
          5,
          6,
          7,
          8,
          9,
          10,
          11,
          12,
          13,
          14,
          15,
          16,
          17,
          18,
          19,
          20,
          21,
          22,
          23
         ],
         "xaxis": "x31",
         "y": [
          0.9999999511672543,
          0.9999999511672543,
          0.9999999511672543,
          0.9999999511672543,
          0.442546982947203,
          0.37912195610716665,
          0.3363857324696993,
          0.22624950455840653,
          0.21027720038101858,
          0.19708745810936837,
          0.18000822113657244,
          0.14944245305016057,
          0.09081211973466019,
          0.08928059473907658,
          0.060189766815916625,
          0.03624645972782932,
          0.03624645972782932,
          0.022744481493117166,
          0.0056744470478805415,
          0.003311763248573624,
          0.0022525623697470434,
          0.0008767418632542515,
          0.00014033302839390222,
          0.0000027844226294144526
         ],
         "yaxis": "y31"
        },
        {
         "legendgroup": "0",
         "line": {
          "color": "#636EFA"
         },
         "mode": "lines",
         "name": "scipy_1-14_0_lbfgsb",
         "showlegend": false,
         "type": "scatter",
         "x": [
          0,
          1,
          2,
          3,
          4,
          5,
          6,
          7,
          8,
          9,
          10,
          11,
          12,
          13,
          14,
          15,
          16,
          17,
          18,
          19,
          20,
          21
         ],
         "xaxis": "x32",
         "y": [
          1.0000000099790942,
          1.0000000099790942,
          1.0000000099790942,
          1.0000000099790942,
          0.5676323382458177,
          0.49679342503770585,
          0.44835562272105,
          0.3455428533294954,
          0.25536235734760154,
          0.25536235734760154,
          0.20324819288765417,
          0.20324819288765417,
          0.17204834844494685,
          0.11449463268515847,
          0.03724304716966232,
          0.026424912647492103,
          0.018111639821704564,
          0.008030517375298854,
          0.005719995830980862,
          0.002683071004926014,
          0.0006521702091989634,
          0.00007865608303414595
         ],
         "yaxis": "y32"
        },
        {
         "legendgroup": "1",
         "line": {
          "color": "#EF553B"
         },
         "mode": "lines",
         "name": "scipy_1-15_2_lbfgsb",
         "showlegend": false,
         "type": "scatter",
         "x": [
          0,
          1,
          2,
          3,
          4,
          5,
          6,
          7,
          8,
          9,
          10,
          11,
          12,
          13,
          14,
          15,
          16,
          17,
          18,
          19,
          20,
          21
         ],
         "xaxis": "x32",
         "y": [
          1.0000000099790942,
          1.0000000099790942,
          1.0000000099790942,
          1.0000000099790942,
          0.5676323382458177,
          0.49679342503770585,
          0.44835562272105,
          0.3455428533294954,
          0.25536235734760154,
          0.25536235734760154,
          0.20324819286289142,
          0.20324819286289142,
          0.17204835143170702,
          0.11449461904033206,
          0.03724304262916308,
          0.026424911482859158,
          0.018111639533822083,
          0.008030512005537784,
          0.005718888771000686,
          0.002686272174539523,
          0.0006523866349316148,
          0.00007923309513840992
         ],
         "yaxis": "y32"
        },
        {
         "legendgroup": "0",
         "line": {
          "color": "#636EFA"
         },
         "mode": "lines",
         "name": "scipy_1-14_0_lbfgsb",
         "showlegend": false,
         "type": "scatter",
         "x": [
          0,
          1,
          2,
          3,
          4,
          5,
          6,
          7,
          8,
          9,
          10,
          11,
          12,
          13,
          14,
          15,
          16,
          17,
          18,
          19,
          20,
          21,
          22,
          23,
          24,
          25,
          26,
          27,
          28,
          29,
          30,
          31
         ],
         "xaxis": "x33",
         "y": [
          0.9999998434966246,
          0.9999998434966246,
          0.9999998434966246,
          0.9999998434966246,
          0.33821486985496,
          0.31236603323406603,
          0.23093126161725294,
          0.2078772973542837,
          0.16224177326925396,
          0.11010845531504662,
          0.1041962950138304,
          0.09538616772105228,
          0.09450776845056406,
          0.09407169280525836,
          0.09353356215297852,
          0.09094914709855668,
          0.08778009224737039,
          0.07769111557847723,
          0.07748719552481802,
          0.07173766392725703,
          0.0662506171986331,
          0.0662506171986331,
          0.061953375861587744,
          0.06056599427179098,
          0.06014466654137892,
          0.05985023622783443,
          0.05985023622783443,
          0.059768773183692614,
          0.05973229516456339,
          0.05971893630088422,
          0.05971768550882747,
          0.05971741600656065
         ],
         "yaxis": "y33"
        },
        {
         "legendgroup": "1",
         "line": {
          "color": "#EF553B"
         },
         "mode": "lines",
         "name": "scipy_1-15_2_lbfgsb",
         "showlegend": false,
         "type": "scatter",
         "x": [
          0,
          1,
          2,
          3,
          4,
          5,
          6,
          7,
          8,
          9,
          10,
          11,
          12,
          13,
          14,
          15,
          16,
          17,
          18,
          19,
          20,
          21,
          22,
          23,
          24,
          25,
          26,
          27,
          28,
          29,
          30,
          31
         ],
         "xaxis": "x33",
         "y": [
          0.9999998434966246,
          0.9999998434966246,
          0.9999998434966246,
          0.9999998434966246,
          0.3382148665988606,
          0.3123660296745584,
          0.23093126256768723,
          0.20787729789079556,
          0.1622417747629995,
          0.11010845542832196,
          0.10419629284110371,
          0.09538616761107437,
          0.09450776838646804,
          0.09407169275512563,
          0.09353356227815637,
          0.09094914992872877,
          0.08778009822692863,
          0.07769111138539013,
          0.07748690544287282,
          0.07173760404504952,
          0.06624989519316633,
          0.06624989519316633,
          0.061953235827221786,
          0.06056591099563658,
          0.060144634500819374,
          0.059847907948257666,
          0.059847907948257666,
          0.05976915790689266,
          0.05973229950584991,
          0.059717855769395235,
          0.059717721602503535,
          0.059717416032227216
         ],
         "yaxis": "y33"
        },
        {
         "legendgroup": "0",
         "line": {
          "color": "#636EFA"
         },
         "mode": "lines",
         "name": "scipy_1-14_0_lbfgsb",
         "showlegend": false,
         "type": "scatter",
         "x": [
          0,
          1,
          2,
          3,
          4,
          5,
          6,
          7,
          8,
          9,
          10,
          11,
          12,
          13,
          14,
          15,
          16,
          17,
          18,
          19,
          20,
          21,
          22,
          23,
          24,
          25,
          26,
          27,
          28
         ],
         "xaxis": "x34",
         "y": [
          1.0000001362599928,
          1.0000001362599928,
          1.0000001362599928,
          1.0000001362599928,
          0.48053746765220073,
          0.3742377475797708,
          0.2984279649801742,
          0.2817183445651569,
          0.1811922222052531,
          0.1811922222052531,
          0.16538332370947997,
          0.15702692306523364,
          0.1494814013596375,
          0.14487847610567092,
          0.11719287823158575,
          0.11719287823158575,
          0.08805394003622777,
          0.08805394003622777,
          0.07516896650720374,
          0.06211489553270621,
          0.028547654542331043,
          0.028547654542331043,
          0.010706695890334584,
          0.010706695890334584,
          0.0023332088402877025,
          0.0010911824737962273,
          0.00014900590150517326,
          0.00011375188128263126,
          0.0000799556461542577
         ],
         "yaxis": "y34"
        },
        {
         "legendgroup": "1",
         "line": {
          "color": "#EF553B"
         },
         "mode": "lines",
         "name": "scipy_1-15_2_lbfgsb",
         "showlegend": false,
         "type": "scatter",
         "x": [
          0,
          1,
          2,
          3,
          4,
          5,
          6,
          7,
          8,
          9,
          10,
          11,
          12,
          13,
          14,
          15,
          16,
          17,
          18,
          19,
          20,
          21,
          22,
          23,
          24,
          25,
          26,
          27,
          28
         ],
         "xaxis": "x34",
         "y": [
          1.0000001362599928,
          1.0000001362599928,
          1.0000001362599928,
          1.0000001362599928,
          0.48053746765220073,
          0.3742377475797708,
          0.2984279649801742,
          0.2817183445651569,
          0.1811922222052531,
          0.1811922222052531,
          0.1653833237094801,
          0.157026923150623,
          0.149481401963312,
          0.14487847836281653,
          0.11719338015061574,
          0.11719338015061574,
          0.08805501629006504,
          0.08805501629006504,
          0.07516942657780433,
          0.06211258318639738,
          0.028544521905560307,
          0.028544521905560307,
          0.010707679673766584,
          0.010707679673766584,
          0.002333441745979617,
          0.0010917690271519762,
          0.00014897401761032023,
          0.00011367988011868752,
          0.00007994939709643108
         ],
         "yaxis": "y34"
        },
        {
         "legendgroup": "0",
         "line": {
          "color": "#636EFA"
         },
         "mode": "lines",
         "name": "scipy_1-14_0_lbfgsb",
         "showlegend": false,
         "type": "scatter",
         "x": [
          0,
          1,
          2
         ],
         "xaxis": "x35",
         "y": [
          1.0000001750376006,
          0.13714709521332571,
          0.000017015621080397936
         ],
         "yaxis": "y35"
        },
        {
         "legendgroup": "1",
         "line": {
          "color": "#EF553B"
         },
         "mode": "lines",
         "name": "scipy_1-15_2_lbfgsb",
         "showlegend": false,
         "type": "scatter",
         "x": [
          0,
          1,
          2
         ],
         "xaxis": "x35",
         "y": [
          1.0000001750376006,
          0.13714709521332571,
          0.000017015621080397936
         ],
         "yaxis": "y35"
        },
        {
         "legendgroup": "0",
         "line": {
          "color": "#636EFA"
         },
         "mode": "lines",
         "name": "scipy_1-14_0_lbfgsb",
         "showlegend": false,
         "type": "scatter",
         "x": [
          0
         ],
         "xaxis": "x36",
         "y": [
          1.0000001570986188
         ],
         "yaxis": "y36"
        },
        {
         "legendgroup": "1",
         "line": {
          "color": "#EF553B"
         },
         "mode": "lines",
         "name": "scipy_1-15_2_lbfgsb",
         "showlegend": false,
         "type": "scatter",
         "x": [
          0
         ],
         "xaxis": "x36",
         "y": [
          1.0000001570986188
         ],
         "yaxis": "y36"
        },
        {
         "legendgroup": "0",
         "line": {
          "color": "#636EFA"
         },
         "mode": "lines",
         "name": "scipy_1-14_0_lbfgsb",
         "showlegend": false,
         "type": "scatter",
         "x": [
          0,
          1,
          2,
          3,
          4,
          5,
          6,
          7,
          8,
          9,
          10,
          11,
          12,
          13,
          14,
          15,
          16,
          17,
          18,
          19,
          20,
          21,
          22,
          23,
          24,
          25,
          26,
          27,
          28,
          29,
          30,
          31,
          32,
          33,
          34,
          35,
          36,
          37,
          38,
          39,
          40,
          41,
          42,
          43,
          44,
          45,
          46,
          47,
          48,
          49,
          50,
          51,
          52,
          53,
          54,
          55,
          56,
          57,
          58,
          59,
          60,
          61,
          62,
          63,
          64,
          65,
          66,
          67,
          68,
          69,
          70,
          71,
          72,
          73,
          74,
          75,
          76
         ],
         "xaxis": "x37",
         "y": [
          0.999999763409082,
          0.999999763409082,
          0.5819312901387098,
          0.32467637351356177,
          0.2979915698092604,
          0.27616297525475914,
          0.23587644228466406,
          0.16367403139464484,
          0.16367403139464484,
          0.14866927733257596,
          0.14520853528280991,
          0.14456409145247803,
          0.1441411003342185,
          0.14354513227545398,
          0.14200207084840002,
          0.14039147788604145,
          0.1390085604304807,
          0.137651707659581,
          0.13557839863015478,
          0.12402786219165951,
          0.10622424471966393,
          0.10622424471966393,
          0.09142496730476518,
          0.09142496730476518,
          0.08173909674563885,
          0.05101340894056103,
          0.039762313245559754,
          0.039762313245559754,
          0.037706240134896506,
          0.037706240134896506,
          0.036293741438907914,
          0.03523897493131385,
          0.03523897493131385,
          0.03509013160326151,
          0.034799226682481435,
          0.03469986011894645,
          0.03445043301177556,
          0.034129597958678766,
          0.033781693691594575,
          0.03325840948480557,
          0.030211075957459796,
          0.024651618990934047,
          0.022263020863493473,
          0.02094415050452197,
          0.017144509173090954,
          0.009741329318739816,
          0.006448035282255021,
          0.005221259226374071,
          0.004601292936731924,
          0.002813858839353485,
          0.0019424165495788251,
          0.0019424165495788251,
          0.0014626054446853674,
          0.001058758982419889,
          0.0009860195810291795,
          0.0009468708546326585,
          0.0009283105816156539,
          0.0009208442336200959,
          0.0009113430295545707,
          0.0009021910821936479,
          0.0008943089268602251,
          0.0008906220831617488,
          0.0008857345644779832,
          0.0008837189850966373,
          0.0008795026861529056,
          0.0008729365481452234,
          0.0008628249405844567,
          0.0008424391431903977,
          0.0008009579755508549,
          0.00072847636937435,
          0.0006180823712979279,
          0.0005268899698172436,
          0.00040227436380799875,
          0.000278100748544163,
          0.00019683802176847126,
          0.00012012295688964951,
          0.00007923888052158584
         ],
         "yaxis": "y37"
        },
        {
         "legendgroup": "1",
         "line": {
          "color": "#EF553B"
         },
         "mode": "lines",
         "name": "scipy_1-15_2_lbfgsb",
         "showlegend": false,
         "type": "scatter",
         "x": [
          0,
          1,
          2,
          3,
          4,
          5,
          6,
          7,
          8,
          9,
          10,
          11,
          12,
          13,
          14,
          15,
          16,
          17,
          18,
          19,
          20,
          21,
          22,
          23,
          24,
          25,
          26,
          27,
          28,
          29,
          30,
          31,
          32,
          33,
          34,
          35,
          36,
          37,
          38,
          39,
          40,
          41,
          42,
          43,
          44,
          45,
          46,
          47,
          48,
          49,
          50,
          51,
          52,
          53,
          54,
          55,
          56,
          57,
          58,
          59,
          60,
          61,
          62,
          63,
          64,
          65,
          66,
          67,
          68,
          69,
          70,
          71,
          72,
          73,
          74,
          75,
          76,
          77
         ],
         "xaxis": "x37",
         "y": [
          0.999999763409082,
          0.999999763409082,
          0.5819312901387098,
          0.32467637351356193,
          0.2979915619744033,
          0.27616297420394775,
          0.2358764409043176,
          0.16367403217896181,
          0.16367403217896181,
          0.14866927749991124,
          0.14520853550537235,
          0.14456409192485065,
          0.1441411009644313,
          0.1435451325878731,
          0.1420020713878985,
          0.14039147977248057,
          0.1390085709083352,
          0.13765172844314233,
          0.1355784486573262,
          0.12402817120182141,
          0.10622457266107456,
          0.10622457266107456,
          0.09142567711040013,
          0.09142567711040013,
          0.08173958271569215,
          0.051013356673976565,
          0.039762281400071056,
          0.039762281400071056,
          0.03770637690806846,
          0.03770637690806846,
          0.03629367468450352,
          0.03523898662978701,
          0.03523898662978701,
          0.0350901243263071,
          0.03479922308762413,
          0.03469987407264952,
          0.03445042413302001,
          0.03412957078228981,
          0.033781727312571654,
          0.03325849210742593,
          0.030209542432241544,
          0.024648045801286524,
          0.022260728100921605,
          0.02094125874527442,
          0.017142624174722815,
          0.009739867945340227,
          0.0064467498673228835,
          0.005226869601720399,
          0.004600573833049696,
          0.002812744017942626,
          0.001942135396169446,
          0.001942135396169446,
          0.0014603621684534523,
          0.0010585915726160431,
          0.0009856599497338476,
          0.0009440971541252683,
          0.0009282161555856448,
          0.0009202622076317561,
          0.0009126551976089014,
          0.0009038345879459069,
          0.0008946236864673854,
          0.0008922762314305902,
          0.0008879207844315678,
          0.0008858631280401573,
          0.0008822230496873343,
          0.0008773948297497255,
          0.0008734047041837524,
          0.0008616120776469903,
          0.000846843392596602,
          0.0008213856255456663,
          0.0007712807365569086,
          0.0006624577286827925,
          0.0005923974078852325,
          0.0004350511636231359,
          0.00033682697823493964,
          0.0002399356025039063,
          0.00013303473456985362,
          0.00006291649860915451
         ],
         "yaxis": "y37"
        },
        {
         "legendgroup": "0",
         "line": {
          "color": "#636EFA"
         },
         "mode": "lines",
         "name": "scipy_1-14_0_lbfgsb",
         "showlegend": false,
         "type": "scatter",
         "x": [
          0,
          1,
          2,
          3,
          4,
          5,
          6,
          7,
          8,
          9,
          10,
          11,
          12,
          13,
          14,
          15,
          16,
          17,
          18,
          19,
          20,
          21,
          22,
          23,
          24,
          25,
          26,
          27,
          28,
          29,
          30,
          31,
          32,
          33,
          34,
          35,
          36
         ],
         "xaxis": "x38",
         "y": [
          0.9999998950562387,
          0.8389715704912174,
          0.1507613006776885,
          0.11642105324828976,
          0.11604458846481511,
          0.11418028264545803,
          0.1110690601335109,
          0.1110690601335109,
          0.1088127157598462,
          0.1088127157598462,
          0.1088127157598462,
          0.10752356004989906,
          0.10752356004989906,
          0.10315384602082582,
          0.10315384602082582,
          0.10315384602082582,
          0.09933608886877424,
          0.09933608886877424,
          0.09933608886877424,
          0.09329903351498149,
          0.09329903351498149,
          0.09329903351498149,
          0.08631748338026213,
          0.08631748338026213,
          0.07145912982405986,
          0.0186469676868878,
          0.0186469676868878,
          0.01261179749057187,
          0.012231567181226675,
          0.008851026045794947,
          0.008766357148718009,
          0.008763956766429314,
          0.008763954752381046,
          0.008763954477165967,
          0.008763954453903842,
          0.008763954453599804,
          0.008763954453597596
         ],
         "yaxis": "y38"
        },
        {
         "legendgroup": "1",
         "line": {
          "color": "#EF553B"
         },
         "mode": "lines",
         "name": "scipy_1-15_2_lbfgsb",
         "showlegend": false,
         "type": "scatter",
         "x": [
          0,
          1,
          2,
          3,
          4,
          5,
          6,
          7,
          8,
          9,
          10,
          11,
          12,
          13,
          14,
          15,
          16,
          17,
          18,
          19,
          20,
          21,
          22,
          23,
          24,
          25,
          26,
          27,
          28,
          29,
          30,
          31,
          32,
          33,
          34,
          35,
          36
         ],
         "xaxis": "x38",
         "y": [
          0.9999998950562387,
          0.8389715704912174,
          0.1507613006776885,
          0.11642105324828976,
          0.11604458848603001,
          0.11418028288507262,
          0.11106902843002892,
          0.11106902843002892,
          0.10881271710814214,
          0.10881271710814214,
          0.10881271710814214,
          0.10752356025207728,
          0.10752356025207728,
          0.1031538392862672,
          0.1031538392862672,
          0.1031538392862672,
          0.09933606936174307,
          0.09933606936174307,
          0.09933606936174307,
          0.09329898632291198,
          0.09329898632291198,
          0.09329898632291198,
          0.08631740378510443,
          0.08631740378510443,
          0.07145892279612256,
          0.018646935870142857,
          0.018646935870142857,
          0.012611880125365304,
          0.012232348456223688,
          0.008851053404228724,
          0.0087663587063344,
          0.008763956780211014,
          0.008763954755311424,
          0.00876395447720299,
          0.008763954453906216,
          0.00876395445359971,
          0.0087639544535976
         ],
         "yaxis": "y38"
        },
        {
         "legendgroup": "0",
         "line": {
          "color": "#636EFA"
         },
         "mode": "lines",
         "name": "scipy_1-14_0_lbfgsb",
         "showlegend": false,
         "type": "scatter",
         "x": [
          0,
          1,
          2,
          3,
          4,
          5,
          6,
          7,
          8
         ],
         "xaxis": "x39",
         "y": [
          1,
          0.1303966270842653,
          0.07126688532805166,
          0.01922774647469594,
          0.006438747279063168,
          0.001959522337333472,
          0.0005610799048273998,
          0.00015988758619470136,
          0.000059473914184679
         ],
         "yaxis": "y39"
        },
        {
         "legendgroup": "1",
         "line": {
          "color": "#EF553B"
         },
         "mode": "lines",
         "name": "scipy_1-15_2_lbfgsb",
         "showlegend": false,
         "type": "scatter",
         "x": [
          0,
          1,
          2,
          3,
          4,
          5,
          6,
          7,
          8
         ],
         "xaxis": "x39",
         "y": [
          1,
          0.1303966270842653,
          0.07126688532805166,
          0.019227746474695932,
          0.0064387472408416364,
          0.0019595223182957227,
          0.0005610799794339018,
          0.00015988764646036814,
          0.0000594738011325413
         ],
         "yaxis": "y39"
        },
        {
         "legendgroup": "0",
         "line": {
          "color": "#636EFA"
         },
         "mode": "lines",
         "name": "scipy_1-14_0_lbfgsb",
         "showlegend": false,
         "type": "scatter",
         "x": [
          0,
          1,
          2,
          3,
          4,
          5,
          6,
          7,
          8
         ],
         "xaxis": "x40",
         "y": [
          1,
          0.16697312340971196,
          0.09343418853790217,
          0.02424226023042854,
          0.007633219859196549,
          0.002235262480508213,
          0.0007140421730730175,
          0.0001963096962281416,
          0.00006550526394217136
         ],
         "yaxis": "y40"
        },
        {
         "legendgroup": "1",
         "line": {
          "color": "#EF553B"
         },
         "mode": "lines",
         "name": "scipy_1-15_2_lbfgsb",
         "showlegend": false,
         "type": "scatter",
         "x": [
          0,
          1,
          2,
          3,
          4,
          5,
          6,
          7,
          8
         ],
         "xaxis": "x40",
         "y": [
          1,
          0.16697312340971196,
          0.09343418853790217,
          0.02424226023042855,
          0.007633220086217973,
          0.0022352626720642385,
          0.0007140422321805102,
          0.00019630956626149912,
          0.00006550522953405426
         ],
         "yaxis": "y40"
        },
        {
         "legendgroup": "0",
         "line": {
          "color": "#636EFA"
         },
         "mode": "lines",
         "name": "scipy_1-14_0_lbfgsb",
         "showlegend": false,
         "type": "scatter",
         "x": [
          0,
          1,
          2,
          3,
          4,
          5,
          6,
          7,
          8
         ],
         "xaxis": "x41",
         "y": [
          1,
          0.18325386706863928,
          0.10470937111924404,
          0.026594835482267657,
          0.008151699822152384,
          0.002300313675306489,
          0.0007547794418958138,
          0.00021052161494272632,
          0.00006491071630457666
         ],
         "yaxis": "y41"
        },
        {
         "legendgroup": "1",
         "line": {
          "color": "#EF553B"
         },
         "mode": "lines",
         "name": "scipy_1-15_2_lbfgsb",
         "showlegend": false,
         "type": "scatter",
         "x": [
          0,
          1,
          2,
          3,
          4,
          5,
          6,
          7,
          8
         ],
         "xaxis": "x41",
         "y": [
          1,
          0.18325386706863928,
          0.10470937111924404,
          0.026594835482267657,
          0.008151700332899414,
          0.002300314011445471,
          0.0007547795201558934,
          0.00021052156341831352,
          0.00006491055995472332
         ],
         "yaxis": "y41"
        },
        {
         "legendgroup": "0",
         "line": {
          "color": "#636EFA"
         },
         "mode": "lines",
         "name": "scipy_1-14_0_lbfgsb",
         "showlegend": false,
         "type": "scatter",
         "x": [
          0,
          1,
          2,
          3,
          4,
          5,
          6,
          7,
          8
         ],
         "xaxis": "x42",
         "y": [
          1,
          0.19803919731916292,
          0.11596126339640561,
          0.028928598696402196,
          0.008699246357789727,
          0.002367280854693638,
          0.0007834855186145646,
          0.00022942613892441662,
          0.00006626798697905223
         ],
         "yaxis": "y42"
        },
        {
         "legendgroup": "1",
         "line": {
          "color": "#EF553B"
         },
         "mode": "lines",
         "name": "scipy_1-15_2_lbfgsb",
         "showlegend": false,
         "type": "scatter",
         "x": [
          0,
          1,
          2,
          3,
          4,
          5,
          6,
          7,
          8
         ],
         "xaxis": "x42",
         "y": [
          1,
          0.19803919731916292,
          0.11596126339640561,
          0.028928595929276105,
          0.008699246112907105,
          0.0023672810580667018,
          0.0007834853921247008,
          0.00022942628406596354,
          0.00006626813211118759
         ],
         "yaxis": "y42"
        },
        {
         "legendgroup": "0",
         "line": {
          "color": "#636EFA"
         },
         "mode": "lines",
         "name": "scipy_1-14_0_lbfgsb",
         "showlegend": false,
         "type": "scatter",
         "x": [
          0,
          1,
          2,
          3,
          4,
          5,
          6,
          7,
          8,
          9,
          10,
          11,
          12,
          13,
          14,
          15,
          16,
          17,
          18,
          19,
          20,
          21,
          22,
          23,
          24,
          25,
          26,
          27,
          28,
          29,
          30,
          31,
          32,
          33,
          34,
          35,
          36
         ],
         "xaxis": "x43",
         "y": [
          1,
          1,
          0.45021398447874084,
          0.45021398447874084,
          0.23606380582057804,
          0.09999533518010514,
          0.019987327485602346,
          0.002014569134169593,
          0.0004985754003434511,
          0.000488421483755685,
          0.00048798003329041524,
          0.0004867182212062704,
          0.00048272296639829433,
          0.0004727288932064437,
          0.00043918360863832024,
          0.00043918360863832024,
          0.0003956804708840903,
          0.0003956804708840903,
          0.0003753272020521402,
          0.0003228364026416661,
          0.0002672461181079993,
          0.0002596139108932205,
          0.00024899554253742494,
          0.00023104939872257665,
          0.00020543308524279132,
          0.00020543308524279132,
          0.00018966050365631145,
          0.00017701672379192638,
          0.00015476497139606281,
          0.00014154794029716064,
          0.0001237029746239546,
          0.0001237029746239546,
          0.00010993150368440884,
          0.00010993150368440884,
          0.00010632871644261724,
          0.00010183619079823715,
          0.00009489120098051722
         ],
         "yaxis": "y43"
        },
        {
         "legendgroup": "1",
         "line": {
          "color": "#EF553B"
         },
         "mode": "lines",
         "name": "scipy_1-15_2_lbfgsb",
         "showlegend": false,
         "type": "scatter",
         "x": [
          0,
          1,
          2,
          3,
          4,
          5,
          6,
          7,
          8,
          9,
          10,
          11,
          12,
          13,
          14,
          15,
          16,
          17,
          18,
          19,
          20,
          21,
          22,
          23,
          24,
          25,
          26,
          27,
          28,
          29,
          30,
          31,
          32,
          33,
          34,
          35,
          36
         ],
         "xaxis": "x43",
         "y": [
          1,
          1,
          0.45021398447874084,
          0.45021398447874084,
          0.23606380582057804,
          0.09999533518010509,
          0.01998732748560241,
          0.0020145691357108552,
          0.0004985754026086509,
          0.0004884214842603377,
          0.00048798003375648676,
          0.0004867182218003378,
          0.00048272296717265776,
          0.0004727288955190015,
          0.0004391836155330389,
          0.0004391836155330389,
          0.0003956804873560103,
          0.0003956804873560103,
          0.00037532721277421687,
          0.0003228364332772665,
          0.00026724610830561286,
          0.0002596139121076451,
          0.0002489955393263571,
          0.00023104935485951966,
          0.000205433013023707,
          0.000205433013023707,
          0.00018966049008523406,
          0.00017701672883305286,
          0.00015476495396042272,
          0.00014154798406431436,
          0.00012370272634666226,
          0.00012370272634666226,
          0.00010993112345621808,
          0.00010993112345621808,
          0.00010632825283947142,
          0.00010183592235451792,
          0.00009489144339336839
         ],
         "yaxis": "y43"
        },
        {
         "legendgroup": "0",
         "line": {
          "color": "#636EFA"
         },
         "mode": "lines",
         "name": "scipy_1-14_0_lbfgsb",
         "showlegend": false,
         "type": "scatter",
         "x": [
          0,
          1,
          2,
          3,
          4,
          5,
          6,
          7,
          8,
          9,
          10,
          11,
          12,
          13,
          14,
          15,
          16,
          17,
          18,
          19,
          20,
          21,
          22,
          23,
          24,
          25,
          26,
          27,
          28,
          29
         ],
         "xaxis": "x44",
         "y": [
          1,
          1,
          0.5219964942571971,
          0.49135912798266285,
          0.34069486427492973,
          0.24933624433472384,
          0.11810281437326293,
          0.01961544182408131,
          0.0013418888413781619,
          0.0004070303093084218,
          0.00037883585442492263,
          0.0003753029039746503,
          0.00037468394437876383,
          0.0003726995428716342,
          0.00036343825654537945,
          0.00033861983456913636,
          0.0003120966247533483,
          0.000254785347717197,
          0.00020520685177130964,
          0.00020520685177130964,
          0.00019345690976189928,
          0.00018339511071113673,
          0.0001651678197386667,
          0.0001466072793936315,
          0.0001466072793936315,
          0.0001387096998193701,
          0.00012360640311674003,
          0.00011388228049257565,
          0.00010034069455743916,
          0.00009521637428327483
         ],
         "yaxis": "y44"
        },
        {
         "legendgroup": "1",
         "line": {
          "color": "#EF553B"
         },
         "mode": "lines",
         "name": "scipy_1-15_2_lbfgsb",
         "showlegend": false,
         "type": "scatter",
         "x": [
          0,
          1,
          2,
          3,
          4,
          5,
          6,
          7,
          8,
          9,
          10,
          11,
          12,
          13,
          14,
          15,
          16,
          17,
          18,
          19,
          20,
          21,
          22,
          23,
          24,
          25,
          26,
          27,
          28,
          29
         ],
         "xaxis": "x44",
         "y": [
          1,
          1,
          0.5219964942571971,
          0.49135912798266285,
          0.34069486427492973,
          0.24933624433472354,
          0.11810281402234217,
          0.019615441112959143,
          0.0013418885901217688,
          0.0004070303035838049,
          0.00037883585387430845,
          0.0003753029059663219,
          0.0003746839462543196,
          0.000372699544399084,
          0.00036343825484531683,
          0.00033861982198640013,
          0.0003120966063453903,
          0.0002547852422149138,
          0.00020520686872916715,
          0.00020520686872916715,
          0.00019345680262947886,
          0.00018339501158611205,
          0.00016516780906145002,
          0.0001466076166726302,
          0.0001466076166726302,
          0.00013870879203232894,
          0.00012360733476053472,
          0.00011388025620973954,
          0.00010034222362005395,
          0.00009522274312146706
         ],
         "yaxis": "y44"
        },
        {
         "legendgroup": "0",
         "line": {
          "color": "#636EFA"
         },
         "mode": "lines",
         "name": "scipy_1-14_0_lbfgsb",
         "showlegend": false,
         "type": "scatter",
         "x": [
          0,
          1,
          2,
          3,
          4,
          5,
          6,
          7,
          8,
          9,
          10,
          11,
          12,
          13,
          14,
          15,
          16,
          17,
          18,
          19,
          20,
          21,
          22,
          23,
          24,
          25,
          26,
          27,
          28
         ],
         "xaxis": "x45",
         "y": [
          1,
          1,
          0.5997845937870142,
          0.5105305098264044,
          0.42438570122466196,
          0.3704051544649067,
          0.18768366753280755,
          0.038947319662715446,
          0.00219087342414579,
          0.00038410664901908224,
          0.000302369246458831,
          0.00028092882580545186,
          0.00027979851929492254,
          0.00027908692067766513,
          0.0002745770370998017,
          0.00026558952842702387,
          0.00024389876135323373,
          0.00022125311455977107,
          0.00017075082672999602,
          0.00017075082672999602,
          0.0001552094198887052,
          0.00014068264735904963,
          0.0001387673721345884,
          0.00012599030422399176,
          0.00011719741318714419,
          0.0001085568622388578,
          0.0001085568622388578,
          0.00010217645300207935,
          0.00008968116405991798
         ],
         "yaxis": "y45"
        },
        {
         "legendgroup": "1",
         "line": {
          "color": "#EF553B"
         },
         "mode": "lines",
         "name": "scipy_1-15_2_lbfgsb",
         "showlegend": false,
         "type": "scatter",
         "x": [
          0,
          1,
          2,
          3,
          4,
          5,
          6,
          7,
          8,
          9,
          10,
          11,
          12,
          13,
          14,
          15,
          16,
          17,
          18,
          19,
          20,
          21,
          22,
          23,
          24,
          25,
          26,
          27,
          28
         ],
         "xaxis": "x45",
         "y": [
          1,
          1,
          0.5997845937870142,
          0.5105305098264037,
          0.4243857007506177,
          0.3704050068200583,
          0.18768364658442593,
          0.03894732342021217,
          0.002190875265274602,
          0.000384106648959643,
          0.0003023692544956915,
          0.0002809288389121575,
          0.00027979853138997314,
          0.0002790869329029767,
          0.0002745770506830824,
          0.0002655895446891009,
          0.00024389877831579608,
          0.00022125313727824094,
          0.00017075085677282118,
          0.00017075085677282118,
          0.0001552094734660842,
          0.0001406826851932437,
          0.0001387674410811208,
          0.00012599034078399467,
          0.00011719748418396306,
          0.00010855690725034632,
          0.00010855690725034632,
          0.00010217649754659704,
          0.0000896811470521761
         ],
         "yaxis": "y45"
        },
        {
         "legendgroup": "0",
         "line": {
          "color": "#636EFA"
         },
         "mode": "lines",
         "name": "scipy_1-14_0_lbfgsb",
         "showlegend": false,
         "type": "scatter",
         "x": [
          0,
          1,
          2,
          3
         ],
         "xaxis": "x46",
         "y": [
          1.000005304345946,
          0.9455441546454384,
          0.7429688660625628,
          0.000004980183069620413
         ],
         "yaxis": "y46"
        },
        {
         "legendgroup": "1",
         "line": {
          "color": "#EF553B"
         },
         "mode": "lines",
         "name": "scipy_1-15_2_lbfgsb",
         "showlegend": false,
         "type": "scatter",
         "x": [
          0,
          1,
          2,
          3
         ],
         "xaxis": "x46",
         "y": [
          1.000005304345946,
          0.9455441546454384,
          0.7429688660625628,
          0.000004980183069619008
         ],
         "yaxis": "y46"
        },
        {
         "legendgroup": "0",
         "line": {
          "color": "#636EFA"
         },
         "mode": "lines",
         "name": "scipy_1-14_0_lbfgsb",
         "showlegend": false,
         "type": "scatter",
         "x": [
          0,
          1,
          2,
          3,
          4,
          5,
          6
         ],
         "xaxis": "x47",
         "y": [
          1.000001034478843,
          0.9989352961797645,
          0.9946780551246256,
          0.9777404611733649,
          0.9114504763356078,
          0.6695621361691234,
          0.0000540076971214421
         ],
         "yaxis": "y47"
        },
        {
         "legendgroup": "1",
         "line": {
          "color": "#EF553B"
         },
         "mode": "lines",
         "name": "scipy_1-15_2_lbfgsb",
         "showlegend": false,
         "type": "scatter",
         "x": [
          0,
          1,
          2,
          3,
          4,
          5,
          6
         ],
         "xaxis": "x47",
         "y": [
          1.000001034478843,
          0.9989352961797645,
          0.9946780551246256,
          0.9777404611733649,
          0.9114504763356078,
          0.6695621361691234,
          0.0000540076971214421
         ],
         "yaxis": "y47"
        },
        {
         "legendgroup": "0",
         "line": {
          "color": "#636EFA"
         },
         "mode": "lines",
         "name": "scipy_1-14_0_lbfgsb",
         "showlegend": false,
         "type": "scatter",
         "x": [
          0,
          1,
          2,
          3
         ],
         "xaxis": "x48",
         "y": [
          1.0000052297762023,
          0.9528100419677891,
          0.775448566134645,
          0.000015482698018793365
         ],
         "yaxis": "y48"
        },
        {
         "legendgroup": "1",
         "line": {
          "color": "#EF553B"
         },
         "mode": "lines",
         "name": "scipy_1-15_2_lbfgsb",
         "showlegend": false,
         "type": "scatter",
         "x": [
          0,
          1,
          2,
          3
         ],
         "xaxis": "x48",
         "y": [
          1.0000052297762023,
          0.9528100419677891,
          0.775448566134645,
          0.000015482698018793365
         ],
         "yaxis": "y48"
        },
        {
         "legendgroup": "0",
         "line": {
          "color": "#636EFA"
         },
         "mode": "lines",
         "name": "scipy_1-14_0_lbfgsb",
         "showlegend": false,
         "type": "scatter",
         "x": [
          0,
          1,
          2,
          3
         ],
         "xaxis": "x49",
         "y": [
          1.000005205168184,
          0.9552498251002446,
          0.7864789425270463,
          0.0000312607641486454
         ],
         "yaxis": "y49"
        },
        {
         "legendgroup": "1",
         "line": {
          "color": "#EF553B"
         },
         "mode": "lines",
         "name": "scipy_1-15_2_lbfgsb",
         "showlegend": false,
         "type": "scatter",
         "x": [
          0,
          1,
          2,
          3
         ],
         "xaxis": "x49",
         "y": [
          1.000005205168184,
          0.9552498251002446,
          0.7864789425270463,
          0.0000312607641486454
         ],
         "yaxis": "y49"
        },
        {
         "legendgroup": "0",
         "line": {
          "color": "#636EFA"
         },
         "mode": "lines",
         "name": "scipy_1-14_0_lbfgsb",
         "showlegend": false,
         "type": "scatter",
         "x": [
          0,
          1,
          2,
          3
         ],
         "xaxis": "x50",
         "y": [
          1.0000053079727724,
          0.9567558355652904,
          0.7933184963437678,
          0.000049406823944702215
         ],
         "yaxis": "y50"
        },
        {
         "legendgroup": "1",
         "line": {
          "color": "#EF553B"
         },
         "mode": "lines",
         "name": "scipy_1-15_2_lbfgsb",
         "showlegend": false,
         "type": "scatter",
         "x": [
          0,
          1,
          2,
          3
         ],
         "xaxis": "x50",
         "y": [
          1.0000053079727724,
          0.9567558355652904,
          0.7933184963437678,
          0.00004940682394470429
         ],
         "yaxis": "y50"
        },
        {
         "legendgroup": "0",
         "line": {
          "color": "#636EFA"
         },
         "mode": "lines",
         "name": "scipy_1-14_0_lbfgsb",
         "showlegend": false,
         "type": "scatter",
         "x": [
          0,
          1,
          2,
          3,
          4,
          5,
          6,
          7
         ],
         "xaxis": "x51",
         "y": [
          1.0000009906638212,
          0.9991696900934202,
          0.9958479265813945,
          0.9826158778532944,
          0.9305668293420256,
          0.7363835838246556,
          0.000721610051496551,
          1.7440754598266447e-7
         ],
         "yaxis": "y51"
        },
        {
         "legendgroup": "1",
         "line": {
          "color": "#EF553B"
         },
         "mode": "lines",
         "name": "scipy_1-15_2_lbfgsb",
         "showlegend": false,
         "type": "scatter",
         "x": [
          0,
          1,
          2,
          3,
          4,
          5,
          6,
          7
         ],
         "xaxis": "x51",
         "y": [
          1.0000009906638212,
          0.9991696900934202,
          0.9958479265813945,
          0.9826158778532944,
          0.9305668293420256,
          0.7363835838246556,
          0.0007216100514965653,
          1.7440737239363798e-7
         ],
         "yaxis": "y51"
        },
        {
         "legendgroup": "0",
         "line": {
          "color": "#636EFA"
         },
         "mode": "lines",
         "name": "scipy_1-14_0_lbfgsb",
         "showlegend": false,
         "type": "scatter",
         "x": [
          0,
          1,
          2,
          3,
          4,
          5,
          6,
          7,
          8,
          9,
          10,
          11,
          12,
          13,
          14,
          15,
          16,
          17,
          18,
          19,
          20,
          21,
          22,
          23,
          24,
          25,
          26
         ],
         "xaxis": "x52",
         "y": [
          1.000000033095924,
          1.000000033095924,
          0.02482034289662437,
          0.0125553895462425,
          0.011913676827165142,
          0.010256997633066508,
          0.007961560926939292,
          0.006177732550883991,
          0.005978860847767792,
          0.005884934938478839,
          0.0058542286234740115,
          0.005703400411481275,
          0.0053909854746007815,
          0.004649648209424857,
          0.0035068720121693825,
          0.0020977806162999013,
          0.0009985524891041892,
          0.00028397064371849223,
          0.00021702386379568407,
          0.00018820861996733359,
          0.00018584645549874352,
          0.0001824737827463182,
          0.00018090747225293354,
          0.0001710818773011841,
          0.00015572155461368193,
          0.00011913232113744,
          0.00006671157865391617
         ],
         "yaxis": "y52"
        },
        {
         "legendgroup": "1",
         "line": {
          "color": "#EF553B"
         },
         "mode": "lines",
         "name": "scipy_1-15_2_lbfgsb",
         "showlegend": false,
         "type": "scatter",
         "x": [
          0,
          1,
          2,
          3,
          4,
          5,
          6,
          7,
          8,
          9,
          10,
          11,
          12,
          13,
          14,
          15,
          16,
          17,
          18,
          19,
          20,
          21,
          22,
          23,
          24,
          25,
          26
         ],
         "xaxis": "x52",
         "y": [
          1.000000033095924,
          1.000000033095924,
          0.02482034289662437,
          0.0125553895462425,
          0.011913676827165142,
          0.010256997633066508,
          0.007961560926939292,
          0.006177732550883991,
          0.005978860847767792,
          0.005884934938478839,
          0.0058542286234740115,
          0.005703400411481275,
          0.0053909854746007815,
          0.004649648209424857,
          0.0035068720121693825,
          0.002097780616299907,
          0.000998552703356124,
          0.0002839705481462179,
          0.0002170238560046471,
          0.00018820862353922263,
          0.0001858464637084728,
          0.0001824737852665937,
          0.00018090747158053716,
          0.00017108186319432994,
          0.00015572155901385246,
          0.00011913234636657864,
          0.00006671156357917539
         ],
         "yaxis": "y52"
        },
        {
         "legendgroup": "0",
         "line": {
          "color": "#636EFA"
         },
         "mode": "lines",
         "name": "scipy_1-14_0_lbfgsb",
         "showlegend": false,
         "type": "scatter",
         "x": [
          0,
          1,
          2,
          3,
          4
         ],
         "xaxis": "x53",
         "y": [
          1.0000000213662832,
          0.6735005990173681,
          0.0682977477060239,
          0.0012331055498480698,
          0.0000814852770201064
         ],
         "yaxis": "y53"
        },
        {
         "legendgroup": "1",
         "line": {
          "color": "#EF553B"
         },
         "mode": "lines",
         "name": "scipy_1-15_2_lbfgsb",
         "showlegend": false,
         "type": "scatter",
         "x": [
          0,
          1,
          2,
          3,
          4
         ],
         "xaxis": "x53",
         "y": [
          1.0000000213662832,
          0.6735005990173681,
          0.06829774770602394,
          0.0012331049294263443,
          0.00008148526482942118
         ],
         "yaxis": "y53"
        },
        {
         "legendgroup": "0",
         "line": {
          "color": "#636EFA"
         },
         "mode": "lines",
         "name": "scipy_1-14_0_lbfgsb",
         "showlegend": false,
         "type": "scatter",
         "x": [
          0,
          1,
          2
         ],
         "xaxis": "x54",
         "y": [
          1.0000001980388606,
          0.6400013941936294,
          2.242113223841005e-11
         ],
         "yaxis": "y54"
        },
        {
         "legendgroup": "1",
         "line": {
          "color": "#EF553B"
         },
         "mode": "lines",
         "name": "scipy_1-15_2_lbfgsb",
         "showlegend": false,
         "type": "scatter",
         "x": [
          0,
          1,
          2
         ],
         "xaxis": "x54",
         "y": [
          1.0000001980388606,
          0.6400013941936294,
          2.242113223841005e-11
         ],
         "yaxis": "y54"
        }
       ],
       "layout": {
        "annotations": [
         {
          "font": {
           "size": 16
          },
          "showarrow": false,
          "text": "Linear Full Rank Good Start",
          "x": 0.225,
          "xanchor": "center",
          "xref": "paper",
          "y": 1,
          "yanchor": "bottom",
          "yref": "paper"
         },
         {
          "font": {
           "size": 16
          },
          "showarrow": false,
          "text": "Linear Full Rank Bad Start",
          "x": 0.775,
          "xanchor": "center",
          "xref": "paper",
          "y": 1,
          "yanchor": "bottom",
          "yref": "paper"
         },
         {
          "font": {
           "size": 16
          },
          "showarrow": false,
          "text": "Linear Rank One Good Start",
          "x": 0.225,
          "xanchor": "center",
          "xref": "paper",
          "y": 0.9622770919067215,
          "yanchor": "bottom",
          "yref": "paper"
         },
         {
          "font": {
           "size": 16
          },
          "showarrow": false,
          "text": "Linear Rank One Bad Start",
          "x": 0.775,
          "xanchor": "center",
          "xref": "paper",
          "y": 0.9622770919067215,
          "yanchor": "bottom",
          "yref": "paper"
         },
         {
          "font": {
           "size": 16
          },
          "showarrow": false,
          "text": "Linear Rank One Zero Columns Rows Good Start",
          "x": 0.225,
          "xanchor": "center",
          "xref": "paper",
          "y": 0.9245541838134431,
          "yanchor": "bottom",
          "yref": "paper"
         },
         {
          "font": {
           "size": 16
          },
          "showarrow": false,
          "text": "Linear Rank One Zero Columns Rows Bad Start",
          "x": 0.775,
          "xanchor": "center",
          "xref": "paper",
          "y": 0.9245541838134431,
          "yanchor": "bottom",
          "yref": "paper"
         },
         {
          "font": {
           "size": 16
          },
          "showarrow": false,
          "text": "Rosenbrock Good Start",
          "x": 0.225,
          "xanchor": "center",
          "xref": "paper",
          "y": 0.8868312757201646,
          "yanchor": "bottom",
          "yref": "paper"
         },
         {
          "font": {
           "size": 16
          },
          "showarrow": false,
          "text": "Rosenbrock Bad Start",
          "x": 0.775,
          "xanchor": "center",
          "xref": "paper",
          "y": 0.8868312757201646,
          "yanchor": "bottom",
          "yref": "paper"
         },
         {
          "font": {
           "size": 16
          },
          "showarrow": false,
          "text": "Helical Valley Good Start",
          "x": 0.225,
          "xanchor": "center",
          "xref": "paper",
          "y": 0.8491083676268861,
          "yanchor": "bottom",
          "yref": "paper"
         },
         {
          "font": {
           "size": 16
          },
          "showarrow": false,
          "text": "Helical Valley Bad Start",
          "x": 0.775,
          "xanchor": "center",
          "xref": "paper",
          "y": 0.8491083676268861,
          "yanchor": "bottom",
          "yref": "paper"
         },
         {
          "font": {
           "size": 16
          },
          "showarrow": false,
          "text": "Powell Singular Good Start",
          "x": 0.225,
          "xanchor": "center",
          "xref": "paper",
          "y": 0.8113854595336076,
          "yanchor": "bottom",
          "yref": "paper"
         },
         {
          "font": {
           "size": 16
          },
          "showarrow": false,
          "text": "Powell Singular Bad Start",
          "x": 0.775,
          "xanchor": "center",
          "xref": "paper",
          "y": 0.8113854595336076,
          "yanchor": "bottom",
          "yref": "paper"
         },
         {
          "font": {
           "size": 16
          },
          "showarrow": false,
          "text": "Freudenstein Roth Good Start",
          "x": 0.225,
          "xanchor": "center",
          "xref": "paper",
          "y": 0.7736625514403291,
          "yanchor": "bottom",
          "yref": "paper"
         },
         {
          "font": {
           "size": 16
          },
          "showarrow": false,
          "text": "Freudenstein Roth Bad Start",
          "x": 0.775,
          "xanchor": "center",
          "xref": "paper",
          "y": 0.7736625514403291,
          "yanchor": "bottom",
          "yref": "paper"
         },
         {
          "font": {
           "size": 16
          },
          "showarrow": false,
          "text": "Bard Good Start",
          "x": 0.225,
          "xanchor": "center",
          "xref": "paper",
          "y": 0.7359396433470508,
          "yanchor": "bottom",
          "yref": "paper"
         },
         {
          "font": {
           "size": 16
          },
          "showarrow": false,
          "text": "Bard Bad Start",
          "x": 0.775,
          "xanchor": "center",
          "xref": "paper",
          "y": 0.7359396433470508,
          "yanchor": "bottom",
          "yref": "paper"
         },
         {
          "font": {
           "size": 16
          },
          "showarrow": false,
          "text": "Kowalik Osborne",
          "x": 0.225,
          "xanchor": "center",
          "xref": "paper",
          "y": 0.6982167352537723,
          "yanchor": "bottom",
          "yref": "paper"
         },
         {
          "font": {
           "size": 16
          },
          "showarrow": false,
          "text": "Meyer",
          "x": 0.775,
          "xanchor": "center",
          "xref": "paper",
          "y": 0.6982167352537723,
          "yanchor": "bottom",
          "yref": "paper"
         },
         {
          "font": {
           "size": 16
          },
          "showarrow": false,
          "text": "Watson 6 Good Start",
          "x": 0.225,
          "xanchor": "center",
          "xref": "paper",
          "y": 0.6604938271604938,
          "yanchor": "bottom",
          "yref": "paper"
         },
         {
          "font": {
           "size": 16
          },
          "showarrow": false,
          "text": "Watson 6 Bad Start",
          "x": 0.775,
          "xanchor": "center",
          "xref": "paper",
          "y": 0.6604938271604938,
          "yanchor": "bottom",
          "yref": "paper"
         },
         {
          "font": {
           "size": 16
          },
          "showarrow": false,
          "text": "Watson 9 Good Start",
          "x": 0.225,
          "xanchor": "center",
          "xref": "paper",
          "y": 0.6227709190672154,
          "yanchor": "bottom",
          "yref": "paper"
         },
         {
          "font": {
           "size": 16
          },
          "showarrow": false,
          "text": "Watson 9 Bad Start",
          "x": 0.775,
          "xanchor": "center",
          "xref": "paper",
          "y": 0.6227709190672154,
          "yanchor": "bottom",
          "yref": "paper"
         },
         {
          "font": {
           "size": 16
          },
          "showarrow": false,
          "text": "Watson 12 Good Start",
          "x": 0.225,
          "xanchor": "center",
          "xref": "paper",
          "y": 0.5850480109739369,
          "yanchor": "bottom",
          "yref": "paper"
         },
         {
          "font": {
           "size": 16
          },
          "showarrow": false,
          "text": "Watson 12 Bad Start",
          "x": 0.775,
          "xanchor": "center",
          "xref": "paper",
          "y": 0.5850480109739369,
          "yanchor": "bottom",
          "yref": "paper"
         },
         {
          "font": {
           "size": 16
          },
          "showarrow": false,
          "text": "Box 3D",
          "x": 0.225,
          "xanchor": "center",
          "xref": "paper",
          "y": 0.5473251028806584,
          "yanchor": "bottom",
          "yref": "paper"
         },
         {
          "font": {
           "size": 16
          },
          "showarrow": false,
          "text": "Jennrich Sampson",
          "x": 0.775,
          "xanchor": "center",
          "xref": "paper",
          "y": 0.5473251028806584,
          "yanchor": "bottom",
          "yref": "paper"
         },
         {
          "font": {
           "size": 16
          },
          "showarrow": false,
          "text": "Brown Dennis Good Start",
          "x": 0.225,
          "xanchor": "center",
          "xref": "paper",
          "y": 0.50960219478738,
          "yanchor": "bottom",
          "yref": "paper"
         },
         {
          "font": {
           "size": 16
          },
          "showarrow": false,
          "text": "Brown Dennis Bad Start",
          "x": 0.775,
          "xanchor": "center",
          "xref": "paper",
          "y": 0.50960219478738,
          "yanchor": "bottom",
          "yref": "paper"
         },
         {
          "font": {
           "size": 16
          },
          "showarrow": false,
          "text": "Chebyquad 6",
          "x": 0.225,
          "xanchor": "center",
          "xref": "paper",
          "y": 0.47187928669410156,
          "yanchor": "bottom",
          "yref": "paper"
         },
         {
          "font": {
           "size": 16
          },
          "showarrow": false,
          "text": "Chebyquad 7",
          "x": 0.775,
          "xanchor": "center",
          "xref": "paper",
          "y": 0.47187928669410156,
          "yanchor": "bottom",
          "yref": "paper"
         },
         {
          "font": {
           "size": 16
          },
          "showarrow": false,
          "text": "Chebyquad 8",
          "x": 0.225,
          "xanchor": "center",
          "xref": "paper",
          "y": 0.43415637860082307,
          "yanchor": "bottom",
          "yref": "paper"
         },
         {
          "font": {
           "size": 16
          },
          "showarrow": false,
          "text": "Chebyquad 9",
          "x": 0.775,
          "xanchor": "center",
          "xref": "paper",
          "y": 0.43415637860082307,
          "yanchor": "bottom",
          "yref": "paper"
         },
         {
          "font": {
           "size": 16
          },
          "showarrow": false,
          "text": "Chebyquad 10",
          "x": 0.225,
          "xanchor": "center",
          "xref": "paper",
          "y": 0.39643347050754457,
          "yanchor": "bottom",
          "yref": "paper"
         },
         {
          "font": {
           "size": 16
          },
          "showarrow": false,
          "text": "Chebyquad 11",
          "x": 0.775,
          "xanchor": "center",
          "xref": "paper",
          "y": 0.39643347050754457,
          "yanchor": "bottom",
          "yref": "paper"
         },
         {
          "font": {
           "size": 16
          },
          "showarrow": false,
          "text": "Brown Almost Linear",
          "x": 0.225,
          "xanchor": "center",
          "xref": "paper",
          "y": 0.35871056241426613,
          "yanchor": "bottom",
          "yref": "paper"
         },
         {
          "font": {
           "size": 16
          },
          "showarrow": false,
          "text": "Osborne One",
          "x": 0.775,
          "xanchor": "center",
          "xref": "paper",
          "y": 0.35871056241426613,
          "yanchor": "bottom",
          "yref": "paper"
         },
         {
          "font": {
           "size": 16
          },
          "showarrow": false,
          "text": "Osborne Two Good Start",
          "x": 0.225,
          "xanchor": "center",
          "xref": "paper",
          "y": 0.3209876543209877,
          "yanchor": "bottom",
          "yref": "paper"
         },
         {
          "font": {
           "size": 16
          },
          "showarrow": false,
          "text": "Osborne Two Bad Start",
          "x": 0.775,
          "xanchor": "center",
          "xref": "paper",
          "y": 0.3209876543209877,
          "yanchor": "bottom",
          "yref": "paper"
         },
         {
          "font": {
           "size": 16
          },
          "showarrow": false,
          "text": "Bdqrtic 8",
          "x": 0.225,
          "xanchor": "center",
          "xref": "paper",
          "y": 0.2832647462277092,
          "yanchor": "bottom",
          "yref": "paper"
         },
         {
          "font": {
           "size": 16
          },
          "showarrow": false,
          "text": "Bdqrtic 10",
          "x": 0.775,
          "xanchor": "center",
          "xref": "paper",
          "y": 0.2832647462277092,
          "yanchor": "bottom",
          "yref": "paper"
         },
         {
          "font": {
           "size": 16
          },
          "showarrow": false,
          "text": "Bdqrtic 11",
          "x": 0.225,
          "xanchor": "center",
          "xref": "paper",
          "y": 0.24554183813443076,
          "yanchor": "bottom",
          "yref": "paper"
         },
         {
          "font": {
           "size": 16
          },
          "showarrow": false,
          "text": "Bdqrtic 12",
          "x": 0.775,
          "xanchor": "center",
          "xref": "paper",
          "y": 0.24554183813443076,
          "yanchor": "bottom",
          "yref": "paper"
         },
         {
          "font": {
           "size": 16
          },
          "showarrow": false,
          "text": "Cube 5",
          "x": 0.225,
          "xanchor": "center",
          "xref": "paper",
          "y": 0.20781893004115226,
          "yanchor": "bottom",
          "yref": "paper"
         },
         {
          "font": {
           "size": 16
          },
          "showarrow": false,
          "text": "Cube 6",
          "x": 0.775,
          "xanchor": "center",
          "xref": "paper",
          "y": 0.20781893004115226,
          "yanchor": "bottom",
          "yref": "paper"
         },
         {
          "font": {
           "size": 16
          },
          "showarrow": false,
          "text": "Cube 8",
          "x": 0.225,
          "xanchor": "center",
          "xref": "paper",
          "y": 0.17009602194787382,
          "yanchor": "bottom",
          "yref": "paper"
         },
         {
          "font": {
           "size": 16
          },
          "showarrow": false,
          "text": "Mancino 5 Good Start",
          "x": 0.775,
          "xanchor": "center",
          "xref": "paper",
          "y": 0.17009602194787382,
          "yanchor": "bottom",
          "yref": "paper"
         },
         {
          "font": {
           "size": 16
          },
          "showarrow": false,
          "text": "Mancino 5 Bad Start",
          "x": 0.225,
          "xanchor": "center",
          "xref": "paper",
          "y": 0.13237311385459533,
          "yanchor": "bottom",
          "yref": "paper"
         },
         {
          "font": {
           "size": 16
          },
          "showarrow": false,
          "text": "Mancino 8",
          "x": 0.775,
          "xanchor": "center",
          "xref": "paper",
          "y": 0.13237311385459533,
          "yanchor": "bottom",
          "yref": "paper"
         },
         {
          "font": {
           "size": 16
          },
          "showarrow": false,
          "text": "Mancino 10",
          "x": 0.225,
          "xanchor": "center",
          "xref": "paper",
          "y": 0.09465020576131689,
          "yanchor": "bottom",
          "yref": "paper"
         },
         {
          "font": {
           "size": 16
          },
          "showarrow": false,
          "text": "Mancino 12 Good Start",
          "x": 0.775,
          "xanchor": "center",
          "xref": "paper",
          "y": 0.09465020576131689,
          "yanchor": "bottom",
          "yref": "paper"
         },
         {
          "font": {
           "size": 16
          },
          "showarrow": false,
          "text": "Mancino 12 Bad Start",
          "x": 0.225,
          "xanchor": "center",
          "xref": "paper",
          "y": 0.05692729766803842,
          "yanchor": "bottom",
          "yref": "paper"
         },
         {
          "font": {
           "size": 16
          },
          "showarrow": false,
          "text": "Heart Eight Good Start",
          "x": 0.775,
          "xanchor": "center",
          "xref": "paper",
          "y": 0.05692729766803842,
          "yanchor": "bottom",
          "yref": "paper"
         },
         {
          "font": {
           "size": 16
          },
          "showarrow": false,
          "text": "Heart Eight Bad Start",
          "x": 0.225,
          "xanchor": "center",
          "xref": "paper",
          "y": 0.019204389574759947,
          "yanchor": "bottom",
          "yref": "paper"
         },
         {
          "font": {
           "size": 16
          },
          "showarrow": false,
          "text": "Brown Almost Linear Medium",
          "x": 0.775,
          "xanchor": "center",
          "xref": "paper",
          "y": 0.019204389574759947,
          "yanchor": "bottom",
          "yref": "paper"
         }
        ],
        "height": 8640,
        "margin": {
         "b": 10,
         "l": 10,
         "r": 10,
         "t": 30
        },
        "template": {
         "data": {
          "bar": [
           {
            "error_x": {
             "color": "rgb(36,36,36)"
            },
            "error_y": {
             "color": "rgb(36,36,36)"
            },
            "marker": {
             "line": {
              "color": "white",
              "width": 0.5
             },
             "pattern": {
              "fillmode": "overlay",
              "size": 10,
              "solidity": 0.2
             }
            },
            "type": "bar"
           }
          ],
          "barpolar": [
           {
            "marker": {
             "line": {
              "color": "white",
              "width": 0.5
             },
             "pattern": {
              "fillmode": "overlay",
              "size": 10,
              "solidity": 0.2
             }
            },
            "type": "barpolar"
           }
          ],
          "carpet": [
           {
            "aaxis": {
             "endlinecolor": "rgb(36,36,36)",
             "gridcolor": "white",
             "linecolor": "white",
             "minorgridcolor": "white",
             "startlinecolor": "rgb(36,36,36)"
            },
            "baxis": {
             "endlinecolor": "rgb(36,36,36)",
             "gridcolor": "white",
             "linecolor": "white",
             "minorgridcolor": "white",
             "startlinecolor": "rgb(36,36,36)"
            },
            "type": "carpet"
           }
          ],
          "choropleth": [
           {
            "colorbar": {
             "outlinewidth": 1,
             "tickcolor": "rgb(36,36,36)",
             "ticks": "outside"
            },
            "type": "choropleth"
           }
          ],
          "contour": [
           {
            "colorbar": {
             "outlinewidth": 1,
             "tickcolor": "rgb(36,36,36)",
             "ticks": "outside"
            },
            "colorscale": [
             [
              0,
              "#440154"
             ],
             [
              0.1111111111111111,
              "#482878"
             ],
             [
              0.2222222222222222,
              "#3e4989"
             ],
             [
              0.3333333333333333,
              "#31688e"
             ],
             [
              0.4444444444444444,
              "#26828e"
             ],
             [
              0.5555555555555556,
              "#1f9e89"
             ],
             [
              0.6666666666666666,
              "#35b779"
             ],
             [
              0.7777777777777778,
              "#6ece58"
             ],
             [
              0.8888888888888888,
              "#b5de2b"
             ],
             [
              1,
              "#fde725"
             ]
            ],
            "type": "contour"
           }
          ],
          "contourcarpet": [
           {
            "colorbar": {
             "outlinewidth": 1,
             "tickcolor": "rgb(36,36,36)",
             "ticks": "outside"
            },
            "type": "contourcarpet"
           }
          ],
          "heatmap": [
           {
            "colorbar": {
             "outlinewidth": 1,
             "tickcolor": "rgb(36,36,36)",
             "ticks": "outside"
            },
            "colorscale": [
             [
              0,
              "#440154"
             ],
             [
              0.1111111111111111,
              "#482878"
             ],
             [
              0.2222222222222222,
              "#3e4989"
             ],
             [
              0.3333333333333333,
              "#31688e"
             ],
             [
              0.4444444444444444,
              "#26828e"
             ],
             [
              0.5555555555555556,
              "#1f9e89"
             ],
             [
              0.6666666666666666,
              "#35b779"
             ],
             [
              0.7777777777777778,
              "#6ece58"
             ],
             [
              0.8888888888888888,
              "#b5de2b"
             ],
             [
              1,
              "#fde725"
             ]
            ],
            "type": "heatmap"
           }
          ],
          "heatmapgl": [
           {
            "colorbar": {
             "outlinewidth": 1,
             "tickcolor": "rgb(36,36,36)",
             "ticks": "outside"
            },
            "colorscale": [
             [
              0,
              "#440154"
             ],
             [
              0.1111111111111111,
              "#482878"
             ],
             [
              0.2222222222222222,
              "#3e4989"
             ],
             [
              0.3333333333333333,
              "#31688e"
             ],
             [
              0.4444444444444444,
              "#26828e"
             ],
             [
              0.5555555555555556,
              "#1f9e89"
             ],
             [
              0.6666666666666666,
              "#35b779"
             ],
             [
              0.7777777777777778,
              "#6ece58"
             ],
             [
              0.8888888888888888,
              "#b5de2b"
             ],
             [
              1,
              "#fde725"
             ]
            ],
            "type": "heatmapgl"
           }
          ],
          "histogram": [
           {
            "marker": {
             "line": {
              "color": "white",
              "width": 0.6
             }
            },
            "type": "histogram"
           }
          ],
          "histogram2d": [
           {
            "colorbar": {
             "outlinewidth": 1,
             "tickcolor": "rgb(36,36,36)",
             "ticks": "outside"
            },
            "colorscale": [
             [
              0,
              "#440154"
             ],
             [
              0.1111111111111111,
              "#482878"
             ],
             [
              0.2222222222222222,
              "#3e4989"
             ],
             [
              0.3333333333333333,
              "#31688e"
             ],
             [
              0.4444444444444444,
              "#26828e"
             ],
             [
              0.5555555555555556,
              "#1f9e89"
             ],
             [
              0.6666666666666666,
              "#35b779"
             ],
             [
              0.7777777777777778,
              "#6ece58"
             ],
             [
              0.8888888888888888,
              "#b5de2b"
             ],
             [
              1,
              "#fde725"
             ]
            ],
            "type": "histogram2d"
           }
          ],
          "histogram2dcontour": [
           {
            "colorbar": {
             "outlinewidth": 1,
             "tickcolor": "rgb(36,36,36)",
             "ticks": "outside"
            },
            "colorscale": [
             [
              0,
              "#440154"
             ],
             [
              0.1111111111111111,
              "#482878"
             ],
             [
              0.2222222222222222,
              "#3e4989"
             ],
             [
              0.3333333333333333,
              "#31688e"
             ],
             [
              0.4444444444444444,
              "#26828e"
             ],
             [
              0.5555555555555556,
              "#1f9e89"
             ],
             [
              0.6666666666666666,
              "#35b779"
             ],
             [
              0.7777777777777778,
              "#6ece58"
             ],
             [
              0.8888888888888888,
              "#b5de2b"
             ],
             [
              1,
              "#fde725"
             ]
            ],
            "type": "histogram2dcontour"
           }
          ],
          "mesh3d": [
           {
            "colorbar": {
             "outlinewidth": 1,
             "tickcolor": "rgb(36,36,36)",
             "ticks": "outside"
            },
            "type": "mesh3d"
           }
          ],
          "parcoords": [
           {
            "line": {
             "colorbar": {
              "outlinewidth": 1,
              "tickcolor": "rgb(36,36,36)",
              "ticks": "outside"
             }
            },
            "type": "parcoords"
           }
          ],
          "pie": [
           {
            "automargin": true,
            "type": "pie"
           }
          ],
          "scatter": [
           {
            "fillpattern": {
             "fillmode": "overlay",
             "size": 10,
             "solidity": 0.2
            },
            "type": "scatter"
           }
          ],
          "scatter3d": [
           {
            "line": {
             "colorbar": {
              "outlinewidth": 1,
              "tickcolor": "rgb(36,36,36)",
              "ticks": "outside"
             }
            },
            "marker": {
             "colorbar": {
              "outlinewidth": 1,
              "tickcolor": "rgb(36,36,36)",
              "ticks": "outside"
             }
            },
            "type": "scatter3d"
           }
          ],
          "scattercarpet": [
           {
            "marker": {
             "colorbar": {
              "outlinewidth": 1,
              "tickcolor": "rgb(36,36,36)",
              "ticks": "outside"
             }
            },
            "type": "scattercarpet"
           }
          ],
          "scattergeo": [
           {
            "marker": {
             "colorbar": {
              "outlinewidth": 1,
              "tickcolor": "rgb(36,36,36)",
              "ticks": "outside"
             }
            },
            "type": "scattergeo"
           }
          ],
          "scattergl": [
           {
            "marker": {
             "colorbar": {
              "outlinewidth": 1,
              "tickcolor": "rgb(36,36,36)",
              "ticks": "outside"
             }
            },
            "type": "scattergl"
           }
          ],
          "scattermapbox": [
           {
            "marker": {
             "colorbar": {
              "outlinewidth": 1,
              "tickcolor": "rgb(36,36,36)",
              "ticks": "outside"
             }
            },
            "type": "scattermapbox"
           }
          ],
          "scatterpolar": [
           {
            "marker": {
             "colorbar": {
              "outlinewidth": 1,
              "tickcolor": "rgb(36,36,36)",
              "ticks": "outside"
             }
            },
            "type": "scatterpolar"
           }
          ],
          "scatterpolargl": [
           {
            "marker": {
             "colorbar": {
              "outlinewidth": 1,
              "tickcolor": "rgb(36,36,36)",
              "ticks": "outside"
             }
            },
            "type": "scatterpolargl"
           }
          ],
          "scatterternary": [
           {
            "marker": {
             "colorbar": {
              "outlinewidth": 1,
              "tickcolor": "rgb(36,36,36)",
              "ticks": "outside"
             }
            },
            "type": "scatterternary"
           }
          ],
          "surface": [
           {
            "colorbar": {
             "outlinewidth": 1,
             "tickcolor": "rgb(36,36,36)",
             "ticks": "outside"
            },
            "colorscale": [
             [
              0,
              "#440154"
             ],
             [
              0.1111111111111111,
              "#482878"
             ],
             [
              0.2222222222222222,
              "#3e4989"
             ],
             [
              0.3333333333333333,
              "#31688e"
             ],
             [
              0.4444444444444444,
              "#26828e"
             ],
             [
              0.5555555555555556,
              "#1f9e89"
             ],
             [
              0.6666666666666666,
              "#35b779"
             ],
             [
              0.7777777777777778,
              "#6ece58"
             ],
             [
              0.8888888888888888,
              "#b5de2b"
             ],
             [
              1,
              "#fde725"
             ]
            ],
            "type": "surface"
           }
          ],
          "table": [
           {
            "cells": {
             "fill": {
              "color": "rgb(237,237,237)"
             },
             "line": {
              "color": "white"
             }
            },
            "header": {
             "fill": {
              "color": "rgb(217,217,217)"
             },
             "line": {
              "color": "white"
             }
            },
            "type": "table"
           }
          ]
         },
         "layout": {
          "annotationdefaults": {
           "arrowhead": 0,
           "arrowwidth": 1
          },
          "autotypenumbers": "strict",
          "coloraxis": {
           "colorbar": {
            "outlinewidth": 1,
            "tickcolor": "rgb(36,36,36)",
            "ticks": "outside"
           }
          },
          "colorscale": {
           "diverging": [
            [
             0,
             "rgb(103,0,31)"
            ],
            [
             0.1,
             "rgb(178,24,43)"
            ],
            [
             0.2,
             "rgb(214,96,77)"
            ],
            [
             0.3,
             "rgb(244,165,130)"
            ],
            [
             0.4,
             "rgb(253,219,199)"
            ],
            [
             0.5,
             "rgb(247,247,247)"
            ],
            [
             0.6,
             "rgb(209,229,240)"
            ],
            [
             0.7,
             "rgb(146,197,222)"
            ],
            [
             0.8,
             "rgb(67,147,195)"
            ],
            [
             0.9,
             "rgb(33,102,172)"
            ],
            [
             1,
             "rgb(5,48,97)"
            ]
           ],
           "sequential": [
            [
             0,
             "#440154"
            ],
            [
             0.1111111111111111,
             "#482878"
            ],
            [
             0.2222222222222222,
             "#3e4989"
            ],
            [
             0.3333333333333333,
             "#31688e"
            ],
            [
             0.4444444444444444,
             "#26828e"
            ],
            [
             0.5555555555555556,
             "#1f9e89"
            ],
            [
             0.6666666666666666,
             "#35b779"
            ],
            [
             0.7777777777777778,
             "#6ece58"
            ],
            [
             0.8888888888888888,
             "#b5de2b"
            ],
            [
             1,
             "#fde725"
            ]
           ],
           "sequentialminus": [
            [
             0,
             "#440154"
            ],
            [
             0.1111111111111111,
             "#482878"
            ],
            [
             0.2222222222222222,
             "#3e4989"
            ],
            [
             0.3333333333333333,
             "#31688e"
            ],
            [
             0.4444444444444444,
             "#26828e"
            ],
            [
             0.5555555555555556,
             "#1f9e89"
            ],
            [
             0.6666666666666666,
             "#35b779"
            ],
            [
             0.7777777777777778,
             "#6ece58"
            ],
            [
             0.8888888888888888,
             "#b5de2b"
            ],
            [
             1,
             "#fde725"
            ]
           ]
          },
          "colorway": [
           "#1F77B4",
           "#FF7F0E",
           "#2CA02C",
           "#D62728",
           "#9467BD",
           "#8C564B",
           "#E377C2",
           "#7F7F7F",
           "#BCBD22",
           "#17BECF"
          ],
          "font": {
           "color": "rgb(36,36,36)"
          },
          "geo": {
           "bgcolor": "white",
           "lakecolor": "white",
           "landcolor": "white",
           "showlakes": true,
           "showland": true,
           "subunitcolor": "white"
          },
          "hoverlabel": {
           "align": "left"
          },
          "hovermode": "closest",
          "mapbox": {
           "style": "light"
          },
          "paper_bgcolor": "white",
          "plot_bgcolor": "white",
          "polar": {
           "angularaxis": {
            "gridcolor": "rgb(232,232,232)",
            "linecolor": "rgb(36,36,36)",
            "showgrid": false,
            "showline": true,
            "ticks": "outside"
           },
           "bgcolor": "white",
           "radialaxis": {
            "gridcolor": "rgb(232,232,232)",
            "linecolor": "rgb(36,36,36)",
            "showgrid": false,
            "showline": true,
            "ticks": "outside"
           }
          },
          "scene": {
           "xaxis": {
            "backgroundcolor": "white",
            "gridcolor": "rgb(232,232,232)",
            "gridwidth": 2,
            "linecolor": "rgb(36,36,36)",
            "showbackground": true,
            "showgrid": false,
            "showline": true,
            "ticks": "outside",
            "zeroline": false,
            "zerolinecolor": "rgb(36,36,36)"
           },
           "yaxis": {
            "backgroundcolor": "white",
            "gridcolor": "rgb(232,232,232)",
            "gridwidth": 2,
            "linecolor": "rgb(36,36,36)",
            "showbackground": true,
            "showgrid": false,
            "showline": true,
            "ticks": "outside",
            "zeroline": false,
            "zerolinecolor": "rgb(36,36,36)"
           },
           "zaxis": {
            "backgroundcolor": "white",
            "gridcolor": "rgb(232,232,232)",
            "gridwidth": 2,
            "linecolor": "rgb(36,36,36)",
            "showbackground": true,
            "showgrid": false,
            "showline": true,
            "ticks": "outside",
            "zeroline": false,
            "zerolinecolor": "rgb(36,36,36)"
           }
          },
          "shapedefaults": {
           "fillcolor": "black",
           "line": {
            "width": 0
           },
           "opacity": 0.3
          },
          "ternary": {
           "aaxis": {
            "gridcolor": "rgb(232,232,232)",
            "linecolor": "rgb(36,36,36)",
            "showgrid": false,
            "showline": true,
            "ticks": "outside"
           },
           "baxis": {
            "gridcolor": "rgb(232,232,232)",
            "linecolor": "rgb(36,36,36)",
            "showgrid": false,
            "showline": true,
            "ticks": "outside"
           },
           "bgcolor": "white",
           "caxis": {
            "gridcolor": "rgb(232,232,232)",
            "linecolor": "rgb(36,36,36)",
            "showgrid": false,
            "showline": true,
            "ticks": "outside"
           }
          },
          "title": {
           "x": 0.05
          },
          "xaxis": {
           "automargin": true,
           "gridcolor": "rgb(232,232,232)",
           "linecolor": "rgb(36,36,36)",
           "showgrid": false,
           "showline": true,
           "ticks": "outside",
           "title": {
            "standoff": 15
           },
           "zeroline": false,
           "zerolinecolor": "rgb(36,36,36)"
          },
          "yaxis": {
           "automargin": true,
           "gridcolor": "rgb(232,232,232)",
           "linecolor": "rgb(36,36,36)",
           "showgrid": false,
           "showline": true,
           "ticks": "outside",
           "title": {
            "standoff": 15
           },
           "zeroline": false,
           "zerolinecolor": "rgb(36,36,36)"
          }
         }
        },
        "width": 1000,
        "xaxis": {
         "anchor": "y",
         "domain": [
          0,
          0.45
         ],
         "title": {
          "text": "Number of Function Evaluations"
         }
        },
        "xaxis10": {
         "anchor": "y10",
         "domain": [
          0.55,
          1
         ],
         "title": {
          "text": "Number of Function Evaluations"
         }
        },
        "xaxis11": {
         "anchor": "y11",
         "domain": [
          0,
          0.45
         ],
         "title": {
          "text": "Number of Function Evaluations"
         }
        },
        "xaxis12": {
         "anchor": "y12",
         "domain": [
          0.55,
          1
         ],
         "title": {
          "text": "Number of Function Evaluations"
         }
        },
        "xaxis13": {
         "anchor": "y13",
         "domain": [
          0,
          0.45
         ],
         "title": {
          "text": "Number of Function Evaluations"
         }
        },
        "xaxis14": {
         "anchor": "y14",
         "domain": [
          0.55,
          1
         ],
         "title": {
          "text": "Number of Function Evaluations"
         }
        },
        "xaxis15": {
         "anchor": "y15",
         "domain": [
          0,
          0.45
         ],
         "title": {
          "text": "Number of Function Evaluations"
         }
        },
        "xaxis16": {
         "anchor": "y16",
         "domain": [
          0.55,
          1
         ],
         "title": {
          "text": "Number of Function Evaluations"
         }
        },
        "xaxis17": {
         "anchor": "y17",
         "domain": [
          0,
          0.45
         ],
         "title": {
          "text": "Number of Function Evaluations"
         }
        },
        "xaxis18": {
         "anchor": "y18",
         "domain": [
          0.55,
          1
         ],
         "title": {
          "text": "Number of Function Evaluations"
         }
        },
        "xaxis19": {
         "anchor": "y19",
         "domain": [
          0,
          0.45
         ],
         "title": {
          "text": "Number of Function Evaluations"
         }
        },
        "xaxis2": {
         "anchor": "y2",
         "domain": [
          0.55,
          1
         ],
         "title": {
          "text": "Number of Function Evaluations"
         }
        },
        "xaxis20": {
         "anchor": "y20",
         "domain": [
          0.55,
          1
         ],
         "title": {
          "text": "Number of Function Evaluations"
         }
        },
        "xaxis21": {
         "anchor": "y21",
         "domain": [
          0,
          0.45
         ],
         "title": {
          "text": "Number of Function Evaluations"
         }
        },
        "xaxis22": {
         "anchor": "y22",
         "domain": [
          0.55,
          1
         ],
         "title": {
          "text": "Number of Function Evaluations"
         }
        },
        "xaxis23": {
         "anchor": "y23",
         "domain": [
          0,
          0.45
         ],
         "title": {
          "text": "Number of Function Evaluations"
         }
        },
        "xaxis24": {
         "anchor": "y24",
         "domain": [
          0.55,
          1
         ],
         "title": {
          "text": "Number of Function Evaluations"
         }
        },
        "xaxis25": {
         "anchor": "y25",
         "domain": [
          0,
          0.45
         ],
         "title": {
          "text": "Number of Function Evaluations"
         }
        },
        "xaxis26": {
         "anchor": "y26",
         "domain": [
          0.55,
          1
         ],
         "title": {
          "text": "Number of Function Evaluations"
         }
        },
        "xaxis27": {
         "anchor": "y27",
         "domain": [
          0,
          0.45
         ],
         "title": {
          "text": "Number of Function Evaluations"
         }
        },
        "xaxis28": {
         "anchor": "y28",
         "domain": [
          0.55,
          1
         ],
         "title": {
          "text": "Number of Function Evaluations"
         }
        },
        "xaxis29": {
         "anchor": "y29",
         "domain": [
          0,
          0.45
         ],
         "title": {
          "text": "Number of Function Evaluations"
         }
        },
        "xaxis3": {
         "anchor": "y3",
         "domain": [
          0,
          0.45
         ],
         "title": {
          "text": "Number of Function Evaluations"
         }
        },
        "xaxis30": {
         "anchor": "y30",
         "domain": [
          0.55,
          1
         ],
         "title": {
          "text": "Number of Function Evaluations"
         }
        },
        "xaxis31": {
         "anchor": "y31",
         "domain": [
          0,
          0.45
         ],
         "title": {
          "text": "Number of Function Evaluations"
         }
        },
        "xaxis32": {
         "anchor": "y32",
         "domain": [
          0.55,
          1
         ],
         "title": {
          "text": "Number of Function Evaluations"
         }
        },
        "xaxis33": {
         "anchor": "y33",
         "domain": [
          0,
          0.45
         ],
         "title": {
          "text": "Number of Function Evaluations"
         }
        },
        "xaxis34": {
         "anchor": "y34",
         "domain": [
          0.55,
          1
         ],
         "title": {
          "text": "Number of Function Evaluations"
         }
        },
        "xaxis35": {
         "anchor": "y35",
         "domain": [
          0,
          0.45
         ],
         "title": {
          "text": "Number of Function Evaluations"
         }
        },
        "xaxis36": {
         "anchor": "y36",
         "domain": [
          0.55,
          1
         ],
         "title": {
          "text": "Number of Function Evaluations"
         }
        },
        "xaxis37": {
         "anchor": "y37",
         "domain": [
          0,
          0.45
         ],
         "title": {
          "text": "Number of Function Evaluations"
         }
        },
        "xaxis38": {
         "anchor": "y38",
         "domain": [
          0.55,
          1
         ],
         "title": {
          "text": "Number of Function Evaluations"
         }
        },
        "xaxis39": {
         "anchor": "y39",
         "domain": [
          0,
          0.45
         ],
         "title": {
          "text": "Number of Function Evaluations"
         }
        },
        "xaxis4": {
         "anchor": "y4",
         "domain": [
          0.55,
          1
         ],
         "title": {
          "text": "Number of Function Evaluations"
         }
        },
        "xaxis40": {
         "anchor": "y40",
         "domain": [
          0.55,
          1
         ],
         "title": {
          "text": "Number of Function Evaluations"
         }
        },
        "xaxis41": {
         "anchor": "y41",
         "domain": [
          0,
          0.45
         ],
         "title": {
          "text": "Number of Function Evaluations"
         }
        },
        "xaxis42": {
         "anchor": "y42",
         "domain": [
          0.55,
          1
         ],
         "title": {
          "text": "Number of Function Evaluations"
         }
        },
        "xaxis43": {
         "anchor": "y43",
         "domain": [
          0,
          0.45
         ],
         "title": {
          "text": "Number of Function Evaluations"
         }
        },
        "xaxis44": {
         "anchor": "y44",
         "domain": [
          0.55,
          1
         ],
         "title": {
          "text": "Number of Function Evaluations"
         }
        },
        "xaxis45": {
         "anchor": "y45",
         "domain": [
          0,
          0.45
         ],
         "title": {
          "text": "Number of Function Evaluations"
         }
        },
        "xaxis46": {
         "anchor": "y46",
         "domain": [
          0.55,
          1
         ],
         "title": {
          "text": "Number of Function Evaluations"
         }
        },
        "xaxis47": {
         "anchor": "y47",
         "domain": [
          0,
          0.45
         ],
         "title": {
          "text": "Number of Function Evaluations"
         }
        },
        "xaxis48": {
         "anchor": "y48",
         "domain": [
          0.55,
          1
         ],
         "title": {
          "text": "Number of Function Evaluations"
         }
        },
        "xaxis49": {
         "anchor": "y49",
         "domain": [
          0,
          0.45
         ],
         "title": {
          "text": "Number of Function Evaluations"
         }
        },
        "xaxis5": {
         "anchor": "y5",
         "domain": [
          0,
          0.45
         ],
         "title": {
          "text": "Number of Function Evaluations"
         }
        },
        "xaxis50": {
         "anchor": "y50",
         "domain": [
          0.55,
          1
         ],
         "title": {
          "text": "Number of Function Evaluations"
         }
        },
        "xaxis51": {
         "anchor": "y51",
         "domain": [
          0,
          0.45
         ],
         "title": {
          "text": "Number of Function Evaluations"
         }
        },
        "xaxis52": {
         "anchor": "y52",
         "domain": [
          0.55,
          1
         ],
         "title": {
          "text": "Number of Function Evaluations"
         }
        },
        "xaxis53": {
         "anchor": "y53",
         "domain": [
          0,
          0.45
         ],
         "title": {
          "text": "Number of Function Evaluations"
         }
        },
        "xaxis54": {
         "anchor": "y54",
         "domain": [
          0.55,
          1
         ],
         "title": {
          "text": "Number of Function Evaluations"
         }
        },
        "xaxis6": {
         "anchor": "y6",
         "domain": [
          0.55,
          1
         ],
         "title": {
          "text": "Number of Function Evaluations"
         }
        },
        "xaxis7": {
         "anchor": "y7",
         "domain": [
          0,
          0.45
         ],
         "title": {
          "text": "Number of Function Evaluations"
         }
        },
        "xaxis8": {
         "anchor": "y8",
         "domain": [
          0.55,
          1
         ],
         "title": {
          "text": "Number of Function Evaluations"
         }
        },
        "xaxis9": {
         "anchor": "y9",
         "domain": [
          0,
          0.45
         ],
         "title": {
          "text": "Number of Function Evaluations"
         }
        },
        "yaxis": {
         "anchor": "x",
         "domain": [
          0.9807956104252401,
          1
         ],
         "title": {
          "text": "Share of Function Distance to Optimum<br>Missing From Best So Far"
         }
        },
        "yaxis10": {
         "anchor": "x10",
         "domain": [
          0.8299039780521262,
          0.8491083676268861
         ],
         "title": {
          "text": "Share of Function Distance to Optimum<br>Missing From Best So Far"
         }
        },
        "yaxis11": {
         "anchor": "x11",
         "domain": [
          0.7921810699588477,
          0.8113854595336076
         ],
         "title": {
          "text": "Share of Function Distance to Optimum<br>Missing From Best So Far"
         }
        },
        "yaxis12": {
         "anchor": "x12",
         "domain": [
          0.7921810699588477,
          0.8113854595336076
         ],
         "title": {
          "text": "Share of Function Distance to Optimum<br>Missing From Best So Far"
         }
        },
        "yaxis13": {
         "anchor": "x13",
         "domain": [
          0.7544581618655692,
          0.7736625514403291
         ],
         "title": {
          "text": "Share of Function Distance to Optimum<br>Missing From Best So Far"
         }
        },
        "yaxis14": {
         "anchor": "x14",
         "domain": [
          0.7544581618655692,
          0.7736625514403291
         ],
         "title": {
          "text": "Share of Function Distance to Optimum<br>Missing From Best So Far"
         }
        },
        "yaxis15": {
         "anchor": "x15",
         "domain": [
          0.7167352537722909,
          0.7359396433470508
         ],
         "title": {
          "text": "Share of Function Distance to Optimum<br>Missing From Best So Far"
         }
        },
        "yaxis16": {
         "anchor": "x16",
         "domain": [
          0.7167352537722909,
          0.7359396433470508
         ],
         "title": {
          "text": "Share of Function Distance to Optimum<br>Missing From Best So Far"
         }
        },
        "yaxis17": {
         "anchor": "x17",
         "domain": [
          0.6790123456790124,
          0.6982167352537723
         ],
         "title": {
          "text": "Share of Function Distance to Optimum<br>Missing From Best So Far"
         }
        },
        "yaxis18": {
         "anchor": "x18",
         "domain": [
          0.6790123456790124,
          0.6982167352537723
         ],
         "title": {
          "text": "Share of Function Distance to Optimum<br>Missing From Best So Far"
         }
        },
        "yaxis19": {
         "anchor": "x19",
         "domain": [
          0.6412894375857339,
          0.6604938271604938
         ],
         "title": {
          "text": "Share of Function Distance to Optimum<br>Missing From Best So Far"
         }
        },
        "yaxis2": {
         "anchor": "x2",
         "domain": [
          0.9807956104252401,
          1
         ],
         "title": {
          "text": "Share of Function Distance to Optimum<br>Missing From Best So Far"
         }
        },
        "yaxis20": {
         "anchor": "x20",
         "domain": [
          0.6412894375857339,
          0.6604938271604938
         ],
         "title": {
          "text": "Share of Function Distance to Optimum<br>Missing From Best So Far"
         }
        },
        "yaxis21": {
         "anchor": "x21",
         "domain": [
          0.6035665294924555,
          0.6227709190672154
         ],
         "title": {
          "text": "Share of Function Distance to Optimum<br>Missing From Best So Far"
         }
        },
        "yaxis22": {
         "anchor": "x22",
         "domain": [
          0.6035665294924555,
          0.6227709190672154
         ],
         "title": {
          "text": "Share of Function Distance to Optimum<br>Missing From Best So Far"
         }
        },
        "yaxis23": {
         "anchor": "x23",
         "domain": [
          0.565843621399177,
          0.5850480109739369
         ],
         "title": {
          "text": "Share of Function Distance to Optimum<br>Missing From Best So Far"
         }
        },
        "yaxis24": {
         "anchor": "x24",
         "domain": [
          0.565843621399177,
          0.5850480109739369
         ],
         "title": {
          "text": "Share of Function Distance to Optimum<br>Missing From Best So Far"
         }
        },
        "yaxis25": {
         "anchor": "x25",
         "domain": [
          0.5281207133058985,
          0.5473251028806584
         ],
         "title": {
          "text": "Share of Function Distance to Optimum<br>Missing From Best So Far"
         }
        },
        "yaxis26": {
         "anchor": "x26",
         "domain": [
          0.5281207133058985,
          0.5473251028806584
         ],
         "title": {
          "text": "Share of Function Distance to Optimum<br>Missing From Best So Far"
         }
        },
        "yaxis27": {
         "anchor": "x27",
         "domain": [
          0.49039780521262005,
          0.50960219478738
         ],
         "title": {
          "text": "Share of Function Distance to Optimum<br>Missing From Best So Far"
         }
        },
        "yaxis28": {
         "anchor": "x28",
         "domain": [
          0.49039780521262005,
          0.50960219478738
         ],
         "title": {
          "text": "Share of Function Distance to Optimum<br>Missing From Best So Far"
         }
        },
        "yaxis29": {
         "anchor": "x29",
         "domain": [
          0.4526748971193416,
          0.47187928669410156
         ],
         "title": {
          "text": "Share of Function Distance to Optimum<br>Missing From Best So Far"
         }
        },
        "yaxis3": {
         "anchor": "x3",
         "domain": [
          0.9430727023319616,
          0.9622770919067215
         ],
         "title": {
          "text": "Share of Function Distance to Optimum<br>Missing From Best So Far"
         }
        },
        "yaxis30": {
         "anchor": "x30",
         "domain": [
          0.4526748971193416,
          0.47187928669410156
         ],
         "title": {
          "text": "Share of Function Distance to Optimum<br>Missing From Best So Far"
         }
        },
        "yaxis31": {
         "anchor": "x31",
         "domain": [
          0.4149519890260631,
          0.43415637860082307
         ],
         "title": {
          "text": "Share of Function Distance to Optimum<br>Missing From Best So Far"
         }
        },
        "yaxis32": {
         "anchor": "x32",
         "domain": [
          0.4149519890260631,
          0.43415637860082307
         ],
         "title": {
          "text": "Share of Function Distance to Optimum<br>Missing From Best So Far"
         }
        },
        "yaxis33": {
         "anchor": "x33",
         "domain": [
          0.3772290809327846,
          0.39643347050754457
         ],
         "title": {
          "text": "Share of Function Distance to Optimum<br>Missing From Best So Far"
         }
        },
        "yaxis34": {
         "anchor": "x34",
         "domain": [
          0.3772290809327846,
          0.39643347050754457
         ],
         "title": {
          "text": "Share of Function Distance to Optimum<br>Missing From Best So Far"
         }
        },
        "yaxis35": {
         "anchor": "x35",
         "domain": [
          0.3395061728395062,
          0.35871056241426613
         ],
         "title": {
          "text": "Share of Function Distance to Optimum<br>Missing From Best So Far"
         }
        },
        "yaxis36": {
         "anchor": "x36",
         "domain": [
          0.3395061728395062,
          0.35871056241426613
         ],
         "title": {
          "text": "Share of Function Distance to Optimum<br>Missing From Best So Far"
         }
        },
        "yaxis37": {
         "anchor": "x37",
         "domain": [
          0.30178326474622774,
          0.3209876543209877
         ],
         "title": {
          "text": "Share of Function Distance to Optimum<br>Missing From Best So Far"
         }
        },
        "yaxis38": {
         "anchor": "x38",
         "domain": [
          0.30178326474622774,
          0.3209876543209877
         ],
         "title": {
          "text": "Share of Function Distance to Optimum<br>Missing From Best So Far"
         }
        },
        "yaxis39": {
         "anchor": "x39",
         "domain": [
          0.26406035665294925,
          0.2832647462277092
         ],
         "title": {
          "text": "Share of Function Distance to Optimum<br>Missing From Best So Far"
         }
        },
        "yaxis4": {
         "anchor": "x4",
         "domain": [
          0.9430727023319616,
          0.9622770919067215
         ],
         "title": {
          "text": "Share of Function Distance to Optimum<br>Missing From Best So Far"
         }
        },
        "yaxis40": {
         "anchor": "x40",
         "domain": [
          0.26406035665294925,
          0.2832647462277092
         ],
         "title": {
          "text": "Share of Function Distance to Optimum<br>Missing From Best So Far"
         }
        },
        "yaxis41": {
         "anchor": "x41",
         "domain": [
          0.2263374485596708,
          0.24554183813443076
         ],
         "title": {
          "text": "Share of Function Distance to Optimum<br>Missing From Best So Far"
         }
        },
        "yaxis42": {
         "anchor": "x42",
         "domain": [
          0.2263374485596708,
          0.24554183813443076
         ],
         "title": {
          "text": "Share of Function Distance to Optimum<br>Missing From Best So Far"
         }
        },
        "yaxis43": {
         "anchor": "x43",
         "domain": [
          0.1886145404663923,
          0.20781893004115226
         ],
         "title": {
          "text": "Share of Function Distance to Optimum<br>Missing From Best So Far"
         }
        },
        "yaxis44": {
         "anchor": "x44",
         "domain": [
          0.1886145404663923,
          0.20781893004115226
         ],
         "title": {
          "text": "Share of Function Distance to Optimum<br>Missing From Best So Far"
         }
        },
        "yaxis45": {
         "anchor": "x45",
         "domain": [
          0.15089163237311387,
          0.17009602194787382
         ],
         "title": {
          "text": "Share of Function Distance to Optimum<br>Missing From Best So Far"
         }
        },
        "yaxis46": {
         "anchor": "x46",
         "domain": [
          0.15089163237311387,
          0.17009602194787382
         ],
         "title": {
          "text": "Share of Function Distance to Optimum<br>Missing From Best So Far"
         }
        },
        "yaxis47": {
         "anchor": "x47",
         "domain": [
          0.11316872427983539,
          0.13237311385459533
         ],
         "title": {
          "text": "Share of Function Distance to Optimum<br>Missing From Best So Far"
         }
        },
        "yaxis48": {
         "anchor": "x48",
         "domain": [
          0.11316872427983539,
          0.13237311385459533
         ],
         "title": {
          "text": "Share of Function Distance to Optimum<br>Missing From Best So Far"
         }
        },
        "yaxis49": {
         "anchor": "x49",
         "domain": [
          0.07544581618655694,
          0.09465020576131689
         ],
         "title": {
          "text": "Share of Function Distance to Optimum<br>Missing From Best So Far"
         }
        },
        "yaxis5": {
         "anchor": "x5",
         "domain": [
          0.9053497942386832,
          0.9245541838134431
         ],
         "title": {
          "text": "Share of Function Distance to Optimum<br>Missing From Best So Far"
         }
        },
        "yaxis50": {
         "anchor": "x50",
         "domain": [
          0.07544581618655694,
          0.09465020576131689
         ],
         "title": {
          "text": "Share of Function Distance to Optimum<br>Missing From Best So Far"
         }
        },
        "yaxis51": {
         "anchor": "x51",
         "domain": [
          0.03772290809327847,
          0.05692729766803842
         ],
         "title": {
          "text": "Share of Function Distance to Optimum<br>Missing From Best So Far"
         }
        },
        "yaxis52": {
         "anchor": "x52",
         "domain": [
          0.03772290809327847,
          0.05692729766803842
         ],
         "title": {
          "text": "Share of Function Distance to Optimum<br>Missing From Best So Far"
         }
        },
        "yaxis53": {
         "anchor": "x53",
         "domain": [
          0,
          0.019204389574759947
         ],
         "title": {
          "text": "Share of Function Distance to Optimum<br>Missing From Best So Far"
         }
        },
        "yaxis54": {
         "anchor": "x54",
         "domain": [
          0,
          0.019204389574759947
         ],
         "title": {
          "text": "Share of Function Distance to Optimum<br>Missing From Best So Far"
         }
        },
        "yaxis6": {
         "anchor": "x6",
         "domain": [
          0.9053497942386832,
          0.9245541838134431
         ],
         "title": {
          "text": "Share of Function Distance to Optimum<br>Missing From Best So Far"
         }
        },
        "yaxis7": {
         "anchor": "x7",
         "domain": [
          0.8676268861454047,
          0.8868312757201646
         ],
         "title": {
          "text": "Share of Function Distance to Optimum<br>Missing From Best So Far"
         }
        },
        "yaxis8": {
         "anchor": "x8",
         "domain": [
          0.8676268861454047,
          0.8868312757201646
         ],
         "title": {
          "text": "Share of Function Distance to Optimum<br>Missing From Best So Far"
         }
        },
        "yaxis9": {
         "anchor": "x9",
         "domain": [
          0.8299039780521262,
          0.8491083676268861
         ],
         "title": {
          "text": "Share of Function Distance to Optimum<br>Missing From Best So Far"
         }
        }
       }
      }
     },
     "metadata": {},
     "output_type": "display_data"
    }
   ],
   "source": [
    "fig = om.convergence_plot(\n",
    "    problems=problems,\n",
    "    results=results,\n",
    "    n_cols=2,\n",
    "    )\n",
    "\n",
    "# fig.write_image(\"scipy_old/convplot.png\", scale=2)\n",
    "fig.show()"
   ]
  },
  {
   "cell_type": "code",
   "execution_count": 19,
   "id": "9bf7b070",
   "metadata": {},
   "outputs": [
    {
     "data": {
      "text/html": [
       "<div>\n",
       "<style scoped>\n",
       "    .dataframe tbody tr th:only-of-type {\n",
       "        vertical-align: middle;\n",
       "    }\n",
       "\n",
       "    .dataframe tbody tr th {\n",
       "        vertical-align: top;\n",
       "    }\n",
       "\n",
       "    .dataframe thead th {\n",
       "        text-align: right;\n",
       "    }\n",
       "</style>\n",
       "<table border=\"1\" class=\"dataframe\">\n",
       "  <thead>\n",
       "    <tr style=\"text-align: right;\">\n",
       "      <th></th>\n",
       "      <th>scipy_lbfgsb</th>\n",
       "      <th>dimensionality</th>\n",
       "    </tr>\n",
       "    <tr>\n",
       "      <th>problem</th>\n",
       "      <th></th>\n",
       "      <th></th>\n",
       "    </tr>\n",
       "  </thead>\n",
       "  <tbody>\n",
       "    <tr>\n",
       "      <th>bard_bad_start</th>\n",
       "      <td>success</td>\n",
       "      <td>3</td>\n",
       "    </tr>\n",
       "    <tr>\n",
       "      <th>bard_good_start</th>\n",
       "      <td>success</td>\n",
       "      <td>3</td>\n",
       "    </tr>\n",
       "    <tr>\n",
       "      <th>bdqrtic_10</th>\n",
       "      <td>success</td>\n",
       "      <td>10</td>\n",
       "    </tr>\n",
       "    <tr>\n",
       "      <th>bdqrtic_11</th>\n",
       "      <td>success</td>\n",
       "      <td>11</td>\n",
       "    </tr>\n",
       "    <tr>\n",
       "      <th>bdqrtic_12</th>\n",
       "      <td>success</td>\n",
       "      <td>12</td>\n",
       "    </tr>\n",
       "    <tr>\n",
       "      <th>bdqrtic_8</th>\n",
       "      <td>success</td>\n",
       "      <td>8</td>\n",
       "    </tr>\n",
       "    <tr>\n",
       "      <th>box_3d</th>\n",
       "      <td>success</td>\n",
       "      <td>3</td>\n",
       "    </tr>\n",
       "    <tr>\n",
       "      <th>brown_almost_linear</th>\n",
       "      <td>success</td>\n",
       "      <td>10</td>\n",
       "    </tr>\n",
       "    <tr>\n",
       "      <th>brown_almost_linear_medium</th>\n",
       "      <td>success</td>\n",
       "      <td>100</td>\n",
       "    </tr>\n",
       "    <tr>\n",
       "      <th>brown_dennis_bad_start</th>\n",
       "      <td>success</td>\n",
       "      <td>4</td>\n",
       "    </tr>\n",
       "    <tr>\n",
       "      <th>brown_dennis_good_start</th>\n",
       "      <td>success</td>\n",
       "      <td>4</td>\n",
       "    </tr>\n",
       "    <tr>\n",
       "      <th>chebyquad_10</th>\n",
       "      <td>failed</td>\n",
       "      <td>10</td>\n",
       "    </tr>\n",
       "    <tr>\n",
       "      <th>chebyquad_11</th>\n",
       "      <td>success</td>\n",
       "      <td>11</td>\n",
       "    </tr>\n",
       "    <tr>\n",
       "      <th>chebyquad_6</th>\n",
       "      <td>success</td>\n",
       "      <td>6</td>\n",
       "    </tr>\n",
       "    <tr>\n",
       "      <th>chebyquad_7</th>\n",
       "      <td>success</td>\n",
       "      <td>7</td>\n",
       "    </tr>\n",
       "    <tr>\n",
       "      <th>chebyquad_8</th>\n",
       "      <td>success</td>\n",
       "      <td>8</td>\n",
       "    </tr>\n",
       "    <tr>\n",
       "      <th>chebyquad_9</th>\n",
       "      <td>success</td>\n",
       "      <td>9</td>\n",
       "    </tr>\n",
       "    <tr>\n",
       "      <th>cube_5</th>\n",
       "      <td>success</td>\n",
       "      <td>5</td>\n",
       "    </tr>\n",
       "    <tr>\n",
       "      <th>cube_6</th>\n",
       "      <td>success</td>\n",
       "      <td>6</td>\n",
       "    </tr>\n",
       "    <tr>\n",
       "      <th>cube_8</th>\n",
       "      <td>success</td>\n",
       "      <td>8</td>\n",
       "    </tr>\n",
       "    <tr>\n",
       "      <th>freudenstein_roth_bad_start</th>\n",
       "      <td>success</td>\n",
       "      <td>2</td>\n",
       "    </tr>\n",
       "    <tr>\n",
       "      <th>freudenstein_roth_good_start</th>\n",
       "      <td>success</td>\n",
       "      <td>2</td>\n",
       "    </tr>\n",
       "    <tr>\n",
       "      <th>heart_eight_bad_start</th>\n",
       "      <td>success</td>\n",
       "      <td>8</td>\n",
       "    </tr>\n",
       "    <tr>\n",
       "      <th>heart_eight_good_start</th>\n",
       "      <td>success</td>\n",
       "      <td>8</td>\n",
       "    </tr>\n",
       "    <tr>\n",
       "      <th>helical_valley_bad_start</th>\n",
       "      <td>success</td>\n",
       "      <td>3</td>\n",
       "    </tr>\n",
       "    <tr>\n",
       "      <th>helical_valley_good_start</th>\n",
       "      <td>success</td>\n",
       "      <td>3</td>\n",
       "    </tr>\n",
       "    <tr>\n",
       "      <th>jennrich_sampson</th>\n",
       "      <td>error</td>\n",
       "      <td>2</td>\n",
       "    </tr>\n",
       "    <tr>\n",
       "      <th>kowalik_osborne</th>\n",
       "      <td>error</td>\n",
       "      <td>4</td>\n",
       "    </tr>\n",
       "    <tr>\n",
       "      <th>linear_full_rank_bad_start</th>\n",
       "      <td>success</td>\n",
       "      <td>9</td>\n",
       "    </tr>\n",
       "    <tr>\n",
       "      <th>linear_full_rank_good_start</th>\n",
       "      <td>success</td>\n",
       "      <td>9</td>\n",
       "    </tr>\n",
       "    <tr>\n",
       "      <th>linear_rank_one_bad_start</th>\n",
       "      <td>success</td>\n",
       "      <td>7</td>\n",
       "    </tr>\n",
       "    <tr>\n",
       "      <th>linear_rank_one_good_start</th>\n",
       "      <td>success</td>\n",
       "      <td>7</td>\n",
       "    </tr>\n",
       "    <tr>\n",
       "      <th>linear_rank_one_zero_columns_rows_bad_start</th>\n",
       "      <td>success</td>\n",
       "      <td>7</td>\n",
       "    </tr>\n",
       "    <tr>\n",
       "      <th>linear_rank_one_zero_columns_rows_good_start</th>\n",
       "      <td>success</td>\n",
       "      <td>7</td>\n",
       "    </tr>\n",
       "    <tr>\n",
       "      <th>mancino_10</th>\n",
       "      <td>success</td>\n",
       "      <td>10</td>\n",
       "    </tr>\n",
       "    <tr>\n",
       "      <th>mancino_12_bad_start</th>\n",
       "      <td>success</td>\n",
       "      <td>12</td>\n",
       "    </tr>\n",
       "    <tr>\n",
       "      <th>mancino_12_good_start</th>\n",
       "      <td>success</td>\n",
       "      <td>12</td>\n",
       "    </tr>\n",
       "    <tr>\n",
       "      <th>mancino_5_bad_start</th>\n",
       "      <td>success</td>\n",
       "      <td>5</td>\n",
       "    </tr>\n",
       "    <tr>\n",
       "      <th>mancino_5_good_start</th>\n",
       "      <td>success</td>\n",
       "      <td>5</td>\n",
       "    </tr>\n",
       "    <tr>\n",
       "      <th>mancino_8</th>\n",
       "      <td>success</td>\n",
       "      <td>8</td>\n",
       "    </tr>\n",
       "    <tr>\n",
       "      <th>meyer</th>\n",
       "      <td>success</td>\n",
       "      <td>3</td>\n",
       "    </tr>\n",
       "    <tr>\n",
       "      <th>osborne_one</th>\n",
       "      <td>error</td>\n",
       "      <td>5</td>\n",
       "    </tr>\n",
       "    <tr>\n",
       "      <th>osborne_two_bad_start</th>\n",
       "      <td>failed</td>\n",
       "      <td>11</td>\n",
       "    </tr>\n",
       "    <tr>\n",
       "      <th>osborne_two_good_start</th>\n",
       "      <td>success</td>\n",
       "      <td>11</td>\n",
       "    </tr>\n",
       "    <tr>\n",
       "      <th>powell_singular_bad_start</th>\n",
       "      <td>success</td>\n",
       "      <td>4</td>\n",
       "    </tr>\n",
       "    <tr>\n",
       "      <th>powell_singular_good_start</th>\n",
       "      <td>success</td>\n",
       "      <td>4</td>\n",
       "    </tr>\n",
       "    <tr>\n",
       "      <th>rosenbrock_bad_start</th>\n",
       "      <td>success</td>\n",
       "      <td>2</td>\n",
       "    </tr>\n",
       "    <tr>\n",
       "      <th>rosenbrock_good_start</th>\n",
       "      <td>success</td>\n",
       "      <td>2</td>\n",
       "    </tr>\n",
       "    <tr>\n",
       "      <th>watson_12_bad_start</th>\n",
       "      <td>success</td>\n",
       "      <td>12</td>\n",
       "    </tr>\n",
       "    <tr>\n",
       "      <th>watson_12_good_start</th>\n",
       "      <td>success</td>\n",
       "      <td>12</td>\n",
       "    </tr>\n",
       "    <tr>\n",
       "      <th>watson_6_bad_start</th>\n",
       "      <td>success</td>\n",
       "      <td>6</td>\n",
       "    </tr>\n",
       "    <tr>\n",
       "      <th>watson_6_good_start</th>\n",
       "      <td>success</td>\n",
       "      <td>6</td>\n",
       "    </tr>\n",
       "    <tr>\n",
       "      <th>watson_9_bad_start</th>\n",
       "      <td>success</td>\n",
       "      <td>9</td>\n",
       "    </tr>\n",
       "    <tr>\n",
       "      <th>watson_9_good_start</th>\n",
       "      <td>success</td>\n",
       "      <td>9</td>\n",
       "    </tr>\n",
       "  </tbody>\n",
       "</table>\n",
       "</div>"
      ],
      "text/plain": [
       "                                             scipy_lbfgsb  dimensionality\n",
       "problem                                                                  \n",
       "bard_bad_start                                    success               3\n",
       "bard_good_start                                   success               3\n",
       "bdqrtic_10                                        success              10\n",
       "bdqrtic_11                                        success              11\n",
       "bdqrtic_12                                        success              12\n",
       "bdqrtic_8                                         success               8\n",
       "box_3d                                            success               3\n",
       "brown_almost_linear                               success              10\n",
       "brown_almost_linear_medium                        success             100\n",
       "brown_dennis_bad_start                            success               4\n",
       "brown_dennis_good_start                           success               4\n",
       "chebyquad_10                                       failed              10\n",
       "chebyquad_11                                      success              11\n",
       "chebyquad_6                                       success               6\n",
       "chebyquad_7                                       success               7\n",
       "chebyquad_8                                       success               8\n",
       "chebyquad_9                                       success               9\n",
       "cube_5                                            success               5\n",
       "cube_6                                            success               6\n",
       "cube_8                                            success               8\n",
       "freudenstein_roth_bad_start                       success               2\n",
       "freudenstein_roth_good_start                      success               2\n",
       "heart_eight_bad_start                             success               8\n",
       "heart_eight_good_start                            success               8\n",
       "helical_valley_bad_start                          success               3\n",
       "helical_valley_good_start                         success               3\n",
       "jennrich_sampson                                    error               2\n",
       "kowalik_osborne                                     error               4\n",
       "linear_full_rank_bad_start                        success               9\n",
       "linear_full_rank_good_start                       success               9\n",
       "linear_rank_one_bad_start                         success               7\n",
       "linear_rank_one_good_start                        success               7\n",
       "linear_rank_one_zero_columns_rows_bad_start       success               7\n",
       "linear_rank_one_zero_columns_rows_good_start      success               7\n",
       "mancino_10                                        success              10\n",
       "mancino_12_bad_start                              success              12\n",
       "mancino_12_good_start                             success              12\n",
       "mancino_5_bad_start                               success               5\n",
       "mancino_5_good_start                              success               5\n",
       "mancino_8                                         success               8\n",
       "meyer                                             success               3\n",
       "osborne_one                                         error               5\n",
       "osborne_two_bad_start                              failed              11\n",
       "osborne_two_good_start                            success              11\n",
       "powell_singular_bad_start                         success               4\n",
       "powell_singular_good_start                        success               4\n",
       "rosenbrock_bad_start                              success               2\n",
       "rosenbrock_good_start                             success               2\n",
       "watson_12_bad_start                               success              12\n",
       "watson_12_good_start                              success              12\n",
       "watson_6_bad_start                                success               6\n",
       "watson_6_good_start                               success               6\n",
       "watson_9_bad_start                                success               9\n",
       "watson_9_good_start                               success               9"
      ]
     },
     "execution_count": 19,
     "metadata": {},
     "output_type": "execute_result"
    }
   ],
   "source": [
    "df = om.convergence_report(\n",
    "    problems=problems,\n",
    "    results=results_scipy_1_15_2,\n",
    "    stopping_criterion=\"y\",\n",
    "    x_precision=1e-4,\n",
    "    y_precision=1e-4,\n",
    ")\n",
    "df"
   ]
  },
  {
   "cell_type": "code",
   "execution_count": null,
   "id": "74b12cc4",
   "metadata": {},
   "outputs": [],
   "source": []
  },
  {
   "cell_type": "markdown",
   "id": "fbed4a24",
   "metadata": {},
   "source": [
    "# Make fun optional"
   ]
  },
  {
   "cell_type": "code",
   "execution_count": null,
   "id": "a1f78d98",
   "metadata": {},
   "outputs": [],
   "source": [
    "def sphere(x):\n",
    "    return x @ x\n",
    "def grad_sphere(x):\n",
    "    return 2*x\n",
    "def sphere_and_grad(x):\n",
    "    return sphere(x), grad_sphere(x)"
   ]
  },
  {
   "cell_type": "code",
   "execution_count": null,
   "id": "7c10560c",
   "metadata": {},
   "outputs": [
    {
     "data": {
      "text/plain": [
       "array([ 0.00000000e+00, -5.55111512e-16, -1.11022302e-15, -2.22044605e-15,\n",
       "       -2.22044605e-15])"
      ]
     },
     "metadata": {},
     "output_type": "display_data"
    }
   ],
   "source": [
    "res = om.minimize(\n",
    "    # fun = sphere,\n",
    "    params = np.arange(5),\n",
    "    # jac = grad_sphere,\n",
    "    fun_and_jac = lambda x: (x@x, 2*x),\n",
    "    algorithm='scipy_lbfgsb',   \n",
    "    \n",
    ")\n",
    "res.params"
   ]
  },
  {
   "cell_type": "code",
   "execution_count": null,
   "id": "8acf4945",
   "metadata": {},
   "outputs": [
    {
     "data": {
      "text/plain": [
       "np.False_"
      ]
     },
     "metadata": {},
     "output_type": "display_data"
    }
   ],
   "source": [
    "expected = om.minimize(\n",
    "        fun=lambda x: x @ x,\n",
    "        jac = lambda x: 2*x,\n",
    "        params=np.arange(5),\n",
    "        algorithm=\"scipy_lbfgsb\",\n",
    "    )\n",
    "res = om.minimize(\n",
    "        fun_and_jac=lambda x: (x @ x, 2 * x),\n",
    "        params=np.arange(5),\n",
    "        algorithm=\"scipy_lbfgsb\",\n",
    "    )\n",
    "np.all(res.x != expected.x)\n"
   ]
  },
  {
   "cell_type": "code",
   "execution_count": 11,
   "id": "f3422602",
   "metadata": {},
   "outputs": [
    {
     "ename": "InvalidFunctionError",
     "evalue": "Least-squares solvers can only be used with least-squares problems.",
     "output_type": "error",
     "traceback": [
      "\u001b[0;31m---------------------------------------------------------------------------\u001b[0m",
      "\u001b[0;31mInvalidFunctionError\u001b[0m                      Traceback (most recent call last)",
      "Cell \u001b[0;32mIn[11], line 22\u001b[0m\n\u001b[1;32m     20\u001b[0m results \u001b[38;5;241m=\u001b[39m {}\n\u001b[1;32m     21\u001b[0m \u001b[38;5;28;01mfor\u001b[39;00m algorithm \u001b[38;5;129;01min\u001b[39;00m [\u001b[38;5;124m\"\u001b[39m\u001b[38;5;124mscipy_ls_lm\u001b[39m\u001b[38;5;124m\"\u001b[39m]:\n\u001b[0;32m---> 22\u001b[0m     results[algorithm] \u001b[38;5;241m=\u001b[39m \u001b[43mom\u001b[49m\u001b[38;5;241;43m.\u001b[39;49m\u001b[43mminimize\u001b[49m\u001b[43m(\u001b[49m\n\u001b[1;32m     23\u001b[0m \u001b[43m        \u001b[49m\u001b[43mparams\u001b[49m\u001b[38;5;241;43m=\u001b[39;49m\u001b[43mnp\u001b[49m\u001b[38;5;241;43m.\u001b[39;49m\u001b[43marange\u001b[49m\u001b[43m(\u001b[49m\u001b[38;5;241;43m5\u001b[39;49m\u001b[43m)\u001b[49m\u001b[43m,\u001b[49m\n\u001b[1;32m     24\u001b[0m \u001b[43m        \u001b[49m\u001b[43malgorithm\u001b[49m\u001b[38;5;241;43m=\u001b[39;49m\u001b[43malgorithm\u001b[49m\u001b[43m,\u001b[49m\n\u001b[1;32m     25\u001b[0m \u001b[43m        \u001b[49m\u001b[43mfun_and_jac\u001b[49m\u001b[38;5;241;43m=\u001b[39;49m\u001b[38;5;28;43;01mlambda\u001b[39;49;00m\u001b[43m \u001b[49m\u001b[43mx\u001b[49m\u001b[43m:\u001b[49m\u001b[43m(\u001b[49m\u001b[43mx\u001b[49m\u001b[38;5;129;43m@x\u001b[39;49m\u001b[43m,\u001b[49m\u001b[43m \u001b[49m\u001b[38;5;241;43m2\u001b[39;49m\u001b[38;5;241;43m*\u001b[39;49m\u001b[43mx\u001b[49m\u001b[43m)\u001b[49m\u001b[43m,\u001b[49m\n\u001b[1;32m     26\u001b[0m \u001b[43m    \u001b[49m\u001b[43m)\u001b[49m\n\u001b[1;32m     28\u001b[0m fig \u001b[38;5;241m=\u001b[39m om\u001b[38;5;241m.\u001b[39mcriterion_plot(results)\n\u001b[1;32m     29\u001b[0m fig\u001b[38;5;241m.\u001b[39mshow(renderer\u001b[38;5;241m=\u001b[39m\u001b[38;5;124m\"\u001b[39m\u001b[38;5;124mpng\u001b[39m\u001b[38;5;124m\"\u001b[39m)\n",
      "File \u001b[0;32m~/Documents/optimagic/src/optimagic/optimization/optimize.py:432\u001b[0m, in \u001b[0;36mminimize\u001b[0;34m(fun, params, algorithm, bounds, constraints, fun_kwargs, algo_options, jac, jac_kwargs, fun_and_jac, fun_and_jac_kwargs, numdiff_options, logging, error_handling, error_penalty, scaling, multistart, collect_history, skip_checks, x0, method, args, hess, hessp, callback, options, tol, criterion, criterion_kwargs, derivative, derivative_kwargs, criterion_and_derivative, criterion_and_derivative_kwargs, log_options, lower_bounds, upper_bounds, soft_lower_bounds, soft_upper_bounds, scaling_options, multistart_options)\u001b[0m\n\u001b[1;32m    284\u001b[0m \u001b[38;5;28;01mdef\u001b[39;00m\u001b[38;5;250m \u001b[39m\u001b[38;5;21mminimize\u001b[39m(\n\u001b[1;32m    285\u001b[0m     fun: FunType \u001b[38;5;241m|\u001b[39m CriterionType \u001b[38;5;241m|\u001b[39m \u001b[38;5;28;01mNone\u001b[39;00m \u001b[38;5;241m=\u001b[39m \u001b[38;5;28;01mNone\u001b[39;00m,\n\u001b[1;32m    286\u001b[0m     params: PyTree \u001b[38;5;241m|\u001b[39m \u001b[38;5;28;01mNone\u001b[39;00m \u001b[38;5;241m=\u001b[39m \u001b[38;5;28;01mNone\u001b[39;00m,\n\u001b[0;32m   (...)\u001b[0m\n\u001b[1;32m    330\u001b[0m     multistart_options: \u001b[38;5;28mdict\u001b[39m[\u001b[38;5;28mstr\u001b[39m, Any] \u001b[38;5;241m|\u001b[39m \u001b[38;5;28;01mNone\u001b[39;00m \u001b[38;5;241m=\u001b[39m \u001b[38;5;28;01mNone\u001b[39;00m,\n\u001b[1;32m    331\u001b[0m ) \u001b[38;5;241m-\u001b[39m\u001b[38;5;241m>\u001b[39m OptimizeResult:\n\u001b[1;32m    332\u001b[0m \u001b[38;5;250m    \u001b[39m\u001b[38;5;124;03m\"\"\"Minimize criterion using algorithm subject to constraints.\u001b[39;00m\n\u001b[1;32m    333\u001b[0m \n\u001b[1;32m    334\u001b[0m \u001b[38;5;124;03m    Args:\u001b[39;00m\n\u001b[0;32m   (...)\u001b[0m\n\u001b[1;32m    429\u001b[0m \n\u001b[1;32m    430\u001b[0m \u001b[38;5;124;03m    \"\"\"\u001b[39;00m\n\u001b[0;32m--> 432\u001b[0m     problem \u001b[38;5;241m=\u001b[39m \u001b[43mcreate_optimization_problem\u001b[49m\u001b[43m(\u001b[49m\n\u001b[1;32m    433\u001b[0m \u001b[43m        \u001b[49m\u001b[43mdirection\u001b[49m\u001b[38;5;241;43m=\u001b[39;49m\u001b[43mDirection\u001b[49m\u001b[38;5;241;43m.\u001b[39;49m\u001b[43mMINIMIZE\u001b[49m\u001b[43m,\u001b[49m\n\u001b[1;32m    434\u001b[0m \u001b[43m        \u001b[49m\u001b[43mfun\u001b[49m\u001b[38;5;241;43m=\u001b[39;49m\u001b[43mfun\u001b[49m\u001b[43m,\u001b[49m\n\u001b[1;32m    435\u001b[0m \u001b[43m        \u001b[49m\u001b[43mparams\u001b[49m\u001b[38;5;241;43m=\u001b[39;49m\u001b[43mparams\u001b[49m\u001b[43m,\u001b[49m\n\u001b[1;32m    436\u001b[0m \u001b[43m        \u001b[49m\u001b[43malgorithm\u001b[49m\u001b[38;5;241;43m=\u001b[39;49m\u001b[43malgorithm\u001b[49m\u001b[43m,\u001b[49m\n\u001b[1;32m    437\u001b[0m \u001b[43m        \u001b[49m\u001b[43mbounds\u001b[49m\u001b[38;5;241;43m=\u001b[39;49m\u001b[43mbounds\u001b[49m\u001b[43m,\u001b[49m\n\u001b[1;32m    438\u001b[0m \u001b[43m        \u001b[49m\u001b[43mfun_kwargs\u001b[49m\u001b[38;5;241;43m=\u001b[39;49m\u001b[43mfun_kwargs\u001b[49m\u001b[43m,\u001b[49m\n\u001b[1;32m    439\u001b[0m \u001b[43m        \u001b[49m\u001b[43mconstraints\u001b[49m\u001b[38;5;241;43m=\u001b[39;49m\u001b[43mconstraints\u001b[49m\u001b[43m,\u001b[49m\n\u001b[1;32m    440\u001b[0m \u001b[43m        \u001b[49m\u001b[43malgo_options\u001b[49m\u001b[38;5;241;43m=\u001b[39;49m\u001b[43malgo_options\u001b[49m\u001b[43m,\u001b[49m\n\u001b[1;32m    441\u001b[0m \u001b[43m        \u001b[49m\u001b[43mjac\u001b[49m\u001b[38;5;241;43m=\u001b[39;49m\u001b[43mjac\u001b[49m\u001b[43m,\u001b[49m\n\u001b[1;32m    442\u001b[0m \u001b[43m        \u001b[49m\u001b[43mjac_kwargs\u001b[49m\u001b[38;5;241;43m=\u001b[39;49m\u001b[43mjac_kwargs\u001b[49m\u001b[43m,\u001b[49m\n\u001b[1;32m    443\u001b[0m \u001b[43m        \u001b[49m\u001b[43mfun_and_jac\u001b[49m\u001b[38;5;241;43m=\u001b[39;49m\u001b[43mfun_and_jac\u001b[49m\u001b[43m,\u001b[49m\n\u001b[1;32m    444\u001b[0m \u001b[43m        \u001b[49m\u001b[43mfun_and_jac_kwargs\u001b[49m\u001b[38;5;241;43m=\u001b[39;49m\u001b[43mfun_and_jac_kwargs\u001b[49m\u001b[43m,\u001b[49m\n\u001b[1;32m    445\u001b[0m \u001b[43m        \u001b[49m\u001b[43mnumdiff_options\u001b[49m\u001b[38;5;241;43m=\u001b[39;49m\u001b[43mnumdiff_options\u001b[49m\u001b[43m,\u001b[49m\n\u001b[1;32m    446\u001b[0m \u001b[43m        \u001b[49m\u001b[43mlogging\u001b[49m\u001b[38;5;241;43m=\u001b[39;49m\u001b[43mlogging\u001b[49m\u001b[43m,\u001b[49m\n\u001b[1;32m    447\u001b[0m \u001b[43m        \u001b[49m\u001b[43merror_handling\u001b[49m\u001b[38;5;241;43m=\u001b[39;49m\u001b[43merror_handling\u001b[49m\u001b[43m,\u001b[49m\n\u001b[1;32m    448\u001b[0m \u001b[43m        \u001b[49m\u001b[43merror_penalty\u001b[49m\u001b[38;5;241;43m=\u001b[39;49m\u001b[43merror_penalty\u001b[49m\u001b[43m,\u001b[49m\n\u001b[1;32m    449\u001b[0m \u001b[43m        \u001b[49m\u001b[43mscaling\u001b[49m\u001b[38;5;241;43m=\u001b[39;49m\u001b[43mscaling\u001b[49m\u001b[43m,\u001b[49m\n\u001b[1;32m    450\u001b[0m \u001b[43m        \u001b[49m\u001b[43mmultistart\u001b[49m\u001b[38;5;241;43m=\u001b[39;49m\u001b[43mmultistart\u001b[49m\u001b[43m,\u001b[49m\n\u001b[1;32m    451\u001b[0m \u001b[43m        \u001b[49m\u001b[43mcollect_history\u001b[49m\u001b[38;5;241;43m=\u001b[39;49m\u001b[43mcollect_history\u001b[49m\u001b[43m,\u001b[49m\n\u001b[1;32m    452\u001b[0m \u001b[43m        \u001b[49m\u001b[43mskip_checks\u001b[49m\u001b[38;5;241;43m=\u001b[39;49m\u001b[43mskip_checks\u001b[49m\u001b[43m,\u001b[49m\n\u001b[1;32m    453\u001b[0m \u001b[43m        \u001b[49m\u001b[38;5;66;43;03m# scipy aliases\u001b[39;49;00m\n\u001b[1;32m    454\u001b[0m \u001b[43m        \u001b[49m\u001b[43mx0\u001b[49m\u001b[38;5;241;43m=\u001b[39;49m\u001b[43mx0\u001b[49m\u001b[43m,\u001b[49m\n\u001b[1;32m    455\u001b[0m \u001b[43m        \u001b[49m\u001b[43mmethod\u001b[49m\u001b[38;5;241;43m=\u001b[39;49m\u001b[43mmethod\u001b[49m\u001b[43m,\u001b[49m\n\u001b[1;32m    456\u001b[0m \u001b[43m        \u001b[49m\u001b[43margs\u001b[49m\u001b[38;5;241;43m=\u001b[39;49m\u001b[43margs\u001b[49m\u001b[43m,\u001b[49m\n\u001b[1;32m    457\u001b[0m \u001b[43m        \u001b[49m\u001b[38;5;66;43;03m# scipy arguments that are not yet supported\u001b[39;49;00m\n\u001b[1;32m    458\u001b[0m \u001b[43m        \u001b[49m\u001b[43mhess\u001b[49m\u001b[38;5;241;43m=\u001b[39;49m\u001b[43mhess\u001b[49m\u001b[43m,\u001b[49m\n\u001b[1;32m    459\u001b[0m \u001b[43m        \u001b[49m\u001b[43mhessp\u001b[49m\u001b[38;5;241;43m=\u001b[39;49m\u001b[43mhessp\u001b[49m\u001b[43m,\u001b[49m\n\u001b[1;32m    460\u001b[0m \u001b[43m        \u001b[49m\u001b[43mcallback\u001b[49m\u001b[38;5;241;43m=\u001b[39;49m\u001b[43mcallback\u001b[49m\u001b[43m,\u001b[49m\n\u001b[1;32m    461\u001b[0m \u001b[43m        \u001b[49m\u001b[38;5;66;43;03m# scipy arguments that will never be supported\u001b[39;49;00m\n\u001b[1;32m    462\u001b[0m \u001b[43m        \u001b[49m\u001b[43moptions\u001b[49m\u001b[38;5;241;43m=\u001b[39;49m\u001b[43moptions\u001b[49m\u001b[43m,\u001b[49m\n\u001b[1;32m    463\u001b[0m \u001b[43m        \u001b[49m\u001b[43mtol\u001b[49m\u001b[38;5;241;43m=\u001b[39;49m\u001b[43mtol\u001b[49m\u001b[43m,\u001b[49m\n\u001b[1;32m    464\u001b[0m \u001b[43m        \u001b[49m\u001b[38;5;66;43;03m# deprecated arguments\u001b[39;49;00m\n\u001b[1;32m    465\u001b[0m \u001b[43m        \u001b[49m\u001b[43mcriterion\u001b[49m\u001b[38;5;241;43m=\u001b[39;49m\u001b[43mcriterion\u001b[49m\u001b[43m,\u001b[49m\n\u001b[1;32m    466\u001b[0m \u001b[43m        \u001b[49m\u001b[43mcriterion_kwargs\u001b[49m\u001b[38;5;241;43m=\u001b[39;49m\u001b[43mcriterion_kwargs\u001b[49m\u001b[43m,\u001b[49m\n\u001b[1;32m    467\u001b[0m \u001b[43m        \u001b[49m\u001b[43mderivative\u001b[49m\u001b[38;5;241;43m=\u001b[39;49m\u001b[43mderivative\u001b[49m\u001b[43m,\u001b[49m\n\u001b[1;32m    468\u001b[0m \u001b[43m        \u001b[49m\u001b[43mderivative_kwargs\u001b[49m\u001b[38;5;241;43m=\u001b[39;49m\u001b[43mderivative_kwargs\u001b[49m\u001b[43m,\u001b[49m\n\u001b[1;32m    469\u001b[0m \u001b[43m        \u001b[49m\u001b[43mcriterion_and_derivative\u001b[49m\u001b[38;5;241;43m=\u001b[39;49m\u001b[43mcriterion_and_derivative\u001b[49m\u001b[43m,\u001b[49m\n\u001b[1;32m    470\u001b[0m \u001b[43m        \u001b[49m\u001b[43mcriterion_and_derivative_kwargs\u001b[49m\u001b[38;5;241;43m=\u001b[39;49m\u001b[43mcriterion_and_derivative_kwargs\u001b[49m\u001b[43m,\u001b[49m\n\u001b[1;32m    471\u001b[0m \u001b[43m        \u001b[49m\u001b[43mlower_bounds\u001b[49m\u001b[38;5;241;43m=\u001b[39;49m\u001b[43mlower_bounds\u001b[49m\u001b[43m,\u001b[49m\n\u001b[1;32m    472\u001b[0m \u001b[43m        \u001b[49m\u001b[43mlog_options\u001b[49m\u001b[38;5;241;43m=\u001b[39;49m\u001b[43mlog_options\u001b[49m\u001b[43m,\u001b[49m\n\u001b[1;32m    473\u001b[0m \u001b[43m        \u001b[49m\u001b[43mupper_bounds\u001b[49m\u001b[38;5;241;43m=\u001b[39;49m\u001b[43mupper_bounds\u001b[49m\u001b[43m,\u001b[49m\n\u001b[1;32m    474\u001b[0m \u001b[43m        \u001b[49m\u001b[43msoft_lower_bounds\u001b[49m\u001b[38;5;241;43m=\u001b[39;49m\u001b[43msoft_lower_bounds\u001b[49m\u001b[43m,\u001b[49m\n\u001b[1;32m    475\u001b[0m \u001b[43m        \u001b[49m\u001b[43msoft_upper_bounds\u001b[49m\u001b[38;5;241;43m=\u001b[39;49m\u001b[43msoft_upper_bounds\u001b[49m\u001b[43m,\u001b[49m\n\u001b[1;32m    476\u001b[0m \u001b[43m        \u001b[49m\u001b[43mscaling_options\u001b[49m\u001b[38;5;241;43m=\u001b[39;49m\u001b[43mscaling_options\u001b[49m\u001b[43m,\u001b[49m\n\u001b[1;32m    477\u001b[0m \u001b[43m        \u001b[49m\u001b[43mmultistart_options\u001b[49m\u001b[38;5;241;43m=\u001b[39;49m\u001b[43mmultistart_options\u001b[49m\u001b[43m,\u001b[49m\n\u001b[1;32m    478\u001b[0m \u001b[43m    \u001b[49m\u001b[43m)\u001b[49m\n\u001b[1;32m    479\u001b[0m     \u001b[38;5;28;01mreturn\u001b[39;00m _optimize(problem)\n",
      "File \u001b[0;32m~/Documents/optimagic/src/optimagic/optimization/create_optimization_problem.py:434\u001b[0m, in \u001b[0;36mcreate_optimization_problem\u001b[0;34m(direction, fun, params, algorithm, bounds, fun_kwargs, constraints, algo_options, jac, jac_kwargs, fun_and_jac, fun_and_jac_kwargs, numdiff_options, logging, error_handling, error_penalty, scaling, multistart, collect_history, skip_checks, x0, method, args, hess, hessp, callback, options, tol, criterion, criterion_kwargs, derivative, derivative_kwargs, criterion_and_derivative, criterion_and_derivative_kwargs, lower_bounds, log_options, upper_bounds, soft_lower_bounds, soft_upper_bounds, scaling_options, multistart_options)\u001b[0m\n\u001b[1;32m    432\u001b[0m \u001b[38;5;28;01melif\u001b[39;00m algorithm\u001b[38;5;241m.\u001b[39malgo_info\u001b[38;5;241m.\u001b[39msolver_type \u001b[38;5;241m==\u001b[39m AggregationLevel\u001b[38;5;241m.\u001b[39mLEAST_SQUARES:\n\u001b[1;32m    433\u001b[0m     \u001b[38;5;28;01mif\u001b[39;00m problem_type \u001b[38;5;241m!=\u001b[39m AggregationLevel\u001b[38;5;241m.\u001b[39mLEAST_SQUARES:\n\u001b[0;32m--> 434\u001b[0m         \u001b[38;5;28;01mraise\u001b[39;00m InvalidFunctionError(\n\u001b[1;32m    435\u001b[0m             \u001b[38;5;124m\"\u001b[39m\u001b[38;5;124mLeast-squares solvers can only be used with least-squares problems.\u001b[39m\u001b[38;5;124m\"\u001b[39m\n\u001b[1;32m    436\u001b[0m         )\n\u001b[1;32m    438\u001b[0m \u001b[38;5;66;03m# ==================================================================================\u001b[39;00m\n\u001b[1;32m    439\u001b[0m \u001b[38;5;66;03m# select the correct derivative functions\u001b[39;00m\n\u001b[1;32m    440\u001b[0m \u001b[38;5;66;03m# ==================================================================================\u001b[39;00m\n\u001b[1;32m    442\u001b[0m \u001b[38;5;28;01mif\u001b[39;00m jac \u001b[38;5;129;01mis\u001b[39;00m \u001b[38;5;129;01mnot\u001b[39;00m \u001b[38;5;28;01mNone\u001b[39;00m:\n",
      "\u001b[0;31mInvalidFunctionError\u001b[0m: Least-squares solvers can only be used with least-squares problems."
     ]
    }
   ],
   "source": [
    "@om.mark.least_squares\n",
    "def ls_sphere(params):\n",
    "    return params\n",
    "\n",
    "\n",
    "@om.mark.least_squares\n",
    "def ls_sphere_jac(params):\n",
    "    return np.eye(len(params))\n",
    "\n",
    "def sphere_gradient(x):\n",
    "    return 2*x\n",
    "\n",
    "res = om.minimize(\n",
    "    fun=ls_sphere,\n",
    "    params=np.arange(3),\n",
    "    algorithm=\"scipy_ls_lm\",\n",
    "    jac=ls_sphere_jac,\n",
    ")\n",
    "res.params.round(5)\n",
    "results = {}\n",
    "for algorithm in [\"scipy_ls_lm\"]:\n",
    "    results[algorithm] = om.minimize(\n",
    "        params=np.arange(5),\n",
    "        algorithm=algorithm,\n",
    "        fun_and_jac=lambda x:(x@x, 2*x),\n",
    "    )\n",
    "\n",
    "fig = om.criterion_plot(results)\n",
    "fig.show(renderer=\"png\")"
   ]
  },
  {
   "cell_type": "code",
   "execution_count": null,
   "id": "0381f9c7",
   "metadata": {},
   "outputs": [],
   "source": []
  }
 ],
 "metadata": {
  "kernelspec": {
   "display_name": "optimagic",
   "language": "python",
   "name": "python3"
  },
  "language_info": {
   "codemirror_mode": {
    "name": "ipython",
    "version": 3
   },
   "file_extension": ".py",
   "mimetype": "text/x-python",
   "name": "python",
   "nbconvert_exporter": "python",
   "pygments_lexer": "ipython3",
   "version": "3.10.16"
  }
 },
 "nbformat": 4,
 "nbformat_minor": 5
}
